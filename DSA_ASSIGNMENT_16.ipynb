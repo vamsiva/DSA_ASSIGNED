{
 "cells": [
  {
   "cell_type": "markdown",
   "id": "4f0a3d59",
   "metadata": {},
   "source": [
    "### **Question 1**\n",
    "\n",
    "Given an array, for each element find the value of the nearest element to the right which is having a frequency greater than that of the current element. If there does not exist an answer for a position, then make the value ‘-1’."
   ]
  },
  {
   "cell_type": "code",
   "execution_count": 1,
   "id": "1bb19ca5",
   "metadata": {},
   "outputs": [],
   "source": [
    "def nearestGreaterElement(arr):\n",
    "    frequency = {}\n",
    "    stack = []\n",
    "    n = len(arr)\n",
    "    result = []\n",
    "\n",
    "    for i in range(n - 1, -1, -1):\n",
    "        while stack and frequency.get(arr[stack[-1]], 0) <= frequency.get(arr[i], 0):\n",
    "            stack.pop()\n",
    "\n",
    "        if not stack:\n",
    "            result.append(-1)\n",
    "        else:\n",
    "            result.append(arr[stack[-1]])\n",
    "\n",
    "        frequency[arr[i]] = frequency.get(arr[i], 0) + 1\n",
    "        stack.append(i)\n",
    "\n",
    "    result.reverse()\n",
    "\n",
    "    return result"
   ]
  },
  {
   "cell_type": "code",
   "execution_count": 2,
   "id": "be5bd7e2",
   "metadata": {},
   "outputs": [
    {
     "data": {
      "text/plain": [
       "[-1, 2, -1, 4, 2, 1, -1]"
      ]
     },
     "execution_count": 2,
     "metadata": {},
     "output_type": "execute_result"
    }
   ],
   "source": [
    "nearestGreaterElement([1, 1, 2, 3, 4, 2, 1])"
   ]
  },
  {
   "cell_type": "markdown",
   "id": "77c506ef",
   "metadata": {},
   "source": [
    "### **Question 2**\n",
    "\n",
    "Given a stack of integers, sort it in ascending order using another temporary stack."
   ]
  },
  {
   "cell_type": "code",
   "execution_count": 3,
   "id": "675fd01f",
   "metadata": {},
   "outputs": [],
   "source": [
    "def sortStack(stack):\n",
    "    tempStack = []\n",
    "\n",
    "    while stack:\n",
    "        temp = stack.pop()\n",
    "\n",
    "        while tempStack and tempStack[-1] > temp:\n",
    "            stack.append(tempStack.pop())\n",
    "\n",
    "        tempStack.append(temp)\n",
    "\n",
    "    while tempStack:\n",
    "        stack.append(tempStack.pop())\n",
    "\n",
    "    return stack"
   ]
  },
  {
   "cell_type": "code",
   "execution_count": 4,
   "id": "5ecac4b0",
   "metadata": {},
   "outputs": [
    {
     "data": {
      "text/plain": [
       "[7, 5, 3, 2, 1]"
      ]
     },
     "execution_count": 4,
     "metadata": {},
     "output_type": "execute_result"
    }
   ],
   "source": [
    "sortStack([5, 2, 7, 1, 3])"
   ]
  },
  {
   "cell_type": "markdown",
   "id": "6b805ddf",
   "metadata": {},
   "source": [
    "### **Question 3**\n",
    "\n",
    "Given a stack with **push()**, **pop()**, and **empty()** operations, The task is to delete the **middle** element ****of it without using any additional data structure."
   ]
  },
  {
   "cell_type": "code",
   "execution_count": 5,
   "id": "aa34351b",
   "metadata": {},
   "outputs": [],
   "source": [
    "def deleteMiddle(stack):\n",
    "    n = len(stack)\n",
    "    mid = n // 2\n",
    "    tempStack = []\n",
    "\n",
    "    for i in range(mid):\n",
    "        tempStack.append(stack.pop())\n",
    "\n",
    "    stack.pop()\n",
    "\n",
    "    while tempStack:\n",
    "        stack.append(tempStack.pop())\n",
    "\n",
    "    return stack"
   ]
  },
  {
   "cell_type": "code",
   "execution_count": 6,
   "id": "b921a590",
   "metadata": {},
   "outputs": [
    {
     "data": {
      "text/plain": [
       "[1, 2, 4, 5]"
      ]
     },
     "execution_count": 6,
     "metadata": {},
     "output_type": "execute_result"
    }
   ],
   "source": [
    "deleteMiddle([1, 2, 3, 4, 5])"
   ]
  },
  {
   "cell_type": "markdown",
   "id": "40cf8aa4",
   "metadata": {},
   "source": [
    "###  **Question 4**\n",
    "\n",
    "Given a Queue consisting of first **n** natural numbers (in random order). The task is to check whether the given Queue elements can be arranged in increasing order in another Queue using a stack. The operation allowed are:\n",
    "\n",
    "1. Push and pop elements from the stack\n",
    "2. Pop (Or Dequeue) from the given Queue.\n",
    "3. Push (Or Enqueue) in the another Queue."
   ]
  },
  {
   "cell_type": "code",
   "execution_count": 9,
   "id": "f3c8c10a",
   "metadata": {},
   "outputs": [],
   "source": [
    "from queue import Queue\n",
    "\n",
    "def checkQueueOrder(queue):\n",
    "    stack = []\n",
    "    expected = 1\n",
    "\n",
    "    while not queue.empty():\n",
    "        if queue.queue[0] == expected:\n",
    "            queue.get()\n",
    "            expected += 1\n",
    "        elif stack and stack[-1] == expected:\n",
    "            stack.pop()\n",
    "            expected += 1\n",
    "        else:\n",
    "            stack.append(queue.get())\n",
    "\n",
    "    while stack:\n",
    "        if stack[-1] == expected:\n",
    "            stack.pop()\n",
    "            expected += 1\n",
    "        else:\n",
    "            break\n",
    "\n",
    "    return queue.empty() and not stack"
   ]
  },
  {
   "cell_type": "code",
   "execution_count": 10,
   "id": "084936c0",
   "metadata": {},
   "outputs": [
    {
     "name": "stdout",
     "output_type": "stream",
     "text": [
      "True\n"
     ]
    }
   ],
   "source": [
    "q = Queue()\n",
    "q.put(2)\n",
    "q.put(1)\n",
    "q.put(4)\n",
    "q.put(3)\n",
    "\n",
    "print(checkQueueOrder(q))  #"
   ]
  },
  {
   "cell_type": "markdown",
   "id": "646d5af1",
   "metadata": {},
   "source": [
    "### **Question 5**\n",
    "\n",
    "Given a number , write a program to reverse this number using stack."
   ]
  },
  {
   "cell_type": "code",
   "execution_count": 11,
   "id": "52c5c926",
   "metadata": {},
   "outputs": [],
   "source": [
    "def reverseNumber(num):\n",
    "    num_str = str(num)\n",
    "    stack = []\n",
    "\n",
    "    # Push each character onto the stack\n",
    "    for char in num_str:\n",
    "        stack.append(char)\n",
    "\n",
    "    reversed_str = ''\n",
    "    while stack:\n",
    "        reversed_str += stack.pop()\n",
    "\n",
    "    reversed_num = int(reversed_str)\n",
    "\n",
    "    return reversed_num"
   ]
  },
  {
   "cell_type": "code",
   "execution_count": 12,
   "id": "31896b9c",
   "metadata": {},
   "outputs": [
    {
     "data": {
      "text/plain": [
       "54321"
      ]
     },
     "execution_count": 12,
     "metadata": {},
     "output_type": "execute_result"
    }
   ],
   "source": [
    "reverseNumber(12345)"
   ]
  },
  {
   "cell_type": "markdown",
   "id": "d83cc037",
   "metadata": {},
   "source": [
    "###  **Question 6**\n",
    "\n",
    "Given an integer k and a **[queue](https://www.geeksforgeeks.org/queue-data-structure/)** of integers, The task is to reverse the order of the first **k** elements of the queue, leaving the other elements in the same relative order.\n",
    "\n",
    "Only following standard operations are allowed on queue.\n",
    "\n",
    "- **enqueue(x) :** Add an item x to rear of queue\n",
    "- **dequeue() :** Remove an item from front of queue\n",
    "- **size() :** Returns number of elements in queue.\n",
    "- **front() :** Finds front item."
   ]
  },
  {
   "cell_type": "code",
   "execution_count": 13,
   "id": "6aa8da3a",
   "metadata": {},
   "outputs": [],
   "source": [
    "from queue import Queue\n",
    "\n",
    "def reverseFirstK(queue, k):\n",
    "    stack = []\n",
    "    newQueue = Queue()\n",
    "\n",
    "    for _ in range(k):\n",
    "        stack.append(queue.get())\n",
    "\n",
    "    while stack:\n",
    "        newQueue.put(stack.pop())\n",
    "\n",
    "    while not queue.empty():\n",
    "        newQueue.put(queue.get())\n",
    "\n",
    "    return newQueue"
   ]
  },
  {
   "cell_type": "markdown",
   "id": "c82db5d7",
   "metadata": {},
   "source": [
    "### **Question 7**\n",
    "\n",
    "Given a sequence of n strings, the task is to check if any two similar words come together and then destroy each other then print the number of words left in the sequence after this pairwise destruction."
   ]
  },
  {
   "cell_type": "code",
   "execution_count": 14,
   "id": "e566c613",
   "metadata": {},
   "outputs": [],
   "source": [
    "def countRemainingWords(words):\n",
    "    stack = []\n",
    "\n",
    "    for word in words:\n",
    "        if stack and word == stack[-1]:\n",
    "            stack.pop()\n",
    "        else:\n",
    "            stack.append(word)\n",
    "\n",
    "    return len(stack)"
   ]
  },
  {
   "cell_type": "code",
   "execution_count": 16,
   "id": "c36ab2f0",
   "metadata": {},
   "outputs": [
    {
     "data": {
      "text/plain": [
       "9"
      ]
     },
     "execution_count": 16,
     "metadata": {},
     "output_type": "execute_result"
    }
   ],
   "source": [
    "countRemainingWords(\"ab aa aa bcd ab\")"
   ]
  },
  {
   "cell_type": "markdown",
   "id": "1291d736",
   "metadata": {},
   "source": [
    "### **Question 8**\n",
    "\n",
    "Given an array of integers, the task is to find the maximum absolute difference between the nearest left and the right smaller element of every element in the array."
   ]
  },
  {
   "cell_type": "code",
   "execution_count": 17,
   "id": "343cbada",
   "metadata": {},
   "outputs": [],
   "source": [
    "def maxDifference(arr):\n",
    "    n = len(arr)\n",
    "    leftNSE = [-1] * n\n",
    "    rightNSE = [-1] * n\n",
    "    stack = []\n",
    "\n",
    "    for i in range(n):\n",
    "        while stack and arr[stack[-1]] >= arr[i]:\n",
    "            rightNSE[stack.pop()] = i\n",
    "        stack.append(i)\n",
    "\n",
    "    while stack:\n",
    "        rightNSE[stack.pop()] = -1\n",
    "\n",
    "    for i in range(n - 1, -1, -1):\n",
    "        while stack and arr[stack[-1]] >= arr[i]:\n",
    "            leftNSE[stack.pop()] = i\n",
    "        stack.append(i)\n",
    "\n",
    "    while stack:\n",
    "        leftNSE[stack.pop()] = -1\n",
    "\n",
    "    maxDiff = 0\n",
    "\n",
    "    for i in range(n):\n",
    "        diff = abs(leftNSE[i] - rightNSE[i])\n",
    "        maxDiff = max(maxDiff, diff)\n",
    "\n",
    "    return maxDiff"
   ]
  },
  {
   "cell_type": "code",
   "execution_count": 18,
   "id": "7a2bffc2",
   "metadata": {},
   "outputs": [
    {
     "data": {
      "text/plain": [
       "2"
      ]
     },
     "execution_count": 18,
     "metadata": {},
     "output_type": "execute_result"
    }
   ],
   "source": [
    "maxDifference([2,1,8])"
   ]
  }
 ],
 "metadata": {
  "kernelspec": {
   "display_name": "Python 3 (ipykernel)",
   "language": "python",
   "name": "python3"
  },
  "language_info": {
   "codemirror_mode": {
    "name": "ipython",
    "version": 3
   },
   "file_extension": ".py",
   "mimetype": "text/x-python",
   "name": "python",
   "nbconvert_exporter": "python",
   "pygments_lexer": "ipython3",
   "version": "3.11.4"
  }
 },
 "nbformat": 4,
 "nbformat_minor": 5
}
