{
 "cells": [
  {
   "cell_type": "markdown",
   "id": "6e34e62c",
   "metadata": {},
   "source": [
    "### **Question 1**\n",
    "\n",
    "Given a linked list of **N** nodes such that it may contain a loop.\n",
    "\n",
    "A loop here means that the last node of the link list is connected to the node at position X(1-based index). If the link list does not have any loop, X=0.\n",
    "\n",
    "Remove the loop from the linked list, if it is present, i.e. unlink the last node which is forming the loop."
   ]
  },
  {
   "cell_type": "code",
   "execution_count": 1,
   "id": "9aa77610",
   "metadata": {},
   "outputs": [],
   "source": [
    "class ListNode:\n",
    "    def __init__(self, val=0, next=None):\n",
    "        self.val = val\n",
    "        self.next = next\n",
    "\n",
    "def detectAndRemoveLoop(head):\n",
    "    slow = head\n",
    "    fast = head\n",
    "\n",
    "    while fast and fast.next:\n",
    "        slow = slow.next\n",
    "        fast = fast.next.next\n",
    "        if slow == fast:\n",
    "            break\n",
    "    if slow != fast:\n",
    "        return\n",
    "\n",
    "    slow = head\n",
    "    while slow.next != fast.next:\n",
    "        slow = slow.next\n",
    "        fast = fast.next\n",
    "\n",
    "    fast.next = None\n",
    "\n",
    "    return head"
   ]
  },
  {
   "cell_type": "code",
   "execution_count": 2,
   "id": "ae2276f0",
   "metadata": {},
   "outputs": [
    {
     "name": "stdout",
     "output_type": "stream",
     "text": [
      "1 2 3 4 5 6 7 8 9 "
     ]
    }
   ],
   "source": [
    "node9 = ListNode(9)\n",
    "node8 = ListNode(8, node9)\n",
    "node7 = ListNode(7, node8)\n",
    "node6 = ListNode(6, node7)\n",
    "node5 = ListNode(5, node6)\n",
    "node4 = ListNode(4, node5)\n",
    "node3 = ListNode(3, node4)\n",
    "node2 = ListNode(2, node3)\n",
    "node1 = ListNode(1, node2)\n",
    "\n",
    "node9.next = node4\n",
    "\n",
    "result = detectAndRemoveLoop(node1)\n",
    "\n",
    "current = result\n",
    "while current:\n",
    "    print(current.val, end=' ')\n",
    "    current = current.next"
   ]
  },
  {
   "cell_type": "markdown",
   "id": "a9c2a11c",
   "metadata": {},
   "source": [
    "###  **Question 2**\n",
    "\n",
    "A number **N** is represented in Linked List such that each digit corresponds to a node in linked list. You need to add 1 to it."
   ]
  },
  {
   "cell_type": "code",
   "execution_count": 3,
   "id": "ade16856",
   "metadata": {},
   "outputs": [],
   "source": [
    "def addOne(head):\n",
    "    # Step 1: Reverse the linked list\n",
    "    prev = None\n",
    "    current = head\n",
    "\n",
    "    while current:\n",
    "        next_node = current.next\n",
    "        current.next = prev\n",
    "        prev = current\n",
    "        current = next_node\n",
    "\n",
    "    # Step 2: Add 1 to the first node\n",
    "    carry = 1\n",
    "    current = prev\n",
    "    while current:\n",
    "        sum = current.val + carry\n",
    "        current.val = sum % 10\n",
    "        carry = sum // 10\n",
    "        if carry == 0:\n",
    "            break\n",
    "        current = current.next\n",
    "\n",
    "    # Step 3: Reverse the modified linked list\n",
    "    prev = None\n",
    "    current = prev\n",
    "\n",
    "    while current:\n",
    "        next_node = current.next\n",
    "        current.next = prev\n",
    "        prev = current\n",
    "        current = next_node\n",
    "\n",
    "    return prev"
   ]
  },
  {
   "cell_type": "code",
   "execution_count": 4,
   "id": "7b5e0828",
   "metadata": {},
   "outputs": [],
   "source": [
    "node3 = ListNode(3)\n",
    "node2 = ListNode(2, node3)\n",
    "node1 = ListNode(1, node2)\n",
    "\n",
    "result = addOne(node1)\n",
    "\n",
    "current = result\n",
    "while current:\n",
    "    print(current.val, end=' ')\n",
    "    current = current.next"
   ]
  },
  {
   "cell_type": "code",
   "execution_count": 5,
   "id": "34b59907",
   "metadata": {},
   "outputs": [
    {
     "name": "stdout",
     "output_type": "stream",
     "text": [
      "None\n"
     ]
    }
   ],
   "source": [
    " print(result)"
   ]
  },
  {
   "cell_type": "markdown",
   "id": "8e751156",
   "metadata": {},
   "source": [
    "### **Question 3**\n",
    "\n",
    "Given a Linked List of size N, where every node represents a sub-linked-list and contains two pointers:(i) a **next** pointer to the next node,(ii) a **bottom** pointer to a linked list where this node is head.Each of the sub-linked-list is in sorted order.Flatten the Link List such that all the nodes appear in a single level while maintaining the sorted order. **Note:** The flattened list will be printed using the bottom pointer instead of next pointer."
   ]
  },
  {
   "cell_type": "code",
   "execution_count": 10,
   "id": "927e5c2d",
   "metadata": {},
   "outputs": [],
   "source": [
    "class ListNode:\n",
    "    def __init__(self, data):\n",
    "        self.data = data\n",
    "        self.next = None\n",
    "        self.bottom = None\n",
    "def mergeLists(a, b):\n",
    "    if a is None:\n",
    "        return b\n",
    "    if b is None:\n",
    "        return a\n",
    "\n",
    "    result = None\n",
    "\n",
    "    if a.data <= b.data:\n",
    "        result = a\n",
    "        result.bottom = mergeLists(a.bottom, b)\n",
    "    else:\n",
    "        result = b\n",
    "        result.bottom = mergeLists(a, b.bottom)\n",
    "\n",
    "    return result\n",
    "\n",
    "def flattenLinkedList(head):\n",
    "    if head is None or head.next is None:\n",
    "        return head\n",
    "\n",
    "    head.next = flattenLinkedList(head.next)\n",
    "\n",
    "    head = mergeLists(head, head.next)\n",
    "\n",
    "    return head"
   ]
  },
  {
   "cell_type": "code",
   "execution_count": 12,
   "id": "0604af05",
   "metadata": {},
   "outputs": [
    {
     "name": "stdout",
     "output_type": "stream",
     "text": [
      "5 10 28 19 7 30 8 20 22 35 50 40 45 "
     ]
    }
   ],
   "source": [
    "node45 = ListNode(45)\n",
    "node40 = ListNode(40)\n",
    "node50 = ListNode(50)\n",
    "node35 = ListNode(35)\n",
    "node22 = ListNode(22)\n",
    "node20 = ListNode(20)\n",
    "node8 = ListNode(8)\n",
    "node30 = ListNode(30)\n",
    "node7 = ListNode(7)\n",
    "node19 = ListNode(19)\n",
    "node28 = ListNode(28)\n",
    "node10 = ListNode(10)\n",
    "node5 = ListNode(5)\n",
    "\n",
    "node45.next = None\n",
    "node45.bottom = None\n",
    "node40.next = None\n",
    "node40.bottom = node45\n",
    "node50.next = None\n",
    "node50.bottom = node40\n",
    "node35.next = None\n",
    "node35.bottom = node50\n",
    "node22.next = None\n",
    "node22.bottom = node35\n",
    "node20.next = None\n",
    "node20.bottom = node22\n",
    "node8.next = None\n",
    "node8.bottom = node20\n",
    "node30.next = None\n",
    "node30.bottom = node8\n",
    "node7.next = None\n",
    "node7.bottom = node30\n",
    "node19.next = None\n",
    "node19.bottom = node7\n",
    "node28.next = None\n",
    "node28.bottom = node19\n",
    "node10.next = None\n",
    "node10.bottom = node28\n",
    "node5.next = None\n",
    "node5.bottom = node10\n",
    "\n",
    "# Call the flattenLinkedList function\n",
    "result = flattenLinkedList(node5)\n",
    "\n",
    "# Traverse and print the resulting flattened linked list\n",
    "current = result\n",
    "while current:\n",
    "    print(current.data, end=' ')\n",
    "    current = current.bottom"
   ]
  },
  {
   "cell_type": "markdown",
   "id": "43b1d4a6",
   "metadata": {},
   "source": [
    "### **Question 4**\n",
    "\n",
    "You are given a special linked list with **N** nodes where each node has a next pointer pointing to its next node. You are also given **M** random pointers, where you will be given **M** number of pairs denoting two nodes **a** and **b**  **i.e. a->arb = b** (arb is pointer to random node)**.**\n",
    "\n",
    "Construct a copy of the given list. The copy should consist of exactly **N** new nodes, where each new node has its value set to the value of its corresponding original node. Both the next and random pointer of the new nodes should point to new nodes in the copied list such that the pointers in the original list and copied list represent the same list state. None of the pointers in the new list should point to nodes in the original list."
   ]
  },
  {
   "cell_type": "code",
   "execution_count": 13,
   "id": "1824e952",
   "metadata": {},
   "outputs": [],
   "source": [
    "class Node:\n",
    "    def __init__(self, data):\n",
    "        self.data = data\n",
    "        self.next = None\n",
    "        self.random = None\n",
    "\n",
    "def copyRandomList(head):\n",
    "    if head is None:\n",
    "        return None\n",
    "\n",
    "    # Step 1: Create new nodes next to each corresponding original node\n",
    "    current = head\n",
    "    while current:\n",
    "        new_node = Node(current.data)\n",
    "        new_node.next = current.next\n",
    "        current.next = new_node\n",
    "        current = new_node.next\n",
    "\n",
    "    # Step 2: Set the random pointers of the new nodes\n",
    "    current = head\n",
    "    while current:\n",
    "        if current.random:\n",
    "            current.next.random = current.random.next\n",
    "        current = current.next.next\n",
    "\n",
    "    # Step 3: Separate the original and copied linked lists\n",
    "    original = head\n",
    "    copy = head.next\n",
    "    copy_head = copy\n",
    "\n",
    "    while original:\n",
    "        original.next = original.next.next\n",
    "        if copy.next:\n",
    "            copy.next = copy.next.next\n",
    "        original = original.next\n",
    "        copy = copy.next\n",
    "\n",
    "    # Step 4: Restore the original linked list\n",
    "    return copy_head"
   ]
  },
  {
   "cell_type": "code",
   "execution_count": 14,
   "id": "bfc00bab",
   "metadata": {},
   "outputs": [
    {
     "name": "stdout",
     "output_type": "stream",
     "text": [
      "Value: 1, Random Value: 3\n",
      "Value: 2, Random Value: 5\n",
      "Value: 3, Random Value: 2\n",
      "Value: 4, Random Value: 1\n",
      "Value: 5, Random Value: 4\n"
     ]
    }
   ],
   "source": [
    "# Create the linked list: 1 -> 2 -> 3 -> 4 -> 5\n",
    "node5 = Node(5)\n",
    "node4 = Node(4)\n",
    "node3 = Node(3)\n",
    "node2 = Node(2)\n",
    "node1 = Node(1)\n",
    "\n",
    "node1.next = node2\n",
    "node2.next = node3\n",
    "node3.next = node4\n",
    "node4.next = node5\n",
    "\n",
    "# Set the random pointers\n",
    "node1.random = node3\n",
    "node2.random = node5\n",
    "node3.random = node2\n",
    "node4.random = node1\n",
    "node5.random = node4\n",
    "\n",
    "# Call the copyRandomList function\n",
    "result = copyRandomList(node1)\n",
    "\n",
    "# Traverse and print the resulting copied linked list\n",
    "current = result\n",
    "while current:\n",
    "    print(f\"Value: {current.data}, Random Value: {current.random.data if current.random else None}\")\n",
    "    current = current.next\n"
   ]
  },
  {
   "cell_type": "markdown",
   "id": "f4e26133",
   "metadata": {},
   "source": [
    "### **Question 5**\n",
    "\n",
    "Given the `head` of a singly linked list, group all the nodes with odd indices together followed by the nodes with even indices, and return *the reordered list*.\n",
    "\n",
    "The **first** node is considered **odd**, and the **second** node is **even**, and so on.\n",
    "\n",
    "Note that the relative order inside both the even and odd groups should remain as it was in the input.\n",
    "\n",
    "You must solve the problem in `O(1)` extra space complexity and `O(n)` time complexity."
   ]
  },
  {
   "cell_type": "code",
   "execution_count": 15,
   "id": "d37f719d",
   "metadata": {},
   "outputs": [],
   "source": [
    "class ListNode:\n",
    "    def __init__(self, val=0, next=None):\n",
    "        self.val = val\n",
    "        self.next = next\n",
    "\n",
    "def oddEvenList(head):\n",
    "    if head is None or head.next is None:\n",
    "        return head\n",
    "\n",
    "    odd_head = head\n",
    "    even_head = head.next\n",
    "    odd = odd_head\n",
    "    even = even_head\n",
    "\n",
    "    while even and even.next:\n",
    "        odd.next = even.next\n",
    "        odd = odd.next\n",
    "        even.next = odd.next\n",
    "        even = even.next\n",
    "\n",
    "    odd.next = even_head\n",
    "\n",
    "    return odd_head\n"
   ]
  },
  {
   "cell_type": "code",
   "execution_count": 16,
   "id": "7d9c516b",
   "metadata": {},
   "outputs": [
    {
     "name": "stdout",
     "output_type": "stream",
     "text": [
      "1 3 5 2 4 "
     ]
    }
   ],
   "source": [
    "# Create the linked list: 1 -> 2 -> 3 -> 4 -> 5\n",
    "node5 = ListNode(5)\n",
    "node4 = ListNode(4, node5)\n",
    "node3 = ListNode(3, node4)\n",
    "node2 = ListNode(2, node3)\n",
    "node1 = ListNode(1, node2)\n",
    "\n",
    "result = oddEvenList(node1)\n",
    "\n",
    "current = result\n",
    "while current:\n",
    "    print(current.val, end=' ')\n",
    "    current = current.next\n"
   ]
  },
  {
   "cell_type": "markdown",
   "id": "fe354054",
   "metadata": {},
   "source": [
    "###  **Question 6**\n",
    "\n",
    "Given a singly linked list of size **N**. The task is to **left-shift** the linked list by **k** nodes, where **k** is a given positive integer smaller than or equal to length of the linked list."
   ]
  },
  {
   "cell_type": "code",
   "execution_count": 17,
   "id": "3492aa60",
   "metadata": {},
   "outputs": [],
   "source": [
    "class ListNode:\n",
    "    def __init__(self, val=0, next=None):\n",
    "        self.val = val\n",
    "        self.next = next\n",
    "\n",
    "def leftShiftLinkedList(head, k):\n",
    "    if head is None or head.next is None or k == 0:\n",
    "        return head\n",
    "    \n",
    "    length = 0\n",
    "    current = head\n",
    "    while current:\n",
    "        length += 1\n",
    "        current = current.next\n",
    "\n",
    "    k = k % length\n",
    "\n",
    "    if k == 0:\n",
    "        return head\n",
    "\n",
    "    kth_node = head\n",
    "    for _ in range(k - 1):\n",
    "        kth_node = kth_node.next\n",
    "\n",
    "    last_node = head\n",
    "    while last_node.next:\n",
    "        last_node = last_node.next\n",
    "\n",
    "    last_node.next = head\n",
    "\n",
    "    new_head = kth_node.next\n",
    "\n",
    "    kth_node.next = None\n",
    "\n",
    "    return new_head"
   ]
  },
  {
   "cell_type": "code",
   "execution_count": 18,
   "id": "f3107325",
   "metadata": {},
   "outputs": [
    {
     "name": "stdout",
     "output_type": "stream",
     "text": [
      "3 4 5 1 2 "
     ]
    }
   ],
   "source": [
    "node5 = ListNode(5)\n",
    "node4 = ListNode(4, node5)\n",
    "node3 = ListNode(3, node4)\n",
    "node2 = ListNode(2, node3)\n",
    "node1 = ListNode(1, node2)\n",
    "\n",
    "# Call the leftShiftLinkedList function with k = 2\n",
    "result = leftShiftLinkedList(node1, 2)\n",
    "\n",
    "# Traverse and print the resulting left-shifted linked list\n",
    "current = result\n",
    "while current:\n",
    "    print(current.val, end=' ')\n",
    "    current = current.next"
   ]
  },
  {
   "cell_type": "markdown",
   "id": "41ba0b04",
   "metadata": {},
   "source": [
    "###  **Question 7**\n",
    "\n",
    "You are given the `head` of a linked list with `n` nodes.\n",
    "\n",
    "For each node in the list, find the value of the **next greater node**. That is, for each node, find the value of the first node that is next to it and has a **strictly larger** value than it.\n",
    "\n",
    "Return an integer array `answer` where `answer[i]` is the value of the next greater node of the `ith` node (**1-indexed**). If the `ith` node does not have a next greater node, set `answer[i] = 0`."
   ]
  },
  {
   "cell_type": "code",
   "execution_count": 21,
   "id": "f064f7c4",
   "metadata": {},
   "outputs": [],
   "source": [
    "class ListNode:\n",
    "    def __init__(self, val=0, next=None):\n",
    "        self.val = val\n",
    "        self.next = next\n",
    "\n",
    "def nextLargerNodes(head):\n",
    "    arr = []\n",
    "    current = head\n",
    "    while current:\n",
    "        arr.append(current.val)\n",
    "        current = current.next\n",
    "\n",
    "    n = len(arr)\n",
    "    answer = [0] * n\n",
    "    stack = []\n",
    "\n",
    "    for i in range(n - 1, -1, -1):\n",
    "        while stack and arr[i] >= arr[stack[-1]]:\n",
    "            stack.pop()\n",
    "\n",
    "        if stack:\n",
    "            answer[i] = arr[stack[-1]]\n",
    "\n",
    "        stack.append(i)\n",
    "\n",
    "    return answer"
   ]
  },
  {
   "cell_type": "code",
   "execution_count": 22,
   "id": "fbb1885b",
   "metadata": {},
   "outputs": [
    {
     "name": "stdout",
     "output_type": "stream",
     "text": [
      "[7, 0, 5, 5, 0]\n"
     ]
    }
   ],
   "source": [
    "node5 = ListNode(5)\n",
    "node4 = ListNode(3, node5)\n",
    "node3 = ListNode(4, node4)\n",
    "node2 = ListNode(7, node3)\n",
    "node1 = ListNode(2, node2)\n",
    "\n",
    "result = nextLargerNodes(node1)\n",
    "\n",
    "print(result)"
   ]
  },
  {
   "cell_type": "markdown",
   "id": "1caf5d35",
   "metadata": {},
   "source": [
    "### **Question 8**\n",
    "\n",
    "Given the `head` of a linked list, we repeatedly delete consecutive sequences of nodes that sum to `0` until there are no such sequences.\n",
    "\n",
    "After doing so, return the head of the final linked list.  You may return any such answer.\n",
    "\n",
    "(Note that in the examples below, all sequences are serializations of `ListNode` objects.)"
   ]
  },
  {
   "cell_type": "code",
   "execution_count": 23,
   "id": "aac6fed6",
   "metadata": {},
   "outputs": [],
   "source": [
    "class ListNode:\n",
    "    def __init__(self, val=0, next=None):\n",
    "        self.val = val\n",
    "        self.next = next\n",
    "\n",
    "def removeZeroSumSublists(head):\n",
    "    dummy = ListNode(0)\n",
    "    dummy.next = head\n",
    "\n",
    "    prefix_sum = 0\n",
    "    prefix_sum_dict = {0: dummy}\n",
    "\n",
    "    current = dummy.next\n",
    "\n",
    "    while current:\n",
    "        prefix_sum += current.val\n",
    "\n",
    "        if prefix_sum in prefix_sum_dict:\n",
    "            prev = prefix_sum_dict[prefix_sum]\n",
    "            prev.next = current.next\n",
    "            prefix_sum_dict = {key: node for key, node in prefix_sum_dict.items() if node.next is not None}\n",
    "        else:\n",
    "            prefix_sum_dict[prefix_sum] = current\n",
    "\n",
    "        current = current.next\n",
    "\n",
    "    return dummy.next"
   ]
  },
  {
   "cell_type": "code",
   "execution_count": 24,
   "id": "81e21206",
   "metadata": {},
   "outputs": [
    {
     "name": "stdout",
     "output_type": "stream",
     "text": [
      "2 1 1 -3 "
     ]
    }
   ],
   "source": [
    "node_minus3 = ListNode(-3)\n",
    "node_11 = ListNode(1, node_minus3)\n",
    "node_12 = ListNode(1, node_11)\n",
    "node_2 = ListNode(2, node_12)\n",
    "node_minus7 = ListNode(-7, node_2)\n",
    "node_4 = ListNode(4, node_minus7)\n",
    "node_3 = ListNode(3, node_4)\n",
    "\n",
    "result = removeZeroSumSublists(node_3)\n",
    "\n",
    "current = result\n",
    "while current:\n",
    "    print(current.val, end=' ')\n",
    "    current = current.next\n"
   ]
  }
 ],
 "metadata": {
  "kernelspec": {
   "display_name": "Python 3 (ipykernel)",
   "language": "python",
   "name": "python3"
  },
  "language_info": {
   "codemirror_mode": {
    "name": "ipython",
    "version": 3
   },
   "file_extension": ".py",
   "mimetype": "text/x-python",
   "name": "python",
   "nbconvert_exporter": "python",
   "pygments_lexer": "ipython3",
   "version": "3.11.4"
  }
 },
 "nbformat": 4,
 "nbformat_minor": 5
}
