{
 "cells": [
  {
   "cell_type": "markdown",
   "id": "38f7eb25",
   "metadata": {},
   "source": [
    "### **Question 1**\n",
    "\n",
    "Given two linked list of the same size, the task is to create a new linked list using those linked lists. The condition is that the greater node among both linked list will be added to the new linked list."
   ]
  },
  {
   "cell_type": "code",
   "execution_count": 16,
   "id": "9b4ef9b0",
   "metadata": {},
   "outputs": [],
   "source": [
    "class ListNode:\n",
    "    def __init__(self, val=0, next=None):\n",
    "        self.val = val\n",
    "        self.next = next\n",
    "        self.next = None"
   ]
  },
  {
   "cell_type": "code",
   "execution_count": 2,
   "id": "ba63be39",
   "metadata": {},
   "outputs": [],
   "source": [
    "def mergeLinkedLists(list1, list2):\n",
    "    if list1 is None:\n",
    "        return list2\n",
    "    if list2 is None:\n",
    "        return list1\n",
    "\n",
    "    result_head = None\n",
    "    result_tail = None\n",
    "\n",
    "    while list1 and list2:\n",
    "        if list1.val >= list2.val:\n",
    "            new_node = ListNode(list1.val)\n",
    "            list1 = list1.next\n",
    "        else:\n",
    "            new_node = ListNode(list2.val)\n",
    "            list2 = list2.next\n",
    "\n",
    "        if result_head is None:\n",
    "            result_head = new_node\n",
    "            result_tail = new_node\n",
    "        else:\n",
    "            result_tail.next = new_node\n",
    "            result_tail = result_tail.next\n",
    "\n",
    "    if list1:\n",
    "        result_tail.next = list1\n",
    "    if list2:\n",
    "        result_tail.next = list2\n",
    "\n",
    "    return result_head"
   ]
  },
  {
   "cell_type": "code",
   "execution_count": 3,
   "id": "c2943d32",
   "metadata": {},
   "outputs": [
    {
     "name": "stdout",
     "output_type": "stream",
     "text": [
      "2 4 6 8 10 1 3 5 7 9 "
     ]
    }
   ],
   "source": [
    "# Create the first linked list: 1->3->5->7->9\n",
    "node9 = ListNode(9)\n",
    "node7 = ListNode(7, node9)\n",
    "node5 = ListNode(5, node7)\n",
    "node3 = ListNode(3, node5)\n",
    "node1 = ListNode(1, node3)\n",
    "\n",
    "# Create the second linked list: 2->4->6->8->10\n",
    "node10 = ListNode(10)\n",
    "node8 = ListNode(8, node10)\n",
    "node6 = ListNode(6, node8)\n",
    "node4 = ListNode(4, node6)\n",
    "node2 = ListNode(2, node4)\n",
    "\n",
    "# Call the mergeLinkedLists function\n",
    "result = mergeLinkedLists(node1, node2)\n",
    "\n",
    "# Traverse and print the resulting linked list\n",
    "current = result\n",
    "while current:\n",
    "    print(current.val, end=' ')\n",
    "    current = current.next"
   ]
  },
  {
   "cell_type": "markdown",
   "id": "c369ca34",
   "metadata": {},
   "source": [
    "###  **Question 2**\n",
    "\n",
    "Write a function that takes a list sorted in non-decreasing order and deletes any duplicate nodes from the list. The list should only be traversed once.\n",
    "\n",
    "For example if the linked list is 11->11->11->21->43->43->60 then removeDuplicates() should convert the list to 11->21->43->60."
   ]
  },
  {
   "cell_type": "code",
   "execution_count": 4,
   "id": "927df1d5",
   "metadata": {},
   "outputs": [],
   "source": [
    "def removeDuplicates(head):\n",
    "    if head is None or head.next is None:\n",
    "        return head\n",
    "\n",
    "    current = head\n",
    "\n",
    "    while current.next:\n",
    "        if current.val == current.next.val:\n",
    "            current.next = current.next.next\n",
    "        else:\n",
    "            current = current.next\n",
    "\n",
    "    return head"
   ]
  },
  {
   "cell_type": "code",
   "execution_count": 5,
   "id": "88c1df66",
   "metadata": {},
   "outputs": [
    {
     "name": "stdout",
     "output_type": "stream",
     "text": [
      "11 21 43 60 "
     ]
    }
   ],
   "source": [
    "node7 = ListNode(60)\n",
    "node6 = ListNode(43, node7)\n",
    "node5 = ListNode(43, node6)\n",
    "node4 = ListNode(21, node5)\n",
    "node3 = ListNode(11, node4)\n",
    "node2 = ListNode(11, node3)\n",
    "node1 = ListNode(11, node2)\n",
    "\n",
    "result = removeDuplicates(node1)\n",
    "\n",
    "current = result\n",
    "while current:\n",
    "    print(current.val, end=' ')\n",
    "    current = current.next"
   ]
  },
  {
   "cell_type": "markdown",
   "id": "4270fb0d",
   "metadata": {},
   "source": [
    "###  **Question 3**\n",
    "\n",
    "Given a linked list of size **N**. The task is to reverse every **k** nodes (where k is an input to the function) in the linked list. If the number of nodes is not a multiple of *k* then left-out nodes, in the end, should be considered as a group and must be reversed"
   ]
  },
  {
   "cell_type": "code",
   "execution_count": 6,
   "id": "d31372a7",
   "metadata": {},
   "outputs": [],
   "source": [
    "\n",
    "def reverseKGroup(head, k):\n",
    "    def reverseLinkedList(head):\n",
    "        prev = None\n",
    "        current = head\n",
    "\n",
    "        while current:\n",
    "            next_node = current.next\n",
    "            current.next = prev\n",
    "            prev = current\n",
    "            current = next_node\n",
    "\n",
    "        return prev\n",
    "\n",
    "    if head is None or k <= 1:\n",
    "        return head\n",
    "\n",
    "    dummy = ListNode(0)\n",
    "    dummy.next = head\n",
    "    prev = dummy\n",
    "    current = head\n",
    "    count = 0\n",
    "\n",
    "    while current:\n",
    "        count += 1\n",
    "\n",
    "        if count % k == 0:\n",
    "            next_group = current.next\n",
    "            current.next = None\n",
    "\n",
    "            prev.next = reverseLinkedList(head)\n",
    "            head.next = next_group\n",
    "\n",
    "            prev = head\n",
    "            head = next_group\n",
    "            current = next_group\n",
    "        else:\n",
    "            current = current.next\n",
    "\n",
    "    if count % k != 0:\n",
    "        prev.next = reverseLinkedList(head)\n",
    "\n",
    "    return dummy.next"
   ]
  },
  {
   "cell_type": "code",
   "execution_count": 7,
   "id": "c25616a4",
   "metadata": {},
   "outputs": [
    {
     "name": "stdout",
     "output_type": "stream",
     "text": [
      "3 2 1 6 5 4 9 8 7 "
     ]
    }
   ],
   "source": [
    "node9 = ListNode(9)\n",
    "node8 = ListNode(8, node9)\n",
    "node7 = ListNode(7, node8)\n",
    "node6 = ListNode(6, node7)\n",
    "node5 = ListNode(5, node6)\n",
    "node4 = ListNode(4, node5)\n",
    "node3 = ListNode(3, node4)\n",
    "node2 = ListNode(2, node3)\n",
    "node1 = ListNode(1, node2)\n",
    "\n",
    "k = 3\n",
    "result = reverseKGroup(node1, k)\n",
    "\n",
    "current = result\n",
    "while current:\n",
    "    print(current.val, end=' ')\n",
    "    current = current.next"
   ]
  },
  {
   "cell_type": "markdown",
   "id": "794e6414",
   "metadata": {},
   "source": [
    "### **Question 4**\n",
    "\n",
    "Given a linked list, write a function to reverse every alternate k nodes (where k is an input to the function) in an efficient way. Give the complexity of your algorithm."
   ]
  },
  {
   "cell_type": "code",
   "execution_count": 10,
   "id": "55c0402c",
   "metadata": {},
   "outputs": [],
   "source": [
    "def reverseAlternateKNodes(head, k):\n",
    "    if head is None or head.next is None or k <= 1:\n",
    "        return head\n",
    "\n",
    "    def reverseLinkedList(head, count):\n",
    "        prev = None\n",
    "        current = head\n",
    "\n",
    "        for _ in range(count):\n",
    "            next_node = current.next\n",
    "            current.next = prev\n",
    "            prev = current\n",
    "            current = next_node\n",
    "\n",
    "        head.next = current\n",
    "\n",
    "        return prev\n",
    "\n",
    "    dummy = ListNode(0)\n",
    "    dummy.next = head\n",
    "    prev = dummy\n",
    "    current = head\n",
    "    count = 1\n",
    "\n",
    "    while current:\n",
    "        if count % (2 * k) == 0:\n",
    "            prev.next = reverseLinkedList(current, k)\n",
    "            prev = current\n",
    "            current = prev.next\n",
    "        else:\n",
    "            prev = current\n",
    "            current = current.next\n",
    "\n",
    "        count += 1\n",
    "\n",
    "    return dummy.next"
   ]
  },
  {
   "cell_type": "markdown",
   "id": "322f5536",
   "metadata": {},
   "source": [
    "Time complexity of algorithm will be O(n)"
   ]
  },
  {
   "cell_type": "code",
   "execution_count": 17,
   "id": "e0529b2b",
   "metadata": {},
   "outputs": [
    {
     "name": "stdout",
     "output_type": "stream",
     "text": [
      "1 "
     ]
    }
   ],
   "source": [
    "node9 = ListNode(9)\n",
    "node8 = ListNode(8, node9)\n",
    "node7 = ListNode(7, node8)\n",
    "node6 = ListNode(6, node7)\n",
    "node5 = ListNode(5, node6)\n",
    "node4 = ListNode(4, node5)\n",
    "node3 = ListNode(3, node4)\n",
    "node2 = ListNode(2, node3)\n",
    "node1 = ListNode(1, node2)\n",
    "\n",
    "\n",
    "k = 2\n",
    "result = reverseAlternateKNodes(node1, k)\n",
    "\n",
    "current = result\n",
    "while current:\n",
    "    print(current.val, end=' ')\n",
    "    current = current.next"
   ]
  },
  {
   "cell_type": "markdown",
   "id": "47bcae49",
   "metadata": {},
   "source": [
    "### **Question 5**\n",
    "\n",
    "Given a linked list and a key to be deleted. Delete last occurrence of key from linked. The list may have duplicates."
   ]
  },
  {
   "cell_type": "code",
   "execution_count": 12,
   "id": "26eee7ab",
   "metadata": {},
   "outputs": [],
   "source": [
    "def deleteLastOccurrence(head, key):\n",
    "    if head is None:\n",
    "        return None\n",
    "\n",
    "    dummy = ListNode(0)\n",
    "    dummy.next = head\n",
    "    prev = dummy\n",
    "    current = head\n",
    "    target = None\n",
    "    found = False\n",
    "\n",
    "    while current:\n",
    "        if current.val == key:\n",
    "            target = prev\n",
    "            found = True\n",
    "        prev = current\n",
    "        current = current.next\n",
    "\n",
    "    if found:\n",
    "        target.next = target.next.next\n",
    "\n",
    "    return dummy.next"
   ]
  },
  {
   "cell_type": "code",
   "execution_count": 13,
   "id": "05caeb26",
   "metadata": {},
   "outputs": [
    {
     "name": "stdout",
     "output_type": "stream",
     "text": [
      "1 3 2 4 5 "
     ]
    }
   ],
   "source": [
    "node5 = ListNode(5)\n",
    "node4 = ListNode(2, node5)\n",
    "node3 = ListNode(4, node4)\n",
    "node2 = ListNode(2, node3)\n",
    "node1 = ListNode(3, node2)\n",
    "head = ListNode(1, node1)\n",
    "\n",
    "key = 2\n",
    "result = deleteLastOccurrence(head, key)\n",
    "\n",
    "current = result\n",
    "while current:\n",
    "    print(current.val, end=' ')\n",
    "    current = current.next"
   ]
  },
  {
   "cell_type": "markdown",
   "id": "21d8770b",
   "metadata": {},
   "source": [
    "### **Question 6**\n",
    "\n",
    "Given two sorted linked lists consisting of **N** and **M** nodes respectively. The task is to merge both of the lists (in place) and return the head of the merged list."
   ]
  },
  {
   "cell_type": "code",
   "execution_count": 14,
   "id": "ca126d84",
   "metadata": {},
   "outputs": [],
   "source": [
    "def mergeTwoLists(l1, l2):\n",
    "    if l1 is None:\n",
    "        return l2\n",
    "    if l2 is None:\n",
    "        return l1\n",
    "\n",
    "    if l1.val <= l2.val:\n",
    "        head = l1\n",
    "        l1 = l1.next\n",
    "    else:\n",
    "        head = l2\n",
    "        l2 = l2.next\n",
    "\n",
    "    current = head\n",
    "\n",
    "    while l1 and l2:\n",
    "        if l1.val <= l2.val:\n",
    "            current.next = l1\n",
    "            l1 = l1.next\n",
    "        else:\n",
    "            current.next = l2\n",
    "            l2 = l2.next\n",
    "        current = current.next\n",
    "\n",
    "    if l1:\n",
    "        current.next = l1\n",
    "    if l2:\n",
    "        current.next = l2\n",
    "\n",
    "    return head"
   ]
  },
  {
   "cell_type": "code",
   "execution_count": 15,
   "id": "ce07e275",
   "metadata": {},
   "outputs": [
    {
     "name": "stdout",
     "output_type": "stream",
     "text": [
      "1 2 3 4 5 6 7 8 9 10 "
     ]
    }
   ],
   "source": [
    "node9 = ListNode(9)\n",
    "node7 = ListNode(7, node9)\n",
    "node5 = ListNode(5, node7)\n",
    "node3 = ListNode(3, node5)\n",
    "node1 = ListNode(1, node3)\n",
    "\n",
    "\n",
    "node10 = ListNode(10)\n",
    "node8 = ListNode(8, node10)\n",
    "node6 = ListNode(6, node8)\n",
    "node4 = ListNode(4, node6)\n",
    "node2 = ListNode(2, node4)\n",
    "\n",
    "# Call the mergeTwoLists function\n",
    "result = mergeTwoLists(node1, node2)\n",
    "\n",
    "# Traverse and print the resulting merged linked list\n",
    "current = result\n",
    "while current:\n",
    "    print(current.val, end=' ')\n",
    "    current = current.next"
   ]
  },
  {
   "cell_type": "markdown",
   "id": "35307b99",
   "metadata": {},
   "source": [
    "### **Question 7**\n",
    "\n",
    "Given a **Doubly Linked List**, the task is to reverse the given Doubly Linked List."
   ]
  },
  {
   "cell_type": "code",
   "execution_count": 24,
   "id": "3956a285",
   "metadata": {},
   "outputs": [],
   "source": [
    "class Node:\n",
    "    def __init__(self, data):\n",
    "        self.data = data\n",
    "        self.prev = None\n",
    "        self.next = None\n",
    "def reverseDoublyLinkedList(head):\n",
    "    if head is None or head.next is None:\n",
    "        return head\n",
    "\n",
    "    current = head\n",
    "    prev = None\n",
    "\n",
    "    while current:\n",
    "  \n",
    "        prev = current.prev\n",
    "        current.prev = current.next\n",
    "        current.next = prev\n",
    "\n",
    "        current = current.prev\n",
    "\n",
    "    head = prev.prev\n",
    "\n",
    "    return head"
   ]
  },
  {
   "cell_type": "code",
   "execution_count": 25,
   "id": "7f9d7d0a",
   "metadata": {},
   "outputs": [
    {
     "name": "stdout",
     "output_type": "stream",
     "text": [
      "5 4 3 2 1 "
     ]
    }
   ],
   "source": [
    "# Create the doubly linked list: 1 <-> 2 <-> 3 <-> 4 <-> 5\n",
    "node5 = Node(5)\n",
    "node4 = Node(4)\n",
    "node3 = Node(3)\n",
    "node2 = Node(2)\n",
    "node1 = Node(1)\n",
    "\n",
    "node1.next = node2\n",
    "node2.prev = node1\n",
    "node2.next = node3\n",
    "node3.prev = node2\n",
    "node3.next = node4\n",
    "node4.prev = node3\n",
    "node4.next = node5\n",
    "node5.prev = node4\n",
    "\n",
    "result = reverseDoublyLinkedList(node1)\n",
    "\n",
    "current = result\n",
    "while current:\n",
    "    print(current.data, end=' ')\n",
    "    current = current.next"
   ]
  },
  {
   "cell_type": "markdown",
   "id": "f366c61c",
   "metadata": {},
   "source": [
    "### **Question 8**\n",
    "\n",
    "Given a doubly linked list and a position. The task is to delete a node from given position in a doubly linked list."
   ]
  },
  {
   "cell_type": "code",
   "execution_count": 26,
   "id": "c35bf1ec",
   "metadata": {},
   "outputs": [],
   "source": [
    "def deleteNode(head, position):\n",
    "    if head is None:\n",
    "        return head\n",
    "\n",
    "\n",
    "    if position == 0:\n",
    "        head = head.next\n",
    "        if head:\n",
    "            head.prev = None\n",
    "        return head\n",
    "    current = head\n",
    "    count = 0\n",
    "\n",
    "    while current and count < position:\n",
    "        current = current.next\n",
    "        count += 1\n",
    "\n",
    "    if current is None:\n",
    "        return head\n",
    "\n",
    "    if current.prev:\n",
    "        current.prev.next = current.next\n",
    "    if current.next:\n",
    "        current.next.prev = current.prev\n",
    "\n",
    "    return head"
   ]
  },
  {
   "cell_type": "code",
   "execution_count": 27,
   "id": "9d2ebeb8",
   "metadata": {},
   "outputs": [
    {
     "name": "stdout",
     "output_type": "stream",
     "text": [
      "1 2 4 5 "
     ]
    }
   ],
   "source": [
    "node5 = Node(5)\n",
    "node4 = Node(4)\n",
    "node3 = Node(3)\n",
    "node2 = Node(2)\n",
    "node1 = Node(1)\n",
    "\n",
    "node1.next = node2\n",
    "node2.prev = node1\n",
    "node2.next = node3\n",
    "node3.prev = node2\n",
    "node3.next = node4\n",
    "node4.prev = node3\n",
    "node4.next = node5\n",
    "node5.prev = node4\n",
    "\n",
    "# Call the deleteNode function to delete the node at position 2\n",
    "position = 2\n",
    "result = deleteNode(node1, position)\n",
    "\n",
    "# Traverse and print the resulting doubly linked list\n",
    "current = result\n",
    "while current:\n",
    "    print(current.data, end=' ')\n",
    "    current = current.next"
   ]
  }
 ],
 "metadata": {
  "kernelspec": {
   "display_name": "Python 3 (ipykernel)",
   "language": "python",
   "name": "python3"
  },
  "language_info": {
   "codemirror_mode": {
    "name": "ipython",
    "version": 3
   },
   "file_extension": ".py",
   "mimetype": "text/x-python",
   "name": "python",
   "nbconvert_exporter": "python",
   "pygments_lexer": "ipython3",
   "version": "3.11.4"
  }
 },
 "nbformat": 4,
 "nbformat_minor": 5
}
