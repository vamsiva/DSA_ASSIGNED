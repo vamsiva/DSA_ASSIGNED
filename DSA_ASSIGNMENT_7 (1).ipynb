{
 "cells": [
  {
   "cell_type": "markdown",
   "id": "dce264da-e872-40e2-b8d4-e1a4680aa9a7",
   "metadata": {},
   "source": [
    "<aside>\n",
    "💡 **Question 1**\n",
    "\n",
    "Given two strings s and t, *determine if they are isomorphic*.\n",
    "\n",
    "Two strings s and t are isomorphic if the characters in s can be replaced to get t.\n",
    "\n",
    "All occurrences of a character must be replaced with another character while preserving the order of characters. No two characters may map to the same character, but a character may map to itself.\n",
    "\n",
    "**Example 1:**\n",
    "\n",
    "**Input:** s = \"egg\", t = \"add\"\n",
    "\n",
    "**Output:** true\n",
    "\n",
    "</aside>"
   ]
  },
  {
   "cell_type": "code",
   "execution_count": 5,
   "id": "c9c50e00-f7b9-406d-8db3-ee8822883b43",
   "metadata": {},
   "outputs": [
    {
     "name": "stdout",
     "output_type": "stream",
     "text": [
      "true\n"
     ]
    }
   ],
   "source": [
    "s = \"egg\"\n",
    "t = \"add\"\n",
    "list1=[]\n",
    "list2=[]\n",
    "#Here we can see that from the below itteration the starting index of the letter will be returned in the index() so when we append the both the lists should contain the same list \n",
    "for i in s:\n",
    "    list1.append(s.index(i))\n",
    "for j in t:\n",
    "    list2.append(t.index(j))\n",
    "if list1==list2:\n",
    "    print(\"true\")\n",
    "else:\n",
    "    print(\"false\")"
   ]
  },
  {
   "cell_type": "markdown",
   "id": "a8744fac-a1ce-4b4f-8c7e-fd029be6d81d",
   "metadata": {},
   "source": [
    "<aside>\n",
    "💡 **Question 2**\n",
    "\n",
    "Given a string num which represents an integer, return true *if* num *is a **strobogrammatic number***.\n",
    "\n",
    "A **strobogrammatic number** is a number that looks the same when rotated 180 degrees (looked at upside down).\n",
    "\n",
    "**Example 1:**\n",
    "\n",
    "**Input:** num = \"69\"\n",
    "\n",
    "**Output:**\n",
    "\n",
    "true\n",
    "\n",
    "</aside>"
   ]
  },
  {
   "cell_type": "code",
   "execution_count": 34,
   "id": "a87b4c7b-c30a-4cb0-8486-1c93aa3895d5",
   "metadata": {},
   "outputs": [
    {
     "name": "stdout",
     "output_type": "stream",
     "text": [
      "False\n"
     ]
    }
   ],
   "source": [
    "num=\"69\"\n",
    "def strob(num):\n",
    "    st={\n",
    "        '0':'0',\n",
    "        '1':'1',\n",
    "        '8':'8',\n",
    "        '6':'9',\n",
    "        '9':'6'\n",
    "    }\n",
    "    l=0\n",
    "    r=len(num)\n",
    "    if len(num)==1:\n",
    "        print('hi')\n",
    "        return(num in ['0','1','8'])\n",
    "    else:\n",
    "        while(l<=r):\n",
    "            if st[num[l]]==r:\n",
    "                l+=1\n",
    "                r-=1\n",
    "                print(l,r)\n",
    "            else:\n",
    "                return(\"False\")\n",
    "        return('Talse')\n",
    "print(strob(num))\n",
    "\n"
   ]
  },
  {
   "cell_type": "markdown",
   "id": "fa564938-15db-4c4a-82a1-418498dc5590",
   "metadata": {},
   "source": [
    "<aside>\n",
    "💡 **Question 3**\n",
    "\n",
    "Given two non-negative integers, num1 and num2 represented as string, return *the sum of* num1 *and* num2 *as a string*.\n",
    "\n",
    "You must solve the problem without using any built-in library for handling large integers (such as BigInteger). You must also not convert the inputs to integers directly.\n",
    "\n",
    "**Example 1:**\n",
    "\n",
    "**Input:** num1 = \"11\", num2 = \"123\"\n",
    "\n",
    "**Output:**\n",
    "\n",
    "\"134\"\n",
    "\n",
    "</aside>"
   ]
  },
  {
   "cell_type": "code",
   "execution_count": 10,
   "id": "91fd27b0-593c-4f54-a4b8-db3d0e73102c",
   "metadata": {},
   "outputs": [
    {
     "name": "stdout",
     "output_type": "stream",
     "text": [
      "134\n"
     ]
    }
   ],
   "source": [
    "num1 = \"11\"\n",
    "num2 = \"123\"\n",
    "def addStrings(num1, num2):\n",
    "    # Reverse the input strings to start adding from the least significant digits\n",
    "    num1 = num1[::-1]\n",
    "    num2 = num2[::-1]\n",
    "    # Pad the shorter input string with zeros\n",
    "    if len(num1) < len(num2):\n",
    "        num1 += '0' * (len(num2) - len(num1))\n",
    "    else:\n",
    "        num2 += '0' * (len(num1) - len(num2))\n",
    "    \n",
    "    result = ''\n",
    "    carry = 0\n",
    "    \n",
    "    # Loop through both strings, starting from the least significant digits\n",
    "    for i in range(len(num1)):\n",
    "        # Convert the current digit in each string to an integer and add them together\n",
    "        digit_sum = int(num1[i]) + int(num2[i]) + carry\n",
    "        # Determine the carry for the next iteration, if any\n",
    "        carry = digit_sum // 10\n",
    "        # Append the least significant digit of the sum to the result string\n",
    "        result += str(digit_sum % 10)\n",
    "    \n",
    "    # If there is a carry after the last iteration, append it to the result string\n",
    "    if carry > 0:\n",
    "        result += str(carry)\n",
    "    \n",
    "    # Reverse the result string to obtain the final sum\n",
    "    return result[::-1]\n",
    "print(addStrings(num1,num2))"
   ]
  },
  {
   "cell_type": "markdown",
   "id": "12354a7f-0e5e-4ff8-bbf6-c11957d1226d",
   "metadata": {},
   "source": [
    "<aside>\n",
    "💡 **Question 4**\n",
    "\n",
    "Given a string s, reverse the order of characters in each word within a sentence while still preserving whitespace and initial word order.\n",
    "\n",
    "**Example 1:**\n",
    "\n",
    "**Input:** s = \"Let's take LeetCode contest\"\n",
    "\n",
    "**Output:** \"s'teL ekat edoCteeL tsetnoc\"\n",
    "\n",
    "</aside>"
   ]
  },
  {
   "cell_type": "code",
   "execution_count": 64,
   "id": "abb64a2b-9e60-4715-84f6-69d93cde530b",
   "metadata": {},
   "outputs": [
    {
     "name": "stdout",
     "output_type": "stream",
     "text": [
      "s'teL ekat edoCteeL tsetnoc\n"
     ]
    }
   ],
   "source": [
    "s = \"Let's take LeetCode contest\"\n",
    "result=\" \".join([x[::-1] for x in s.split(\" \")])\n",
    "print(result)"
   ]
  },
  {
   "cell_type": "markdown",
   "id": "8c633074-510e-4f4e-b0c3-f7b25d712665",
   "metadata": {},
   "source": [
    "<aside>\n",
    "💡 **Question 5**\n",
    "\n",
    "Given a string s and an integer k, reverse the first k characters for every 2k characters counting from the start of the string.\n",
    "\n",
    "If there are fewer than k characters left, reverse all of them. If there are less than 2k but greater than or equal to k characters, then reverse the first k characters and leave the other as original.\n",
    "\n",
    "**Example 1:**\n",
    "\n",
    "**Input:** s = \"abcdefg\", k = 2\n",
    "\n",
    "**Output:**\n",
    "\n",
    "\"bacdfeg\"\n",
    "\n",
    "</aside>"
   ]
  },
  {
   "cell_type": "code",
   "execution_count": 93,
   "id": "e76e7560-89d5-4e81-a379-289fe55c1422",
   "metadata": {},
   "outputs": [
    {
     "name": "stdout",
     "output_type": "stream",
     "text": [
      "bacdfeg\n"
     ]
    }
   ],
   "source": [
    "s = \"abcdefg\"\n",
    "r=\"\"\n",
    "k = 2\n",
    "st=0\n",
    "t=\"\"\n",
    "if len(s)<k:\n",
    "    s=s[::-1]\n",
    "    print(s)\n",
    "else:\n",
    "    while(st%k==0 and st<=len(s)):\n",
    "        t=s[st:st+k]\n",
    "        r+=t[::-1]\n",
    "        r+=s[st+k:st+2*k]\n",
    "        st+=2*k\n",
    "    print(r)\n"
   ]
  },
  {
   "cell_type": "markdown",
   "id": "4299ba35-a0d7-40c5-b0f6-4441d9bd572e",
   "metadata": {},
   "source": [
    "<aside>\n",
    "💡 **Question 6**\n",
    "\n",
    "Given two strings s and goal, return true *if and only if* s *can become* goal *after some number of **shifts** on* s.\n",
    "\n",
    "A **shift** on s consists of moving the leftmost character of s to the rightmost position.\n",
    "\n",
    "- For example, if s = \"abcde\", then it will be \"bcdea\" after one shift.\n",
    "\n",
    "**Example 1:**\n",
    "\n",
    "**Input:** s = \"abcde\", goal = \"cdeab\"\n",
    "\n",
    "**Output:**\n",
    "\n",
    "true\n",
    "\n",
    "</aside>"
   ]
  },
  {
   "cell_type": "code",
   "execution_count": 110,
   "id": "25ab0ee7-094e-406a-92ce-7e82b6fb07c0",
   "metadata": {},
   "outputs": [
    {
     "name": "stdout",
     "output_type": "stream",
     "text": [
      "True\n"
     ]
    }
   ],
   "source": [
    "s = \"abcde\"\n",
    "goal = \"cdeab\"\n",
    "s_count=[s.count(i) for i in s]\n",
    "g_count=[goal.count(i) for i in goal]\n",
    "s_count.sort()\n",
    "g_count.sort()\n",
    "print(g_count==s_count)\n",
    "\n",
    "\n"
   ]
  },
  {
   "cell_type": "markdown",
   "id": "c940be05-a95f-442b-b854-67e3bd603e82",
   "metadata": {},
   "source": [
    "<aside>\n",
    "💡 **Question 7**\n",
    "\n",
    "Given two strings s and t, return true *if they are equal when both are typed into empty text editors*. '#' means a backspace character.\n",
    "\n",
    "Note that after backspacing an empty text, the text will continue empty.\n",
    "\n",
    "**Example 1:**\n",
    "\n",
    "**Input:** s = \"ab#c\", t = \"ad#c\"\n",
    "\n",
    "**Output:** true\n",
    "\n",
    "**Explanation:**\n",
    "\n",
    "Both s and t become \"ac\".\n",
    "\n",
    "</aside>"
   ]
  },
  {
   "cell_type": "code",
   "execution_count": 16,
   "id": "1acbfe16-1c92-4118-8467-fc2a9057c033",
   "metadata": {},
   "outputs": [
    {
     "name": "stdout",
     "output_type": "stream",
     "text": [
      "True\n"
     ]
    }
   ],
   "source": [
    "s = \"ab#c\"\n",
    "t = \"ad#c\"\n",
    "def backspaceCompare(s,t):\n",
    "    new_s = new_t = \"\"\n",
    "    for letter in s:\n",
    "        if letter != '#':\n",
    "            new_s += letter\n",
    "        else:\n",
    "            new_s =remove_previous(new_s)\n",
    "    for letter in t:\n",
    "        if letter != '#':\n",
    "            new_t += letter\n",
    "        else:\n",
    "            new_t = remove_previous(new_t)\n",
    "\n",
    "    if new_s == new_t:\n",
    "        return True\n",
    "    return False\n",
    "\n",
    "def remove_previous(s):\n",
    "    if s == \"\":\n",
    "        return s\n",
    "    return s[:-1]\n",
    "print(backspaceCompare(s,t))"
   ]
  },
  {
   "cell_type": "markdown",
   "id": "d6e4756a-56de-4a24-ae12-9be912bcf2fb",
   "metadata": {},
   "source": [
    "<aside>\n",
    "💡 **Question 8**\n",
    "\n",
    "You are given an array coordinates, coordinates[i] = [x, y], where [x, y] represents the coordinate of a point. Check if these points make a straight line in the XY plane.\n",
    "\n",
    "**Example 1:**\n",
    "\n",
    "    **Input:** coordinates = [[1,2],[2,3],[3,4],[4,5],[5,6],[6,7]]\n",
    "\n",
    "**Output:** true\n",
    "</aside>"
   ]
  },
  {
   "cell_type": "code",
   "execution_count": 1,
   "id": "3406b21a-a9f6-47d6-87ec-6958ee407347",
   "metadata": {},
   "outputs": [
    {
     "data": {
      "text/plain": [
       "True"
      ]
     },
     "execution_count": 1,
     "metadata": {},
     "output_type": "execute_result"
    }
   ],
   "source": [
    "def checkStraightLine(coordinates):\n",
    "        \"\"\"\n",
    "        :type coordinates: List[List[int]]\n",
    "        :rtype: bool\n",
    "        \"\"\"\n",
    "        x0,y0=coordinates[0]\n",
    "        x1,y1=coordinates[1]\n",
    "        for x,y in coordinates[2:]:\n",
    "            if (y1-y0)*(x-x0)!=(y-y0)*(x1-x0):\n",
    "                return False\n",
    "\n",
    "        return True    \n",
    "coordinates = [[1,2],[2,3],[3,4],[4,5],[5,6],[6,7]]\n",
    "checkStraightLine(coordinates)"
   ]
  },
  {
   "cell_type": "code",
   "execution_count": null,
   "id": "d55e0cb5-a12b-471a-8856-8a80eeaf7475",
   "metadata": {},
   "outputs": [],
   "source": []
  }
 ],
 "metadata": {
  "kernelspec": {
   "display_name": "Python 3 (ipykernel)",
   "language": "python",
   "name": "python3"
  },
  "language_info": {
   "codemirror_mode": {
    "name": "ipython",
    "version": 3
   },
   "file_extension": ".py",
   "mimetype": "text/x-python",
   "name": "python",
   "nbconvert_exporter": "python",
   "pygments_lexer": "ipython3",
   "version": "3.10.6"
  }
 },
 "nbformat": 4,
 "nbformat_minor": 5
}
