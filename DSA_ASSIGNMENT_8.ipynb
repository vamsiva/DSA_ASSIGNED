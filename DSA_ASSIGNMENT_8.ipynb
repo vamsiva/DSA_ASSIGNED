{
 "cells": [
  {
   "cell_type": "markdown",
   "id": "a8661a5b-4cc4-4176-8cc3-c22692845ee4",
   "metadata": {},
   "source": [
    "<aside>\n",
    "💡 **Question 1**\n",
    "\n",
    "Given two strings s1 and s2, return *the lowest **ASCII** sum of deleted characters to make two strings equal*.\n",
    "\n",
    "**Example 1:**\n",
    "\n",
    "**Input:** s1 = \"sea\", s2 = \"eat\"\n",
    "\n",
    "**Output:** 231\n",
    "\n",
    "**Explanation:** Deleting \"s\" from \"sea\" adds the ASCII value of \"s\" (115) to the sum.\n",
    "\n",
    "Deleting \"t\" from \"eat\" adds 116 to the sum.\n",
    "\n",
    "At the end, both strings are equal, and 115 + 116 = 231 is the minimum sum possible to achieve this.\n",
    "\n",
    "</aside>"
   ]
  },
  {
   "cell_type": "code",
   "execution_count": 1,
   "id": "774e6696-174b-49bb-ae78-0b89a8bc6da6",
   "metadata": {},
   "outputs": [
    {
     "name": "stdout",
     "output_type": "stream",
     "text": [
      "97\n"
     ]
    }
   ],
   "source": []
  },
  {
   "cell_type": "markdown",
   "id": "28bb566a-4e8d-49cc-b4dc-6797a871537b",
   "metadata": {},
   "source": [
    "<aside>\n",
    "💡 **Question 2**\n",
    "\n",
    "Given a string s containing only three types of characters: '(', ')' and '*', return true *if* s *is **valid***.\n",
    "\n",
    "The following rules define a **valid** string:\n",
    "\n",
    "- Any left parenthesis '(' must have a corresponding right parenthesis ')'.\n",
    "- Any right parenthesis ')' must have a corresponding left parenthesis '('.\n",
    "- Left parenthesis '(' must go before the corresponding right parenthesis ')'.\n",
    "- '*' could be treated as a single right parenthesis ')' or a single left parenthesis '(' or an empty string \"\".\n",
    "\n",
    "**Example 1:**\n",
    "\n",
    "**Input:** s = \"()\"\n",
    "\n",
    "**Output:**\n",
    "\n",
    "true\n",
    "\n",
    "</aside>"
   ]
  },
  {
   "cell_type": "code",
   "execution_count": 1,
   "id": "e05ec4a6-2401-4dea-9058-62cc73f244bb",
   "metadata": {},
   "outputs": [
    {
     "data": {
      "text/plain": [
       "True"
      ]
     },
     "execution_count": 1,
     "metadata": {},
     "output_type": "execute_result"
    }
   ],
   "source": [
    "def checkValidString(s):\n",
    "        if s[0]==')':\n",
    "            return False\n",
    "        op=[]\n",
    "        ast=[]\n",
    "        for i in range(len(s)):\n",
    "            if s[i]=='(':\n",
    "                op.append(i)\n",
    "            elif s[i]=='*':\n",
    "                ast.append(i)\n",
    "            else:\n",
    "                if len(op)>0:\n",
    "                    op.pop()\n",
    "                elif len(ast)>0:\n",
    "                    ast.pop()\n",
    "                else:\n",
    "                    return False\n",
    "        if len(op)==0:\n",
    "            return True\n",
    "        if len(op)<=len(ast):\n",
    "            l1=len(op)-1\n",
    "            l2=len(ast)-1\n",
    "            while l1>=0 and l2 >=0:\n",
    "                if op[l1]<ast[l2]:\n",
    "                    l1-=1\n",
    "                    l2-=1\n",
    "                else:\n",
    "                    return False\n",
    "            return True\n",
    "        else:\n",
    "            return False\n",
    "s=\"((((()(()()()*()(((((*)()*(**(())))))(())()())(((())())())))))))(((((())*)))()))(()((*()*(*)))(*)()\"\n",
    "checkValidString(s)"
   ]
  },
  {
   "cell_type": "markdown",
   "id": "a758115d-1832-43e9-9d9e-ebe8cf278b72",
   "metadata": {},
   "source": [
    "<aside>\n",
    "💡 **Question 3**\n",
    "\n",
    "Given two strings word1 and word2, return *the minimum number of **steps** required to make* word1 *and* word2 *the same*.\n",
    "\n",
    "In one **step**, you can delete exactly one character in either string.\n",
    "\n",
    "**Example 1:**\n",
    "\n",
    "**Input:** word1 = \"sea\", word2 = \"eat\"\n",
    "\n",
    "**Output:** 2\n",
    "\n",
    "**Explanation:** You need one step to make \"sea\" to \"ea\" and another step to make \"eat\" to \"ea\".\n",
    "\n",
    "</aside>"
   ]
  },
  {
   "cell_type": "code",
   "execution_count": 6,
   "id": "d066c1c9-8d01-48c9-9fa8-a132e88b63c7",
   "metadata": {},
   "outputs": [
    {
     "name": "stdout",
     "output_type": "stream",
     "text": [
      "1\n"
     ]
    }
   ],
   "source": [
    "s1='sea'\n",
    "s2='ea'\n",
    "i=0\n",
    "j=0\n",
    "def helper(s1, s2, i, j):\n",
    "        if i == len(s1) or j == len(s2):\n",
    "            return 0\n",
    "        if s1[i] == s2[j]:\n",
    "            return 1 + helper(s1, s2, i + 1, j + 1)\n",
    "        else:\n",
    "            return max(helper(s1, s2, i+1, j), helper(s1, s2, i,j+1))\n",
    "print(len(s1)+len(s2)-2*(helper(s1,s2, i, j)))"
   ]
  },
  {
   "cell_type": "markdown",
   "id": "cf903736-6ada-48bf-9aa2-5b15367c5e22",
   "metadata": {},
   "source": [
    "<aside>\n",
    "💡 **Question 4**\n",
    "\n",
    "You need to construct a binary tree from a string consisting of parenthesis and integers.\n",
    "\n",
    "The whole input represents a binary tree. It contains an integer followed by zero, one or two pairs of parenthesis. The integer represents the root's value and a pair of parenthesis contains a child binary tree with the same structure.\n",
    "You always start to construct the **left** child node of the parent first if it exists.\n",
    "\n",
    "**Input:** s = \"4(2(3)(1))(6(5))\"\n",
    "\n",
    "**Output:** [4,2,6,3,1,5]\n",
    "</aside>"
   ]
  },
  {
   "cell_type": "code",
   "execution_count": 6,
   "id": "8acb6b25-7b18-481d-93ce-f8c2f5ca13c2",
   "metadata": {},
   "outputs": [],
   "source": [
    "class TreeNode:\n",
    "    def __init__(self, val=0, left=None, right=None):\n",
    "        self.val = val\n",
    "        self.left = left\n",
    "        self.right = right\n",
    "def construct_binary_tree(s):\n",
    "    # Remove any whitespace characters from the string\n",
    "    s = s.replace(\" \", \"\")\n",
    "\n",
    "    # Base case: if the string is empty, return None\n",
    "    if len(s) == 0:\n",
    "        return None\n",
    "\n",
    "    # Find the index of the first occurrence of '('\n",
    "    index = s.find('(')\n",
    "\n",
    "    # If '(' is not found, the entire string represents a single node\n",
    "    if index == -1:\n",
    "        return TreeNode(s)\n",
    "\n",
    "    # Create a new node with the integer value before '('\n",
    "    node = TreeNode(s[:index])\n",
    "\n",
    "    # Find the index of the matching ')' for the first '('\n",
    "    count = 0\n",
    "    for i in range(index, len(s)):\n",
    "        if s[i] == '(':\n",
    "            count += 1\n",
    "        elif s[i] == ')':\n",
    "            count -= 1\n",
    "        if count == 0:\n",
    "            break\n",
    "\n",
    "    # Recursively construct the left and right subtrees\n",
    "    node.left = construct_binary_tree(s[index + 1:i])\n",
    "    node.right = construct_binary_tree(s[i + 1: len(s) - 1])\n",
    "    return node\n",
    "s = \"4(2(3)(1))(6(5))\"\n",
    "root = construct_binary_tree(s)\n"
   ]
  },
  {
   "cell_type": "markdown",
   "id": "e8e9094b-9462-48c3-ba2e-25bdb505847c",
   "metadata": {},
   "source": [
    "<aside>\n",
    "💡 **Question 5**\n",
    "\n",
    "Given an array of characters chars, compress it using the following algorithm:\n",
    "\n",
    "Begin with an empty string s. For each group of **consecutive repeating characters** in chars:\n",
    "\n",
    "- If the group's length is 1, append the character to s.\n",
    "- Otherwise, append the character followed by the group's length.\n",
    "\n",
    "The compressed string s **should not be returned separately**, but instead, be stored **in the input character array chars**. Note that group lengths that are 10 or longer will be split into multiple characters in chars.\n",
    "\n",
    "After you are done **modifying the input array,** return *the new length of the array*.\n",
    "\n",
    "You must write an algorithm that uses only constant extra space.\n",
    "\n",
    "**Example 1:**\n",
    "\n",
    "**Input:** chars = [\"a\",\"a\",\"b\",\"b\",\"c\",\"c\",\"c\"]\n",
    "\n",
    "**Output:** Return 6, and the first 6 characters of the input array should be: [\"a\",\"2\",\"b\",\"2\",\"c\",\"3\"]\n",
    "\n",
    "**Explanation:**\n",
    "\n",
    "The groups are \"aa\", \"bb\", and \"ccc\". This compresses to \"a2b2c3\".\n",
    "\n",
    "</aside>"
   ]
  },
  {
   "cell_type": "code",
   "execution_count": 7,
   "id": "dea26cb2-2264-48ea-b621-1b411b88e3a1",
   "metadata": {},
   "outputs": [
    {
     "name": "stdout",
     "output_type": "stream",
     "text": [
      "a2b2c3\n"
     ]
    }
   ],
   "source": [
    "chars=[\"a\",\"a\",\"b\",\"b\",\"c\",\"c\",\"c\"]\n",
    "def compress(s):\n",
    "    r=\"\"\n",
    "    freq={key:s.count(key) for key in chars}\n",
    "    for key in freq:\n",
    "        r+=key\n",
    "        r+=str(freq[key])\n",
    "    print(r)\n",
    "compress(chars)"
   ]
  },
  {
   "cell_type": "markdown",
   "id": "354422bf-dad4-431d-98e5-47dfb772f286",
   "metadata": {},
   "source": [
    "<aside>\n",
    "💡 **Question 6**\n",
    "\n",
    "Given two strings s and p, return *an array of all the start indices of* p*'s anagrams in* s. You may return the answer in **any order**.\n",
    "\n",
    "An **Anagram** is a word or phrase formed by rearranging the letters of a different word or phrase, typically using all the original letters exactly once.\n",
    "\n",
    "**Example 1:**\n",
    "\n",
    "**Input:** s = \"cbaebabacd\", p = \"abc\"\n",
    "\n",
    "**Output:** [0,6]\n",
    "\n",
    "**Explanation:**\n",
    "\n",
    "The substring with start index = 0 is \"cba\", which is an anagram of \"abc\".\n",
    "\n",
    "The substring with start index = 6 is \"bac\", which is an anagram of \"abc\".\n",
    "\n",
    "</aside>"
   ]
  },
  {
   "cell_type": "code",
   "execution_count": 23,
   "id": "b35c37c7-1697-4514-bf2e-94ad3166e47f",
   "metadata": {},
   "outputs": [
    {
     "name": "stdout",
     "output_type": "stream",
     "text": [
      "[0, 6]\n"
     ]
    }
   ],
   "source": [
    "s = \"cbaebabacd\"\n",
    "p = \"abc\"\n",
    "l=0\n",
    "r=len(p)-1\n",
    "result=[]\n",
    "d=[]\n",
    "count=0\n",
    "while(r<=len(s)-1):\n",
    "    for i in s[l:r+1]:\n",
    "        if i in p and i not in d:\n",
    "            d.append(i)\n",
    "            count+=1\n",
    "    if count==len(p):\n",
    "        result.append(l)\n",
    "    count=0\n",
    "    d=[]\n",
    "\n",
    "        \n",
    "        #else:\n",
    "            \n",
    "    r+=1\n",
    "    l+=1\n",
    "print(result)"
   ]
  },
  {
   "cell_type": "markdown",
   "id": "e8ada2cf-dfa4-4553-90ca-10ba9e20b5d8",
   "metadata": {},
   "source": [
    "<aside>\n",
    "💡 **Question 7**\n",
    "\n",
    "Given an encoded string, return its decoded string.\n",
    "\n",
    "The encoding rule is: k[encoded_string], where the encoded_string inside the square brackets is being repeated exactly k times. Note that k is guaranteed to be a positive integer.\n",
    "\n",
    "You may assume that the input string is always valid; there are no extra white spaces, square brackets are well-formed, etc. Furthermore, you may assume that the original data does not contain any digits and that digits are only for those repeat numbers, k. For example, there will not be input like 3a or 2[4].\n",
    "\n",
    "The test cases are generated so that the length of the output will never exceed 105.\n",
    "\n",
    "**Example 1:**\n",
    "\n",
    "**Input:** s = \"3[a]2[bc]\"\n",
    "\n",
    "**Output:** \"aaabcbc\"\n",
    "\n",
    "</aside>"
   ]
  },
  {
   "cell_type": "code",
   "execution_count": 10,
   "id": "cc552d63-d993-4649-9000-ed7f7a186c19",
   "metadata": {},
   "outputs": [
    {
     "name": "stdout",
     "output_type": "stream",
     "text": [
      "aaabcbc\n"
     ]
    }
   ],
   "source": [
    "s=\"3[a]2[bc]\"\n",
    "p1,p2,p3=0,0,0\n",
    "r=[]\n",
    "while(p1<=len(s)-1):\n",
    "    if s[p1]==\"[\":\n",
    "        p2=p1\n",
    "        p1+=1\n",
    "    elif s[p1]==\"]\":\n",
    "        n=int(s[p3:p2])\n",
    "        r.extend(n*s[p2+1:p1])\n",
    "        p3=p1+1\n",
    "        p1+=1\n",
    "    else:\n",
    "        p1+=1\n",
    "        \n",
    "k=str(\"\".join(r))\n",
    "print(k)  "
   ]
  },
  {
   "cell_type": "markdown",
   "id": "561a6a7e-2b58-4a58-bded-abff8fd702aa",
   "metadata": {},
   "source": [
    "<aside>\n",
    "💡 **Question 8**\n",
    "\n",
    "Given two strings s and goal, return true *if you can swap two letters in* s *so the result is equal to* goal*, otherwise, return* false*.*\n",
    "\n",
    "Swapping letters is defined as taking two indices i and j (0-indexed) such that i != j and swapping the characters at s[i] and s[j].\n",
    "\n",
    "- For example, swapping at indices 0 and 2 in \"abcd\" results in \"cbad\".\n",
    "\n",
    "**Example 1:**\n",
    "\n",
    "**Input:** s = \"ab\", goal = \"ba\"\n",
    "\n",
    "**Output:** true\n",
    "\n",
    "**Explanation:** You can swap s[0] = 'a' and s[1] = 'b' to get \"ba\", which is equal to goal.\n",
    "\n",
    "</aside>"
   ]
  },
  {
   "cell_type": "code",
   "execution_count": 9,
   "id": "f52a376d-9416-4e99-86d9-903c7d933b5c",
   "metadata": {},
   "outputs": [
    {
     "data": {
      "text/plain": [
       "True"
      ]
     },
     "execution_count": 9,
     "metadata": {},
     "output_type": "execute_result"
    }
   ],
   "source": [
    "def buddyStrings(s, goal):\n",
    "        n = len(s)\n",
    "        if s == goal:\n",
    "            temp = set(s)\n",
    "            return len(temp) < len(goal)  # Swapping same character\n",
    "        i = 0\n",
    "        j = n - 1\n",
    "        if len(s)!=len(goal):\n",
    "            return False\n",
    "\n",
    "        while i < j and s[i] == goal[i]:\n",
    "            i += 1\n",
    "\n",
    "        while j >= 0 and s[j] == goal[j]:\n",
    "            j -= 1\n",
    "\n",
    "        if i < j:\n",
    "            s_list = list(s)\n",
    "            s_list[i], s_list[j] = s_list[j], s_list[i]\n",
    "            s = ''.join(s_list)\n",
    "\n",
    "        return s == goal\n",
    "s=\"ab\"\n",
    "goal=\"ba\"\n",
    "buddyStrings(s,goal)"
   ]
  },
  {
   "cell_type": "code",
   "execution_count": null,
   "id": "4fca3ca1-1d40-42bf-83a9-a16afab9b3a3",
   "metadata": {},
   "outputs": [],
   "source": []
  }
 ],
 "metadata": {
  "kernelspec": {
   "display_name": "Python 3 (ipykernel)",
   "language": "python",
   "name": "python3"
  },
  "language_info": {
   "codemirror_mode": {
    "name": "ipython",
    "version": 3
   },
   "file_extension": ".py",
   "mimetype": "text/x-python",
   "name": "python",
   "nbconvert_exporter": "python",
   "pygments_lexer": "ipython3",
   "version": "3.10.6"
  }
 },
 "nbformat": 4,
 "nbformat_minor": 5
}
