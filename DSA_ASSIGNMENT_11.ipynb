{
 "cells": [
  {
   "cell_type": "markdown",
   "id": "c95c994e",
   "metadata": {},
   "source": [
    "### Question 1\n",
    "\n",
    "Given a non-negative integer x, return the square root of x rounded down to the nearest integer. The returned integer should be non-negative as well.\n",
    "You must not use any built-in exponent function or operator."
   ]
  },
  {
   "cell_type": "code",
   "execution_count": 1,
   "id": "755dbf56",
   "metadata": {},
   "outputs": [],
   "source": [
    "def mySqrt(x):\n",
    "    if x == 0:\n",
    "        return 0\n",
    "\n",
    "    prev = 0\n",
    "    result = 1\n",
    "\n",
    "    while result != prev:\n",
    "        prev = result\n",
    "        result = (result + x // result) // 2\n",
    "\n",
    "    return result"
   ]
  },
  {
   "cell_type": "code",
   "execution_count": 4,
   "id": "9a15b60a",
   "metadata": {},
   "outputs": [
    {
     "data": {
      "text/plain": [
       "2"
      ]
     },
     "execution_count": 4,
     "metadata": {},
     "output_type": "execute_result"
    }
   ],
   "source": [
    "mySqrt(4)"
   ]
  },
  {
   "cell_type": "markdown",
   "id": "caafdaf7",
   "metadata": {},
   "source": [
    "### -**Question 2**\n",
    "\n",
    "A peak element is an element that is strictly greater than its neighbors.\n",
    "\n",
    "Given a **0-indexed** integer array `nums`, find a peak element, and return its index. If the array contains multiple peaks, return the index to **any of the peaks**.\n",
    "\n",
    "You may imagine that `nums[-1] = nums[n] = -∞`. In other words, an element is always considered to be strictly greater than a neighbor that is outside the array.\n",
    "\n",
    "You must write an algorithm that runs in `O(log n)` time."
   ]
  },
  {
   "cell_type": "code",
   "execution_count": 6,
   "id": "96ae995d",
   "metadata": {},
   "outputs": [],
   "source": [
    "def findPeakElement(nums):\n",
    "    left = 0\n",
    "    right = len(nums) - 1\n",
    "\n",
    "    while left < right:\n",
    "        mid = left + (right - left) // 2\n",
    "\n",
    "        if nums[mid] < nums[mid + 1]:\n",
    "            left = mid + 1\n",
    "        else:\n",
    "            right = mid\n",
    "\n",
    "    return left"
   ]
  },
  {
   "cell_type": "code",
   "execution_count": 7,
   "id": "76f61229",
   "metadata": {},
   "outputs": [
    {
     "data": {
      "text/plain": [
       "3"
      ]
     },
     "execution_count": 7,
     "metadata": {},
     "output_type": "execute_result"
    }
   ],
   "source": [
    "findPeakElement([1, 2, 3, 4])"
   ]
  },
  {
   "cell_type": "markdown",
   "id": "c938a9f7",
   "metadata": {},
   "source": [
    "###  **Question 3**\n",
    "\n",
    "****\n",
    "\n",
    "Given an array `nums` containing `n` distinct numbers in the range `[0, n]`, return *the only number in the range that is missing from the array.*"
   ]
  },
  {
   "cell_type": "code",
   "execution_count": 8,
   "id": "f9c39b2f",
   "metadata": {},
   "outputs": [],
   "source": [
    "def missingNumber(nums):\n",
    "    n = len(nums)\n",
    "    expected_sum = n * (n + 1) // 2\n",
    "    actual_sum = sum(nums)\n",
    "    return expected_sum - actual_sum"
   ]
  },
  {
   "cell_type": "code",
   "execution_count": 9,
   "id": "c1aa590e",
   "metadata": {},
   "outputs": [
    {
     "data": {
      "text/plain": [
       "2"
      ]
     },
     "execution_count": 9,
     "metadata": {},
     "output_type": "execute_result"
    }
   ],
   "source": [
    "missingNumber([3, 0, 1])"
   ]
  },
  {
   "cell_type": "code",
   "execution_count": 10,
   "id": "61cc1e8f",
   "metadata": {},
   "outputs": [
    {
     "data": {
      "text/plain": [
       "8"
      ]
     },
     "execution_count": 10,
     "metadata": {},
     "output_type": "execute_result"
    }
   ],
   "source": [
    "missingNumber([9,6,4,2,3,5,7,0,1])"
   ]
  },
  {
   "cell_type": "markdown",
   "id": "f58863cf",
   "metadata": {},
   "source": [
    "### **Question 4**\n",
    "\n",
    "Given an array of integers `nums` containing `n + 1` integers where each integer is in the range `[1, n]` inclusive.\n",
    "\n",
    "There is only **one repeated number** in `nums`, return *this repeated number*.\n",
    "\n",
    "You must solve the problem **without** modifying the array `nums` and uses only constant extra space."
   ]
  },
  {
   "cell_type": "code",
   "execution_count": 19,
   "id": "9f09612b",
   "metadata": {},
   "outputs": [],
   "source": [
    "def repeat_number(nums):\n",
    "    \n",
    "    n = len(nums) - 1\n",
    "    expected_sum = (n * (n+1))//2\n",
    "    actual_sum = sum(nums)\n",
    "    return actual_sum - expected_sum"
   ]
  },
  {
   "cell_type": "code",
   "execution_count": 20,
   "id": "8f6a8ba6",
   "metadata": {},
   "outputs": [
    {
     "data": {
      "text/plain": [
       "2"
      ]
     },
     "execution_count": 20,
     "metadata": {},
     "output_type": "execute_result"
    }
   ],
   "source": [
    "repeat_number([1,3,4,2,2])"
   ]
  },
  {
   "cell_type": "code",
   "execution_count": 22,
   "id": "3e807c8c",
   "metadata": {},
   "outputs": [
    {
     "data": {
      "text/plain": [
       "3"
      ]
     },
     "execution_count": 22,
     "metadata": {},
     "output_type": "execute_result"
    }
   ],
   "source": [
    "repeat_number([3,1,3,4,2])"
   ]
  },
  {
   "cell_type": "markdown",
   "id": "f2c8511f",
   "metadata": {},
   "source": [
    "### **Question 5**\n",
    "\n",
    "Given two integer arrays `nums1` and `nums2`, return *an array of their intersection*. Each element in the result must be **unique** and you may return the result in **any order**."
   ]
  },
  {
   "cell_type": "code",
   "execution_count": 23,
   "id": "08e7119b",
   "metadata": {},
   "outputs": [],
   "source": [
    "def intersection(nums1, nums2):\n",
    "    set1 = set(nums1)\n",
    "    set2 = set(nums2)\n",
    "    return list(set1.intersection(set2))"
   ]
  },
  {
   "cell_type": "code",
   "execution_count": 25,
   "id": "f4eafdd5",
   "metadata": {},
   "outputs": [
    {
     "data": {
      "text/plain": [
       "[9, 4]"
      ]
     },
     "execution_count": 25,
     "metadata": {},
     "output_type": "execute_result"
    }
   ],
   "source": [
    "intersection([4,9,5], [9,4,9,8,4])"
   ]
  },
  {
   "cell_type": "markdown",
   "id": "499b4f61",
   "metadata": {},
   "source": [
    "### **Question 6**\n",
    "\n",
    "Suppose an array of length `n` sorted in ascending order is **rotated** between `1` and `n` times. For example, the array `nums = [0,1,2,4,5,6,7]` might become:\n",
    "\n",
    "- `[4,5,6,7,0,1,2]` if it was rotated `4` times.\n",
    "- `[0,1,2,4,5,6,7]` if it was rotated `7` times.\n",
    "\n",
    "Notice that **rotating** an array `[a[0], a[1], a[2], ..., a[n-1]]` 1 time results in the array `[a[n-1], a[0], a[1], a[2], ..., a[n-2]]`.\n",
    "\n",
    "Given the sorted rotated array `nums` of **unique** elements, return *the minimum element of this array*.\n",
    "\n",
    "You must write an algorithm that runs in `O(log n) time.`"
   ]
  },
  {
   "cell_type": "code",
   "execution_count": 26,
   "id": "62763246",
   "metadata": {},
   "outputs": [],
   "source": [
    "def findMin(nums):\n",
    "    left = 0\n",
    "    right = len(nums) - 1\n",
    "\n",
    "    while left < right:\n",
    "        mid = left + (right - left) // 2\n",
    "\n",
    "        if nums[mid] > nums[right]:\n",
    "            left = mid + 1\n",
    "        else:\n",
    "            right = mid\n",
    "\n",
    "    return nums[left]"
   ]
  },
  {
   "cell_type": "code",
   "execution_count": 27,
   "id": "5970db4f",
   "metadata": {},
   "outputs": [
    {
     "data": {
      "text/plain": [
       "0"
      ]
     },
     "execution_count": 27,
     "metadata": {},
     "output_type": "execute_result"
    }
   ],
   "source": [
    "findMin([4,5,6,7,0,1,2])"
   ]
  },
  {
   "cell_type": "markdown",
   "id": "b340d589",
   "metadata": {},
   "source": [
    "###  **Question 7**\n",
    "\n",
    "Given an array of integers `nums` sorted in non-decreasing order, find the starting and ending position of a given `target` value.\n",
    "\n",
    "If `target` is not found in the array, return `[-1, -1]`.\n",
    "\n",
    "You must write an algorithm with `O(log n)` runtime complexity."
   ]
  },
  {
   "cell_type": "code",
   "execution_count": 31,
   "id": "9605be37",
   "metadata": {},
   "outputs": [],
   "source": [
    "def searchRange(nums, target):\n",
    "    start = findFirstOccurrence(nums, target)\n",
    "    end = findLastOccurrence(nums, target)\n",
    "    return [start, end]\n",
    "\n",
    "def findFirstOccurrence(nums, target):\n",
    "    left = 0\n",
    "    right = len(nums) - 1\n",
    "    firstOccurrence = -1\n",
    "\n",
    "    while left <= right:\n",
    "        mid = left + (right - left) // 2\n",
    "\n",
    "        if nums[mid] >= target:\n",
    "            right = mid - 1\n",
    "            if nums[mid] == target:\n",
    "                firstOccurrence = mid\n",
    "        else:\n",
    "            left = mid + 1\n",
    "\n",
    "    return firstOccurrence\n",
    "\n",
    "def findLastOccurrence(nums, target):\n",
    "    left = 0\n",
    "    right = len(nums) - 1\n",
    "    lastOccurrence = -1\n",
    "\n",
    "    while left <= right:\n",
    "        mid = left + (right - left) // 2\n",
    "\n",
    "        if nums[mid] <= target:\n",
    "            left = mid + 1\n",
    "            if nums[mid] == target:\n",
    "                lastOccurrence = mid\n",
    "        else:\n",
    "            right = mid - 1\n",
    "\n",
    "    return lastOccurrence"
   ]
  },
  {
   "cell_type": "code",
   "execution_count": 32,
   "id": "1a880b27",
   "metadata": {},
   "outputs": [
    {
     "ename": "TypeError",
     "evalue": "'>=' not supported between instances of 'list' and 'int'",
     "output_type": "error",
     "traceback": [
      "\u001b[1;31m---------------------------------------------------------------------------\u001b[0m",
      "\u001b[1;31mTypeError\u001b[0m                                 Traceback (most recent call last)",
      "Cell \u001b[1;32mIn[32], line 1\u001b[0m\n\u001b[1;32m----> 1\u001b[0m searchRange([[\u001b[38;5;241m5\u001b[39m,\u001b[38;5;241m7\u001b[39m,\u001b[38;5;241m7\u001b[39m,\u001b[38;5;241m8\u001b[39m,\u001b[38;5;241m8\u001b[39m,\u001b[38;5;241m10\u001b[39m]], \u001b[38;5;241m8\u001b[39m)\n",
      "Cell \u001b[1;32mIn[31], line 2\u001b[0m, in \u001b[0;36msearchRange\u001b[1;34m(nums, target)\u001b[0m\n\u001b[0;32m      1\u001b[0m \u001b[38;5;28;01mdef\u001b[39;00m \u001b[38;5;21msearchRange\u001b[39m(nums, target):\n\u001b[1;32m----> 2\u001b[0m     start \u001b[38;5;241m=\u001b[39m findFirstOccurrence(nums, target)\n\u001b[0;32m      3\u001b[0m     end \u001b[38;5;241m=\u001b[39m findLastOccurrence(nums, target)\n\u001b[0;32m      4\u001b[0m     \u001b[38;5;28;01mreturn\u001b[39;00m [start, end]\n",
      "Cell \u001b[1;32mIn[31], line 14\u001b[0m, in \u001b[0;36mfindFirstOccurrence\u001b[1;34m(nums, target)\u001b[0m\n\u001b[0;32m     11\u001b[0m \u001b[38;5;28;01mwhile\u001b[39;00m left \u001b[38;5;241m<\u001b[39m\u001b[38;5;241m=\u001b[39m right:\n\u001b[0;32m     12\u001b[0m     mid \u001b[38;5;241m=\u001b[39m left \u001b[38;5;241m+\u001b[39m (right \u001b[38;5;241m-\u001b[39m left) \u001b[38;5;241m/\u001b[39m\u001b[38;5;241m/\u001b[39m \u001b[38;5;241m2\u001b[39m\n\u001b[1;32m---> 14\u001b[0m     \u001b[38;5;28;01mif\u001b[39;00m nums[mid] \u001b[38;5;241m>\u001b[39m\u001b[38;5;241m=\u001b[39m target:\n\u001b[0;32m     15\u001b[0m         right \u001b[38;5;241m=\u001b[39m mid \u001b[38;5;241m-\u001b[39m \u001b[38;5;241m1\u001b[39m\n\u001b[0;32m     16\u001b[0m         \u001b[38;5;28;01mif\u001b[39;00m nums[mid] \u001b[38;5;241m==\u001b[39m target:\n",
      "\u001b[1;31mTypeError\u001b[0m: '>=' not supported between instances of 'list' and 'int'"
     ]
    }
   ],
   "source": [
    "searchRange([[5,7,7,8,8,10]], 8)"
   ]
  },
  {
   "cell_type": "markdown",
   "id": "00cbafed",
   "metadata": {},
   "source": [
    "### **Question 8**\n",
    "\n",
    "Given two integer arrays `nums1` and `nums2`, return *an array of their intersection*. Each element in the result must appear as many times as it shows in both arrays and you may return the result in **any order**."
   ]
  },
  {
   "cell_type": "code",
   "execution_count": 33,
   "id": "15202b87",
   "metadata": {},
   "outputs": [],
   "source": [
    "from collections import Counter\n",
    "\n",
    "def intersect(nums1, nums2):\n",
    "    counter = Counter(nums1)\n",
    "    \n",
    "    result = []\n",
    "    for num in nums2:\n",
    "        if num in counter and counter[num] > 0:\n",
    "            result.append(num)\n",
    "            counter[num] -= 1\n",
    "    \n",
    "    return result"
   ]
  },
  {
   "cell_type": "code",
   "execution_count": 34,
   "id": "16508a9f",
   "metadata": {},
   "outputs": [
    {
     "data": {
      "text/plain": [
       "[2, 2]"
      ]
     },
     "execution_count": 34,
     "metadata": {},
     "output_type": "execute_result"
    }
   ],
   "source": [
    "intersect([1,2, 2, 1], [2, 2])"
   ]
  }
 ],
 "metadata": {
  "kernelspec": {
   "display_name": "Python 3 (ipykernel)",
   "language": "python",
   "name": "python3"
  },
  "language_info": {
   "codemirror_mode": {
    "name": "ipython",
    "version": 3
   },
   "file_extension": ".py",
   "mimetype": "text/x-python",
   "name": "python",
   "nbconvert_exporter": "python",
   "pygments_lexer": "ipython3",
   "version": "3.11.4"
  }
 },
 "nbformat": 4,
 "nbformat_minor": 5
}
