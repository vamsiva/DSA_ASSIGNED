{
 "cells": [
  {
   "cell_type": "markdown",
   "id": "0fc6a71b",
   "metadata": {},
   "source": [
    "###  Question-1:\n",
    "\n",
    "Given preorder of a binary tree, calculate its **[depth(or height)](https://www.geeksforgeeks.org/write-a-c-program-to-find-the-maximum-depth-or-height-of-a-tree/)** [starting from depth 0]. The preorder is given as a string with two possible characters.\n",
    "\n",
    "1. ‘l’ denotes the leaf\n",
    "2. ‘n’ denotes internal node\n",
    "\n",
    "The given tree can be seen as a full binary tree where every node has 0 or two children. The two children of a node can ‘n’ or ‘l’ or mix of both."
   ]
  },
  {
   "cell_type": "code",
   "execution_count": 1,
   "id": "fa6d1c31",
   "metadata": {},
   "outputs": [],
   "source": [
    "def calculateDepth(preorder):\n",
    "    if not preorder:\n",
    "        return 0\n",
    "\n",
    "    depth = 0\n",
    "    stack = []\n",
    "    \n",
    "    for char in preorder:\n",
    "        if char == 'N':\n",
    "            stack.append(char)\n",
    "        elif char == 'L':\n",
    "            while stack and stack[-1] == 'L':\n",
    "                stack.pop()\n",
    "            if stack:\n",
    "                stack.pop()\n",
    "            stack.append('L')\n",
    "        depth = max(depth, len(stack) - 1)\n",
    "\n",
    "    return depth"
   ]
  },
  {
   "cell_type": "code",
   "execution_count": 2,
   "id": "b38fed19",
   "metadata": {},
   "outputs": [
    {
     "name": "stdout",
     "output_type": "stream",
     "text": [
      "The depth of the binary tree is: 1\n"
     ]
    }
   ],
   "source": [
    "preorder = \"NNLLNLL\"\n",
    "\n",
    "depth = calculateDepth(preorder)\n",
    "print(\"The depth of the binary tree is:\", depth)"
   ]
  },
  {
   "cell_type": "markdown",
   "id": "51ae401a",
   "metadata": {},
   "source": [
    "### Question-2:\n",
    "\n",
    "Given a Binary tree, the task is to print the **left view** of the Binary Tree. The left view of a Binary Tree is a set of leftmost nodes for every level."
   ]
  },
  {
   "cell_type": "code",
   "execution_count": 3,
   "id": "81f568af",
   "metadata": {},
   "outputs": [],
   "source": [
    "from collections import deque\n",
    "\n",
    "class TreeNode:\n",
    "    def __init__(self, val=0, left=None, right=None):\n",
    "        self.val = val\n",
    "        self.left = left\n",
    "        self.right = right\n",
    "\n",
    "def leftView(root):\n",
    "    if not root:\n",
    "        return []\n",
    "\n",
    "    left_view = []\n",
    "    queue = deque()\n",
    "    queue.append(root)\n",
    "\n",
    "    while queue:\n",
    "        level_size = len(queue)\n",
    "\n",
    "        # Process the leftmost node at each level\n",
    "        leftmost_node = None\n",
    "\n",
    "        for _ in range(level_size):\n",
    "            node = queue.popleft()\n",
    "\n",
    "            if not leftmost_node:\n",
    "                leftmost_node = node.val\n",
    "\n",
    "            if node.left:\n",
    "                queue.append(node.left)\n",
    "            if node.right:\n",
    "                queue.append(node.right)\n",
    "\n",
    "        left_view.append(leftmost_node)\n",
    "\n",
    "    return left_view"
   ]
  },
  {
   "cell_type": "code",
   "execution_count": 4,
   "id": "acf04284",
   "metadata": {},
   "outputs": [
    {
     "name": "stdout",
     "output_type": "stream",
     "text": [
      "Left View: [1, 2, 4]\n"
     ]
    }
   ],
   "source": [
    "root = TreeNode(1)\n",
    "root.left = TreeNode(2)\n",
    "root.right = TreeNode(3)\n",
    "root.left.right = TreeNode(4)\n",
    "root.right.left = TreeNode(5)\n",
    "root.right.right = TreeNode(6)\n",
    "\n",
    "left_view = leftView(root)\n",
    "print(\"Left View:\", left_view)"
   ]
  },
  {
   "cell_type": "markdown",
   "id": "6589654b",
   "metadata": {},
   "source": [
    "### Question-3:\n",
    "\n",
    "Given a Binary Tree, print the Right view of it.\n",
    "\n",
    "The right view of a Binary Tree is a set of nodes visible when the tree is visited from the Right side."
   ]
  },
  {
   "cell_type": "code",
   "execution_count": 5,
   "id": "ea059287",
   "metadata": {},
   "outputs": [],
   "source": [
    "class TreeNode:\n",
    "    def __init__(self, val=0, left=None, right=None):\n",
    "        self.val = val\n",
    "        self.left = left\n",
    "        self.right = right\n",
    "\n",
    "def rightView(root):\n",
    "    if not root:\n",
    "        return []\n",
    "\n",
    "    right_view = []\n",
    "    queue = deque()\n",
    "    queue.append(root)\n",
    "\n",
    "    while queue:\n",
    "        level_size = len(queue)\n",
    "\n",
    "        rightmost_node = None\n",
    "\n",
    "        for _ in range(level_size):\n",
    "            node = queue.popleft()\n",
    "\n",
    "            rightmost_node = node.val\n",
    "\n",
    "            if node.left:\n",
    "                queue.append(node.left)\n",
    "            if node.right:\n",
    "                queue.append(node.right)\n",
    "\n",
    "        right_view.append(rightmost_node)\n",
    "\n",
    "    return right_view"
   ]
  },
  {
   "cell_type": "code",
   "execution_count": 6,
   "id": "813a590e",
   "metadata": {},
   "outputs": [
    {
     "name": "stdout",
     "output_type": "stream",
     "text": [
      "Right View: [1, 3, 6]\n"
     ]
    }
   ],
   "source": [
    "root = TreeNode(1)\n",
    "root.left = TreeNode(2)\n",
    "root.right = TreeNode(3)\n",
    "root.left.right = TreeNode(4)\n",
    "root.right.left = TreeNode(5)\n",
    "root.right.right = TreeNode(6)\n",
    "\n",
    "right_view = rightView(root)\n",
    "print(\"Right View:\", right_view)"
   ]
  },
  {
   "cell_type": "markdown",
   "id": "1f694b47",
   "metadata": {},
   "source": [
    "###  Question-4:\n",
    "\n",
    "Given a Binary Tree, The task is to print the **bottom view** from left to right. A node **x** is there in output if x is the bottommost node at its horizontal distance. The horizontal distance of the left child of a node x is equal to a horizontal distance of x minus 1, and that of a right child is the horizontal distance of x plus 1."
   ]
  },
  {
   "cell_type": "code",
   "execution_count": 7,
   "id": "0cd4f57d",
   "metadata": {},
   "outputs": [],
   "source": [
    "from collections import deque\n",
    "\n",
    "class TreeNode:\n",
    "    def __init__(self, val=0, left=None, right=None):\n",
    "        self.val = val\n",
    "        self.left = left\n",
    "        self.right = right\n",
    "\n",
    "def bottomView(root):\n",
    "    if not root:\n",
    "        return []\n",
    "\n",
    "    bottom_view = {}\n",
    "\n",
    "    queue = deque()\n",
    "    queue.append((root, 0))\n",
    "\n",
    "    while queue:\n",
    "        node, hor_distance = queue.popleft()\n",
    "\n",
    "        bottom_view[hor_distance] = node.val\n",
    "\n",
    "        if node.left:\n",
    "            queue.append((node.left, hor_distance - 1))\n",
    "        if node.right:\n",
    "            queue.append((node.right, hor_distance + 1))\n",
    "\n",
    "    sorted_bottom_view = sorted(bottom_view.items(), key=lambda x: x[0])\n",
    "\n",
    "    return [val for _, val in sorted_bottom_view]\n"
   ]
  },
  {
   "cell_type": "code",
   "execution_count": 8,
   "id": "40f429c6",
   "metadata": {},
   "outputs": [
    {
     "name": "stdout",
     "output_type": "stream",
     "text": [
      "Bottom View: [2, 5, 3, 6]\n"
     ]
    }
   ],
   "source": [
    "root = TreeNode(1)\n",
    "root.left = TreeNode(2)\n",
    "root.right = TreeNode(3)\n",
    "root.left.right = TreeNode(4)\n",
    "root.right.left = TreeNode(5)\n",
    "root.right.right = TreeNode(6)\n",
    "\n",
    "bottom_view = bottomView(root)\n",
    "print(\"Bottom View:\", bottom_view)"
   ]
  }
 ],
 "metadata": {
  "kernelspec": {
   "display_name": "Python 3 (ipykernel)",
   "language": "python",
   "name": "python3"
  },
  "language_info": {
   "codemirror_mode": {
    "name": "ipython",
    "version": 3
   },
   "file_extension": ".py",
   "mimetype": "text/x-python",
   "name": "python",
   "nbconvert_exporter": "python",
   "pygments_lexer": "ipython3",
   "version": "3.11.4"
  }
 },
 "nbformat": 4,
 "nbformat_minor": 5
}
