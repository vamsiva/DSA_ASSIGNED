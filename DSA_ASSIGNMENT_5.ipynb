{
 "cells": [
  {
   "cell_type": "markdown",
   "id": "c1712938-e6ad-438b-a23d-bab9e11f8afd",
   "metadata": {},
   "source": [
    "<aside>\n",
    "💡 **Question 1**\n",
    "\n",
    "Convert 1D Array Into 2D Array\n",
    "\n",
    "You are given a **0-indexed** 1-dimensional (1D) integer array original, and two integers, m and n. You are tasked with creating a 2-dimensional (2D) array with  m rows and n columns using **all** the elements from original.\n",
    "\n",
    "The elements from indices 0 to n - 1 (**inclusive**) of original should form the first row of the constructed 2D array, the elements from indices n to 2 * n - 1 (**inclusive**) should form the second row of the constructed 2D array, and so on.\n",
    "\n",
    "Return *an* m x n *2D array constructed according to the above procedure, or an empty 2D array if it is impossible*.\n",
    "\n",
    "**Example 1:**\n",
    "\n",
    "**Input:** original = [1,2,3,4], m = 2, n = 2\n",
    "\n",
    "**Output:** [[1,2],[3,4]]\n",
    "\n",
    "**Explanation:** The constructed 2D array should contain 2 rows and 2 columns.\n",
    "\n",
    "The first group of n=2 elements in original, [1,2], becomes the first row in the constructed 2D array.\n",
    "\n",
    "The second group of n=2 elements in original, [3,4], becomes the second row in the constructed 2D array.\n",
    "\n",
    "</aside>"
   ]
  },
  {
   "cell_type": "code",
   "execution_count": 3,
   "id": "95273f29-343d-4d35-9f38-f877cb6df430",
   "metadata": {},
   "outputs": [
    {
     "data": {
      "text/plain": [
       "[[1, 2], [3, 4]]"
      ]
     },
     "execution_count": 3,
     "metadata": {},
     "output_type": "execute_result"
    }
   ],
   "source": [
    "#Ans:\n",
    "original = [1,2,3,4]\n",
    "m = 2\n",
    "n = 2\n",
    "def to1_2d(original,m,n):\n",
    "    return[original[i:i+n] for i in range(0,len(original),n)] if m*n==len(original) else []\n",
    "to1_2d(original,m,n)       "
   ]
  },
  {
   "cell_type": "markdown",
   "id": "68a3d727-7f36-4058-b42e-c414a5ae6e77",
   "metadata": {},
   "source": [
    "<aside>\n",
    "💡 **Question 2**\n",
    "You have n coins and you want to build a staircase with these coins. The staircase consists of k rows where the ith row has exactly i coins. The last row of the staircase **may be** incomplete.\n",
    "\n",
    "Given the integer n, return *the number of **complete rows** of the staircase you will build*.\n",
    "\n",
    "**Example 1:**\n",
    "\n",
    "[]()\n",
    "\n",
    "\n",
    "**Input:** n = 5\n",
    "\n",
    "**Output:** 2\n",
    "\n",
    "**Explanation:** Because the 3rd row is incomplete, we return 2.\n",
    "\n",
    "</aside>\n",
    "    "
   ]
  },
  {
   "cell_type": "code",
   "execution_count": 5,
   "id": "a65064e5-0850-4174-9e15-4c5769c4daf9",
   "metadata": {},
   "outputs": [
    {
     "name": "stdout",
     "output_type": "stream",
     "text": [
      "2\n"
     ]
    }
   ],
   "source": [
    "n=5\n",
    "stairs_completed=0\n",
    "l=0\n",
    "i=1\n",
    "while n>=0:\n",
    "    n-=i\n",
    "    if n>=0:\n",
    "        stairs_completed+=1\n",
    "    i+=1\n",
    "    \n",
    "print(stairs_completed)\n",
    "       "
   ]
  },
  {
   "cell_type": "markdown",
   "id": "d59a9b3c-6f3c-480b-a379-01f51d38edc2",
   "metadata": {},
   "source": [
    "<aside>\n",
    "💡 **Question 3**\n",
    "\n",
    "Given an integer array nums sorted in **non-decreasing** order, return *an array of **the squares of each number** sorted in non-decreasing order*.\n",
    "\n",
    "**Example 1:**\n",
    "\n",
    "**Input:** nums = [-4,-1,0,3,10]\n",
    "\n",
    "**Output:** [0,1,9,16,100]\n",
    "\n",
    "**Explanation:** After squaring, the array becomes [16,1,0,9,100].\n",
    "\n",
    "After sorting, it becomes [0,1,9,16,100].\n",
    "\n",
    "</aside>"
   ]
  },
  {
   "cell_type": "code",
   "execution_count": 6,
   "id": "84551993-a917-4283-a5f8-ad8619d3e431",
   "metadata": {},
   "outputs": [
    {
     "name": "stdout",
     "output_type": "stream",
     "text": [
      "[0, 1, 9, 16, 100]\n"
     ]
    }
   ],
   "source": [
    "nums = [-4,-1,0,3,10]\n",
    "nums=[i**2 for i in nums]\n",
    "nums.sort()\n",
    "print(nums)"
   ]
  },
  {
   "cell_type": "markdown",
   "id": "98375fd4-d407-48e0-a75d-f855e14f8409",
   "metadata": {},
   "source": [
    "<aside>\n",
    "💡 **Question 4**\n",
    "\n",
    "Given two **0-indexed** integer arrays nums1 and nums2, return *a list* answer *of size* 2 *where:*\n",
    "\n",
    "- answer[0] *is a list of all **distinct** integers in* nums1 *which are **not** present in* nums2*.*\n",
    "- answer[1] *is a list of all **distinct** integers in* nums2 *which are **not** present in* nums1.\n",
    "\n",
    "**Note** that the integers in the lists may be returned in **any** order.\n",
    "\n",
    "**Example 1:**\n",
    "\n",
    "**Input:** nums1 = [1,2,3], nums2 = [2,4,6]\n",
    "\n",
    "**Output:** [[1,3],[4,6]]\n",
    "\n",
    "**Explanation:**\n",
    "\n",
    "For nums1, nums1[1] = 2 is present at index 0 of nums2, whereas nums1[0] = 1 and nums1[2] = 3 are not present in nums2. Therefore, answer[0] = [1,3].\n",
    "\n",
    "For nums2, nums2[0] = 2 is present at index 1 of nums1, whereas nums2[1] = 4 and nums2[2] = 6 are not present in nums2. Therefore, answer[1] = [4,6].\n",
    "\n",
    "</aside>"
   ]
  },
  {
   "cell_type": "code",
   "execution_count": 7,
   "id": "3036c05d-01f5-4c80-bb48-cae32be8a8ba",
   "metadata": {},
   "outputs": [
    {
     "name": "stdout",
     "output_type": "stream",
     "text": [
      "[[1, 3], [4, 6]]\n"
     ]
    }
   ],
   "source": [
    "nums1 = [1,2,3]\n",
    "nums2 = [2,4,6]\n",
    "answer=[]\n",
    "y=[]\n",
    "x=[]\n",
    "for i in nums1:\n",
    "    if i not in nums2:\n",
    "        y.append(i)\n",
    "answer.extend([y])\n",
    "for i in nums2:\n",
    "    if i not in nums1:\n",
    "        x.append(i)\n",
    "answer.extend([x])\n",
    "print(answer)\n",
    "        "
   ]
  },
  {
   "cell_type": "markdown",
   "id": "6d67d562-9ea4-4a43-9576-02621b6244fb",
   "metadata": {},
   "source": [
    "\n",
    "💡 **Question 5**\n",
    "\n",
    "Given two integer arrays arr1 and arr2, and the integer d, *return the distance value between the two arrays*.\n",
    "\n",
    "The distance value is defined as the number of elements arr1[i] such that there is not any element arr2[j] where |arr1[i]-arr2[j]| <= d.\n",
    "\n",
    "**Example 1:**\n",
    "\n",
    "**Input:** arr1 = [4,5,8], arr2 = [10,9,1,8], d = 2\n",
    "\n",
    "**Output:** 2\n",
    "\n",
    "**Explanation:**\n",
    "\n",
    "For arr1[0]=4 we have:\n",
    "\n",
    "|4-10|=6 > d=2\n",
    "\n",
    "|4-9|=5 > d=2\n",
    "\n",
    "|4-1|=3 > d=2\n",
    "\n",
    "|4-8|=4 > d=2\n",
    "\n",
    "For arr1[1]=5 we have:\n",
    "\n",
    "|5-10|=5 > d=2\n",
    "\n",
    "|5-9|=4 > d=2\n",
    "\n",
    "|5-1|=4 > d=2\n",
    "\n",
    "|5-8|=3 > d=2\n",
    "\n",
    "For arr1[2]=8 we have:\n",
    "\n",
    "**|8-10|=2 <= d=2**\n",
    "\n",
    "**|8-9|=1 <= d=2**\n",
    "\n",
    "|8-1|=7 > d=2\n",
    "\n",
    "**|8-8|=0 <= d=2**\n",
    "\n",
    "</aside>"
   ]
  },
  {
   "cell_type": "code",
   "execution_count": 2,
   "id": "ff69d13f-dd05-4c87-8c9c-2cee67aca5c9",
   "metadata": {},
   "outputs": [
    {
     "name": "stdout",
     "output_type": "stream",
     "text": [
      "2\n"
     ]
    }
   ],
   "source": [
    "#Ans:\n",
    "def findTheDistanceValue(arr1, arr2, d):\n",
    "    cnt=0\n",
    "    for i in range(len(arr1)):\n",
    "        fst=arr1[i]\n",
    "        flag=False\n",
    "        for j in range(len(arr2)):\n",
    "            snd=arr2[j]\n",
    "            if abs(fst-snd)<=d:\n",
    "                flag=True\n",
    "                break\n",
    "        if flag==False:\n",
    "            cnt+=1\n",
    "    return cnt\n",
    "arr1=[4,5,8]\n",
    "arr2=[10,9,1,8]\n",
    "d=2\n",
    "print(findTheDistanceValue(arr1,arr2,d))\n"
   ]
  },
  {
   "cell_type": "markdown",
   "id": "089485c9-b113-408a-adc0-44b6877f00da",
   "metadata": {},
   "source": [
    "<aside>\n",
    "💡 **Question 6**\n",
    "\n",
    "Given an integer array nums of length n where all the integers of nums are in the range [1, n] and each integer appears **once** or **twice**, return *an array of all the integers that appears **twice***.\n",
    "\n",
    "You must write an algorithm that runs in O(n) time and uses only constant extra space.\n",
    "\n",
    "**Example 1:**\n",
    "\n",
    "**Input:** nums = [4,3,2,7,8,2,3,1]\n",
    "\n",
    "**Output:**\n",
    "\n",
    "[2,3]\n",
    "\n",
    "</aside>"
   ]
  },
  {
   "cell_type": "code",
   "execution_count": 5,
   "id": "35c42803-fde1-47ac-95e6-69087f0d1a65",
   "metadata": {},
   "outputs": [
    {
     "data": {
      "text/plain": [
       "[2, 3]"
      ]
     },
     "execution_count": 5,
     "metadata": {},
     "output_type": "execute_result"
    }
   ],
   "source": [
    "nums = [4,3,2,7,8,2,3,1]\n",
    "def repeated_nums(nums):\n",
    "    results=[]\n",
    "    for i in range(len(nums)):\n",
    "        index=abs(nums[i])-1\n",
    "        if nums[index]<0:\n",
    "            results.append(index+1)\n",
    "        else:\n",
    "            nums[index]=-nums[index]\n",
    "    return results\n",
    "repeated_nums(nums)    "
   ]
  },
  {
   "cell_type": "markdown",
   "id": "a474ba7c-e230-4e46-82e6-cd1ed487dd10",
   "metadata": {},
   "source": [
    "<aside>\n",
    "💡 **Question 7**\n",
    "\n",
    "Suppose an array of length n sorted in ascending order is **rotated** between 1 and n times. For example, the array nums = [0,1,2,4,5,6,7] might become:\n",
    "\n",
    "- [4,5,6,7,0,1,2] if it was rotated 4 times.\n",
    "- [0,1,2,4,5,6,7] if it was rotated 7 times.\n",
    "\n",
    "Notice that **rotating** an array [a[0], a[1], a[2], ..., a[n-1]] 1 time results in the array [a[n-1], a[0], a[1], a[2], ..., a[n-2]].\n",
    "\n",
    "Given the sorted rotated array nums of **unique** elements, return *the minimum element of this array*.\n",
    "\n",
    "You must write an algorithm that runs in O(log n) time.\n",
    "\n",
    "**Example 1:**\n",
    "\n",
    "**Input:** nums = [3,4,5,1,2]\n",
    "\n",
    "**Output:** 1\n",
    "\n",
    "**Explanation:**\n",
    "\n",
    "The original array was [1,2,3,4,5] rotated 3 times.\n",
    "\n",
    "</aside>"
   ]
  },
  {
   "cell_type": "code",
   "execution_count": 7,
   "id": "2065bfc4-7a00-42ad-9ae0-5dce981982e1",
   "metadata": {},
   "outputs": [
    {
     "name": "stdout",
     "output_type": "stream",
     "text": [
      "1\n"
     ]
    }
   ],
   "source": [
    "nums = [3,4,5,1,2]\n",
    "def findMin(nums):\n",
    "        low,high=0,len(nums)-1\n",
    "        n=len(nums)\n",
    "        while low<=high:\n",
    "            mid=low+(high-low)//2\n",
    "            if nums[mid]<=nums[(mid-1+n)%n] and nums[mid]<=nums[(mid+1)%n]:\n",
    "                return nums[mid]\n",
    "            if nums[mid]>=nums[low]:\n",
    "                if nums[high]>=nums[mid]:\n",
    "                    high=mid-1\n",
    "                else:\n",
    "                    low=mid+1\n",
    "            else:\n",
    "                high=mid-1\n",
    "\n",
    "        return -1\n",
    "print(findMin(nums))\n",
    "        "
   ]
  },
  {
   "cell_type": "markdown",
   "id": "9cd1cab3-4228-4163-af97-a3e9cc6bf178",
   "metadata": {},
   "source": [
    "<aside>\n",
    "💡 **Question 8**\n",
    "\n",
    "An integer array original is transformed into a **doubled** array changed by appending **twice the value** of every element in original, and then randomly **shuffling** the resulting array.\n",
    "\n",
    "Given an array changed, return original *if* changed *is a **doubled** array. If* changed *is not a **doubled** array, return an empty array. The elements in* original *may be returned in **any** order*.\n",
    "\n",
    "**Example 1:**\n",
    "\n",
    "**Input:** changed = [1,3,4,2,6,8]\n",
    "\n",
    "**Output:** [1,3,4]\n",
    "\n",
    "**Explanation:** One possible original array could be [1,3,4]:\n",
    "\n",
    "- Twice the value of 1 is 1 * 2 = 2.\n",
    "- Twice the value of 3 is 3 * 2 = 6.\n",
    "- Twice the value of 4 is 4 * 2 = 8.\n",
    "\n",
    "Other original arrays could be [4,3,1] or [3,1,4].\n",
    "\n",
    "</aside>"
   ]
  },
  {
   "cell_type": "code",
   "execution_count": 6,
   "id": "ef1b1d82-92ac-425d-8182-26bd800900b7",
   "metadata": {},
   "outputs": [
    {
     "name": "stdout",
     "output_type": "stream",
     "text": [
      "[1, 3, 4]\n"
     ]
    }
   ],
   "source": [
    "changed = [1,3,4,2,6,8]\n",
    "def findOriginalArray(changed):  \n",
    "    ans=[]\n",
    "    vacans=[]\n",
    "    changed.sort()\n",
    "    temp={key:changed.count(key) for key in changed}\n",
    "    n=len(changed)\n",
    "    if n%2!=0:\n",
    "        return ans\n",
    "    else:\n",
    "        for i in changed:\n",
    "            if temp[i]==0:\n",
    "                continue\n",
    "            else:\n",
    "                if temp.get(2*i,0) >=1:\n",
    "                    ans.append(i)\n",
    "                    temp[2*i]-=1\n",
    "                    temp[i]-=1\n",
    "                else:\n",
    "                    return vacans\n",
    "        return ans\n",
    "print(findOriginalArray(changed))"
   ]
  },
  {
   "cell_type": "code",
   "execution_count": null,
   "id": "54605302-a81e-4517-9577-6bda2dac49c8",
   "metadata": {},
   "outputs": [],
   "source": []
  }
 ],
 "metadata": {
  "kernelspec": {
   "display_name": "Python 3 (ipykernel)",
   "language": "python",
   "name": "python3"
  },
  "language_info": {
   "codemirror_mode": {
    "name": "ipython",
    "version": 3
   },
   "file_extension": ".py",
   "mimetype": "text/x-python",
   "name": "python",
   "nbconvert_exporter": "python",
   "pygments_lexer": "ipython3",
   "version": "3.10.6"
  }
 },
 "nbformat": 4,
 "nbformat_minor": 5
}
