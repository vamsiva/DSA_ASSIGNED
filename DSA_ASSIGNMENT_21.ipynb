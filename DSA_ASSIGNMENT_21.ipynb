{
 "cells": [
  {
   "cell_type": "markdown",
   "id": "a3b82ff5",
   "metadata": {},
   "source": [
    "### Question-1\n",
    "\n",
    "You are given a binary tree. The binary tree is represented using the TreeNode class. Each TreeNode has an integer value and left and right children, represented using the TreeNode class itself. Convert this binary tree into a binary search tree."
   ]
  },
  {
   "cell_type": "code",
   "execution_count": 1,
   "id": "7a216531",
   "metadata": {},
   "outputs": [],
   "source": [
    "class TreeNode:\n",
    "    def __init__(self, val=0, left=None, right=None):\n",
    "        self.val = val\n",
    "        self.left = left\n",
    "        self.right = right\n",
    "\n",
    "def convertToBST(root):\n",
    "    values = []\n",
    "    inorderTraversal(root, values)\n",
    "\n",
    "    values.sort()\n",
    "\n",
    "    index = 0\n",
    "    inorderUpdate(root, values, index)\n",
    "\n",
    "    return root\n",
    "\n",
    "def inorderTraversal(node, values):\n",
    "    if node is None:\n",
    "        return\n",
    "    inorderTraversal(node.left, values)\n",
    "    values.append(node.val)\n",
    "    inorderTraversal(node.right, values)\n",
    "\n",
    "def inorderUpdate(node, values, index):\n",
    "    if node is None:\n",
    "        return\n",
    "    inorderUpdate(node.left, values, index)\n",
    "    node.val = values[index]\n",
    "    index += 1\n",
    "    inorderUpdate(node.right, values, index)"
   ]
  },
  {
   "cell_type": "code",
   "execution_count": 2,
   "id": "53c86be6",
   "metadata": {},
   "outputs": [],
   "source": [
    "root = TreeNode(5)\n",
    "root.left = TreeNode(3)\n",
    "root.right = TreeNode(7)\n",
    "root.left.left = TreeNode(2)\n",
    "root.left.right = TreeNode(4)\n",
    "root.right.left = TreeNode(6)\n",
    "root.right.right = TreeNode(8)\n",
    "\n",
    "\n",
    "bst_root = convertToBST(root)"
   ]
  },
  {
   "cell_type": "code",
   "execution_count": 3,
   "id": "2649358e",
   "metadata": {},
   "outputs": [
    {
     "data": {
      "text/plain": [
       "<__main__.TreeNode at 0x1d79a763850>"
      ]
     },
     "execution_count": 3,
     "metadata": {},
     "output_type": "execute_result"
    }
   ],
   "source": [
    "bst_root"
   ]
  },
  {
   "cell_type": "markdown",
   "id": "65c177f6",
   "metadata": {},
   "source": [
    "### Question-2:\n",
    "\n",
    "Given a Binary Search Tree with all unique values and two keys. Find the distance between two nodes in BST. The given keys always exist in BST."
   ]
  },
  {
   "cell_type": "code",
   "execution_count": 4,
   "id": "e5d3470a",
   "metadata": {},
   "outputs": [],
   "source": [
    "class TreeNode:\n",
    "    def __init__(self, val=0, left=None, right=None):\n",
    "        self.val = val\n",
    "        self.left = left\n",
    "        self.right = right\n",
    "\n",
    "def findDistance(root, node1, node2):\n",
    "    lca = findLCA(root, node1, node2)\n",
    "\n",
    "    # Calculate the distance from the LCA to node1 and node2\n",
    "    dist1 = findDistanceFromNode(lca, node1)\n",
    "    dist2 = findDistanceFromNode(lca, node2)\n",
    "\n",
    "    distance = dist1 + dist2\n",
    "\n",
    "    return distance\n",
    "\n",
    "def findLCA(root, node1, node2):\n",
    "    if root is None:\n",
    "        return None\n",
    "    if node1.val < root.val and node2.val < root.val:\n",
    "        return findLCA(root.left, node1, node2)\n",
    "\n",
    "    if node1.val > root.val and node2.val > root.val:\n",
    "        return findLCA(root.right, node1, node2)\n",
    "\n",
    "    return root\n",
    "\n",
    "def findDistanceFromNode(node, target):\n",
    "    if node is None:\n",
    "        return 0\n",
    "\n",
    "    if node.val == target.val:\n",
    "        return 0\n",
    "\n",
    "    if target.val < node.val:\n",
    "        return 1 + findDistanceFromNode(node.left, target)\n",
    "\n",
    "    if target.val > node.val:\n",
    "        return 1 + findDistanceFromNode(node.right, target)"
   ]
  },
  {
   "cell_type": "code",
   "execution_count": 5,
   "id": "ab245561",
   "metadata": {},
   "outputs": [
    {
     "name": "stdout",
     "output_type": "stream",
     "text": [
      "Distance between 0 and 5 is 3\n"
     ]
    }
   ],
   "source": [
    "root = TreeNode(6)\n",
    "root.left = TreeNode(2)\n",
    "root.right = TreeNode(8)\n",
    "root.left.left = TreeNode(0)\n",
    "root.left.right = TreeNode(4)\n",
    "root.right.left = TreeNode(7)\n",
    "root.right.right = TreeNode(9)\n",
    "root.left.right.left = TreeNode(3)\n",
    "root.left.right.right = TreeNode(5)\n",
    "\n",
    "node1 = root.left.left  # Node with value 0\n",
    "node2 = root.left.right.right  # Node with value 5\n",
    "distance = findDistance(root, node1, node2)\n",
    "\n",
    "print(\"Distance between\", node1.val, \"and\", node2.val, \"is\", distance)"
   ]
  },
  {
   "cell_type": "markdown",
   "id": "01f80388",
   "metadata": {},
   "source": [
    "### Question-3:\n",
    "\n",
    "Write a program to convert a binary tree to a doubly linked list."
   ]
  },
  {
   "cell_type": "code",
   "execution_count": 6,
   "id": "d425002d",
   "metadata": {},
   "outputs": [],
   "source": [
    "class Node:\n",
    "    def __init__(self, val=0, left=None, right=None):\n",
    "        self.val = val\n",
    "        self.left = left\n",
    "        self.right = right\n",
    "\n",
    "def convertToDoublyLinkedList(root):\n",
    "    if root is None:\n",
    "        return None\n",
    "\n",
    "    prev = None\n",
    "\n",
    "    head = convertToDoublyLinkedList(root.left)\n",
    "\n",
    "    if head is None:\n",
    "        head = root\n",
    "    else:\n",
    "        root.left = prev\n",
    "        prev.right = root\n",
    "\n",
    "    prev = root\n",
    "    convertToDoublyLinkedList(root.right)\n",
    "\n",
    "    return head\n",
    "\n",
    "def printDoublyLinkedList(head):\n",
    "    current = head\n",
    "    while current:\n",
    "        print(current.val, end=\" \")\n",
    "        current = current.right\n",
    "    print()\n"
   ]
  },
  {
   "cell_type": "markdown",
   "id": "a155c8f9",
   "metadata": {},
   "source": [
    "###  Question-4:\n",
    "\n",
    "Write a program to connect nodes at the same level."
   ]
  },
  {
   "cell_type": "code",
   "execution_count": 11,
   "id": "f3fb4385",
   "metadata": {},
   "outputs": [],
   "source": [
    "class Node:\n",
    "    def __init__(self, val=0, left=None, right=None, next=None):\n",
    "        self.val = val\n",
    "        self.left = left\n",
    "        self.right = right\n",
    "        self.next = next\n",
    "\n",
    "def connectNodesAtSameLevel(root):\n",
    "    if root is None:\n",
    "        return None\n",
    "\n",
    "    queue = [root]\n",
    "\n",
    "    while queue:\n",
    "        size = len(queue)\n",
    "        for i in range(size):\n",
    "            node = queue.pop(0)\n",
    "\n",
    "            if i < size - 1:\n",
    "                node.next = queue[0]\n",
    "\n",
    "            if node.left:\n",
    "                queue.append(node.left)\n",
    "            if node.right:\n",
    "                queue.append(node.right)\n",
    "    return root\n"
   ]
  },
  {
   "cell_type": "code",
   "execution_count": 12,
   "id": "4adcb26e",
   "metadata": {},
   "outputs": [
    {
     "name": "stdout",
     "output_type": "stream",
     "text": [
      "1 \n"
     ]
    }
   ],
   "source": [
    "root = Node(1)\n",
    "root.left = Node(2)\n",
    "root.right = Node(3)\n",
    "root.left.left = Node(4)\n",
    "root.left.right = Node(5)\n",
    "root.right.right = Node(7)\n",
    "\n",
    "# Connect nodes at the same level\n",
    "connectNodesAtSameLevel(root)\n",
    "\n",
    "current = root\n",
    "while current:\n",
    "    print(current.val, end=\" \")\n",
    "    current = current.next\n",
    "print()"
   ]
  }
 ],
 "metadata": {
  "kernelspec": {
   "display_name": "Python 3 (ipykernel)",
   "language": "python",
   "name": "python3"
  },
  "language_info": {
   "codemirror_mode": {
    "name": "ipython",
    "version": 3
   },
   "file_extension": ".py",
   "mimetype": "text/x-python",
   "name": "python",
   "nbconvert_exporter": "python",
   "pygments_lexer": "ipython3",
   "version": "3.11.4"
  }
 },
 "nbformat": 4,
 "nbformat_minor": 5
}
