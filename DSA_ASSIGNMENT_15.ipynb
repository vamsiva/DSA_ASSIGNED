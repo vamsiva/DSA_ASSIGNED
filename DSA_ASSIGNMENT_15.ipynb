{
 "cells": [
  {
   "cell_type": "markdown",
   "id": "6ebd96be",
   "metadata": {},
   "source": [
    "###  **Question 1**\n",
    "\n",
    "Given an array **arr[ ]** of size **N** having elements, the task is to find the next greater element for each element of the array in order of their appearance in the array.Next greater element of an element in the array is the nearest element on the right which is greater than the current element.If there does not exist next greater of current element, then next greater element for current element is -1."
   ]
  },
  {
   "cell_type": "code",
   "execution_count": 1,
   "id": "d3d8012f",
   "metadata": {},
   "outputs": [],
   "source": [
    "def nextGreaterElement(arr):\n",
    "    n = len(arr)\n",
    "    stack = []\n",
    "    result = [-1] * n\n",
    "\n",
    "    for i in range(n - 1, -1, -1):\n",
    "        while stack and stack[-1] <= arr[i]:\n",
    "            stack.pop()\n",
    "\n",
    "        if stack:\n",
    "            result[i] = stack[-1]\n",
    "\n",
    "        stack.append(arr[i])\n",
    "\n",
    "    return result\n"
   ]
  },
  {
   "cell_type": "code",
   "execution_count": 3,
   "id": "e77617fb",
   "metadata": {},
   "outputs": [
    {
     "data": {
      "text/plain": [
       "[8, -1, 1, 3, -1]"
      ]
     },
     "execution_count": 3,
     "metadata": {},
     "output_type": "execute_result"
    }
   ],
   "source": [
    "nextGreaterElement([6, 8, 0, 1, 3])"
   ]
  },
  {
   "cell_type": "markdown",
   "id": "fa5f9eec",
   "metadata": {},
   "source": [
    "### **Question 2**\n",
    "\n",
    "Given an array **a** of integers of length **n**, find the nearest smaller number for every element such that the smaller element is on left side.If no small element present on the left print -1."
   ]
  },
  {
   "cell_type": "code",
   "execution_count": 4,
   "id": "5384a43c",
   "metadata": {},
   "outputs": [],
   "source": [
    "def nearestSmallerElement(a):\n",
    "    n = len(a)\n",
    "    stack = []\n",
    "    result = [-1] * n\n",
    "\n",
    "    for i in range(n):\n",
    "        while stack and stack[-1] >= a[i]:\n",
    "            stack.pop()\n",
    "\n",
    "        if stack:\n",
    "            result[i] = stack[-1]\n",
    "\n",
    "        stack.append(a[i])\n",
    "\n",
    "    return result"
   ]
  },
  {
   "cell_type": "code",
   "execution_count": 6,
   "id": "f609493d",
   "metadata": {},
   "outputs": [
    {
     "data": {
      "text/plain": [
       "[-1, 1, 1]"
      ]
     },
     "execution_count": 6,
     "metadata": {},
     "output_type": "execute_result"
    }
   ],
   "source": [
    "nearestSmallerElement([1, 6, 2])"
   ]
  },
  {
   "cell_type": "markdown",
   "id": "069f5fa7",
   "metadata": {},
   "source": [
    "###  **Question 3**\n",
    "\n",
    "Implement a Stack using two queues **q1** and **q2**.\n"
   ]
  },
  {
   "cell_type": "code",
   "execution_count": 7,
   "id": "082c2ee7",
   "metadata": {},
   "outputs": [],
   "source": [
    "from queue import Queue\n",
    "\n",
    "class Stack:\n",
    "    def __init__(self):\n",
    "        self.q1 = Queue()\n",
    "        self.q2 = Queue()\n",
    "\n",
    "    def push(self, val):\n",
    "        self.q1.put(val)\n",
    "\n",
    "    def pop(self):\n",
    "        if self.q1.empty() and self.q2.empty():\n",
    "            raise Exception(\"Stack is empty\")\n",
    "\n",
    "        while self.q1.qsize() > 1:\n",
    "            self.q2.put(self.q1.get())\n",
    "\n",
    "        return self.q1.get()\n",
    "\n",
    "    def top(self):\n",
    "        if self.q1.empty() and self.q2.empty():\n",
    "            raise Exception(\"Stack is empty\")\n",
    "\n",
    "        while self.q1.qsize() > 1:\n",
    "            self.q2.put(self.q1.get())\n",
    "\n",
    "        top_element = self.q1.get()\n",
    "        self.q2.put(top_element)\n",
    "\n",
    "        self.q1, self.q2 = self.q2, self.q1\n",
    "\n",
    "        return top_element\n",
    "\n",
    "    def empty(self):\n",
    "        return self.q1.empty() and self.q2.empty()\n"
   ]
  },
  {
   "cell_type": "code",
   "execution_count": null,
   "id": "428700e5",
   "metadata": {},
   "outputs": [
    {
     "name": "stdout",
     "output_type": "stream",
     "text": [
      "3\n"
     ]
    }
   ],
   "source": [
    "stack = Stack()\n",
    "\n",
    "# Push elements into the stack\n",
    "stack.push(1)\n",
    "stack.push(2)\n",
    "stack.push(3)\n",
    "\n",
    "# Pop elements from the stack\n",
    "print(stack.pop())  \n",
    "print(stack.pop())  \n",
    "\n",
    "# Get the top element of the stack\n",
    "print(stack.top()) \n",
    "\n",
    "# Check if the stack is empty\n",
    "print(stack.empty())  \n",
    "\n",
    "# Pop the last element from the stack\n",
    "print(stack.pop())  \n",
    "\n",
    "# Check if the stack is empty\n",
    "print(stack.empty()) "
   ]
  },
  {
   "cell_type": "markdown",
   "id": "548d5c6d",
   "metadata": {},
   "source": [
    "### **Question 4**\n",
    "\n",
    "You are given a stack **St**. You have to reverse the stack using recursion."
   ]
  },
  {
   "cell_type": "code",
   "execution_count": 1,
   "id": "1c53b906",
   "metadata": {},
   "outputs": [],
   "source": [
    "def reverseStack(St):\n",
    "    if len(St) <= 1:\n",
    "        return St\n",
    "\n",
    "    top = St.pop()\n",
    "    reversed_stack = reverseStack(St)\n",
    "    insertAtBottom(reversed_stack, top)\n",
    "    return reversed_stack\n",
    "\n",
    "def insertAtBottom(stack, item):\n",
    "    if len(stack) == 0:\n",
    "        stack.append(item)\n",
    "    else:\n",
    "        temp = stack.pop()\n",
    "        insertAtBottom(stack, item)\n",
    "        stack.append(temp)"
   ]
  },
  {
   "cell_type": "code",
   "execution_count": 2,
   "id": "64416022",
   "metadata": {},
   "outputs": [
    {
     "data": {
      "text/plain": [
       "[6, 7, 1, 2, 3]"
      ]
     },
     "execution_count": 2,
     "metadata": {},
     "output_type": "execute_result"
    }
   ],
   "source": [
    "reverseStack([3,2,1,7,6])"
   ]
  },
  {
   "cell_type": "markdown",
   "id": "d45b312a",
   "metadata": {},
   "source": [
    "###  **Question 5**\n",
    "\n",
    "You are given a string **S**, the task is to reverse the string using stack.\n"
   ]
  },
  {
   "cell_type": "code",
   "execution_count": 3,
   "id": "15a20958",
   "metadata": {},
   "outputs": [],
   "source": [
    "def reverseString(S):\n",
    "    stack = []\n",
    "    for char in S:\n",
    "        stack.append(char)\n",
    "\n",
    "    reversed_string = \"\"\n",
    "    while stack:\n",
    "        reversed_string += stack.pop()\n",
    "\n",
    "    return reversed_string"
   ]
  },
  {
   "cell_type": "code",
   "execution_count": 4,
   "id": "70c7a68d",
   "metadata": {},
   "outputs": [
    {
     "data": {
      "text/plain": [
       "'skeeGrofskeeG'"
      ]
     },
     "execution_count": 4,
     "metadata": {},
     "output_type": "execute_result"
    }
   ],
   "source": [
    "reverseString(\"GeeksforGeeks\")"
   ]
  },
  {
   "cell_type": "markdown",
   "id": "b26463f7",
   "metadata": {},
   "source": [
    "### **Question 6**\n",
    "\n",
    "Given string **S** representing a postfix expression, the task is to evaluate the expression and find the final value. Operators will only include the basic arithmetic operators like ***, /, + and -**."
   ]
  },
  {
   "cell_type": "code",
   "execution_count": 5,
   "id": "ba3630d8",
   "metadata": {},
   "outputs": [],
   "source": [
    "def evaluatePostfix(S):\n",
    "    stack = []\n",
    "\n",
    "    for char in S:\n",
    "        if char.isdigit():\n",
    "            stack.append(int(char))\n",
    "        else:\n",
    "            num2 = stack.pop()\n",
    "            num1 = stack.pop()\n",
    "\n",
    "            if char == '+':\n",
    "                result = num1 + num2\n",
    "            elif char == '-':\n",
    "                result = num1 - num2\n",
    "            elif char == '*':\n",
    "                result = num1 * num2\n",
    "            elif char == '/':\n",
    "                result = num1 / num2\n",
    "\n",
    "            stack.append(result)\n",
    "\n",
    "    return stack.pop()"
   ]
  },
  {
   "cell_type": "code",
   "execution_count": 6,
   "id": "a30fa618",
   "metadata": {},
   "outputs": [
    {
     "data": {
      "text/plain": [
       "-4"
      ]
     },
     "execution_count": 6,
     "metadata": {},
     "output_type": "execute_result"
    }
   ],
   "source": [
    "evaluatePostfix(\"231*+9-\")"
   ]
  },
  {
   "cell_type": "markdown",
   "id": "7959bca8",
   "metadata": {},
   "source": [
    "### **Question 7**\n",
    "\n",
    "Design a stack that supports push, pop, top, and retrieving the minimum element in constant time.\n",
    "\n",
    "Implement the `MinStack` class:\n",
    "\n",
    "- `MinStack()` initializes the stack object.\n",
    "- `void push(int val)` pushes the element `val` onto the stack.\n",
    "- `void pop()` removes the element on the top of the stack.\n",
    "- `int top()` gets the top element of the stack.\n",
    "- `int getMin()` retrieves the minimum element in the stack.\n",
    "\n",
    "You must implement a solution with `O(1)` time complexity for each function.\n"
   ]
  },
  {
   "cell_type": "code",
   "execution_count": 7,
   "id": "d07c99a6",
   "metadata": {},
   "outputs": [],
   "source": [
    "class MinStack:\n",
    "    def __init__(self):\n",
    "        self.stack = []\n",
    "        self.min_stack = []\n",
    "\n",
    "    def push(self, val):\n",
    "        self.stack.append(val)\n",
    "\n",
    "        if not self.min_stack or val <= self.min_stack[-1]:\n",
    "            self.min_stack.append(val)\n",
    "\n",
    "    def pop(self):\n",
    "        if self.stack:\n",
    "            val = self.stack.pop()\n",
    "\n",
    "            if val == self.min_stack[-1]:\n",
    "                self.min_stack.pop()\n",
    "\n",
    "    def top(self):\n",
    "        if self.stack:\n",
    "            return self.stack[-1]\n",
    "\n",
    "    def getMin(self):\n",
    "        if self.min_stack:\n",
    "            return self.min_stack[-1]"
   ]
  },
  {
   "cell_type": "code",
   "execution_count": 9,
   "id": "842da660",
   "metadata": {},
   "outputs": [
    {
     "name": "stdout",
     "output_type": "stream",
     "text": [
      "1\n",
      "10\n",
      "2\n"
     ]
    }
   ],
   "source": [
    "stack = MinStack()\n",
    "\n",
    "# Push elements into the stack\n",
    "stack.push(5)\n",
    "stack.push(2)\n",
    "stack.push(10)\n",
    "stack.push(1)\n",
    "\n",
    "# Get the minimum element in the stack\n",
    "min_val = stack.getMin()\n",
    "print(min_val)  # Output: 1\n",
    "\n",
    "# Pop an element from the stack\n",
    "stack.pop()\n",
    "\n",
    "# Get the top element of the stack\n",
    "top_val = stack.top()\n",
    "print(top_val)  # Output: 10\n",
    "\n",
    "# Get the minimum element in the stack\n",
    "min_val = stack.getMin()\n",
    "print(min_val)  # Output: 2"
   ]
  },
  {
   "cell_type": "markdown",
   "id": "d8b1b26f",
   "metadata": {},
   "source": [
    "###  **Question 8**\n",
    "\n",
    "Given `n` non-negative integers representing an elevation map where the width of each bar is `1`, compute how much water it can trap after raining."
   ]
  },
  {
   "cell_type": "code",
   "execution_count": 10,
   "id": "107715f0",
   "metadata": {},
   "outputs": [],
   "source": [
    "def trapWater(height):\n",
    "    left = 0\n",
    "    right = len(height) - 1\n",
    "    left_max = 0\n",
    "    right_max = 0\n",
    "    water = 0\n",
    "\n",
    "    while left <= right:\n",
    "        if height[left] <= height[right]:\n",
    "            if height[left] > left_max:\n",
    "                left_max = height[left]\n",
    "            else:\n",
    "                water += left_max - height[left]\n",
    "            left += 1\n",
    "        else:\n",
    "            if height[right] > right_max:\n",
    "                right_max = height[right]\n",
    "            else:\n",
    "                water += right_max - height[right]\n",
    "            right -= 1\n",
    "\n",
    "    return water"
   ]
  },
  {
   "cell_type": "code",
   "execution_count": 11,
   "id": "22904b48",
   "metadata": {},
   "outputs": [
    {
     "data": {
      "text/plain": [
       "6"
      ]
     },
     "execution_count": 11,
     "metadata": {},
     "output_type": "execute_result"
    }
   ],
   "source": [
    "trapWater([0, 1, 0, 2, 1, 0, 1, 3, 2, 1, 2, 1])"
   ]
  }
 ],
 "metadata": {
  "kernelspec": {
   "display_name": "Python 3 (ipykernel)",
   "language": "python",
   "name": "python3"
  },
  "language_info": {
   "codemirror_mode": {
    "name": "ipython",
    "version": 3
   },
   "file_extension": ".py",
   "mimetype": "text/x-python",
   "name": "python",
   "nbconvert_exporter": "python",
   "pygments_lexer": "ipython3",
   "version": "3.11.4"
  }
 },
 "nbformat": 4,
 "nbformat_minor": 5
}
