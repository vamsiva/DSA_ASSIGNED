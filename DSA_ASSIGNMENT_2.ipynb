{
 "cells": [
  {
   "cell_type": "markdown",
   "id": "a9a84b06-8459-4f3e-8237-39469991288a",
   "metadata": {},
   "source": [
    "# Q1"
   ]
  },
  {
   "cell_type": "markdown",
   "id": "4591aa0f-2ded-42ab-9fd4-2eb68ec9cc1d",
   "metadata": {},
   "source": [
    "<aside> \n",
    "Question 1\n",
    "Given an integer array nums of 2n integers, group these integers into n pairs (a1, b1), (a2, b2),\n",
    "..., (an, bn) such that the sum of min(ai, bi) for all i is maximized. Return the maximized sum.\n",
    "Example 1:\n",
    "Input: nums = [1,4,3,2]\n",
    "Output: 4\n",
    "Explanation: All possible pairings (ignoring the ordering of elements) are:\n",
    "1. (1, 4), (2, 3) -> min(1, 4) + min(2, 3) = 1 + 2 = 3\n",
    "2. (1, 3), (2, 4) -> min(1, 3) + min(2, 4) = 1 + 2 = 3\n",
    "3. (1, 2), (3, 4) -> min(1, 2) + min(3, 4) = 1 + 3 = 4\n",
    "So the maximum possible sum is 4\n",
    "</aside>"
   ]
  },
  {
   "cell_type": "code",
   "execution_count": 5,
   "id": "ae299d89-4874-4706-8bef-44ef60a41393",
   "metadata": {},
   "outputs": [
    {
     "name": "stdout",
     "output_type": "stream",
     "text": [
      "4\n"
     ]
    }
   ],
   "source": [
    "#ANS:\n",
    "arr=[1,4,3,2]\n",
    "def max_posible_sum(arr):\n",
    "    arr.sort()\n",
    "    return sum(arr[::2])\n",
    "print(max_posible_sum(arr))"
   ]
  },
  {
   "cell_type": "markdown",
   "id": "25fb0a6c-227c-42f3-ac35-2fafab6c6ab7",
   "metadata": {},
   "source": [
    "# Q2"
   ]
  },
  {
   "cell_type": "markdown",
   "id": "3845247a-e55a-45f4-a32b-94bfc4a7b4db",
   "metadata": {},
   "source": [
    "Question 2\n",
    "Alice has n candies, where the ith candy is of type candyType[i]. Alice noticed that she started\n",
    "to gain weight, so she visited a doctor.\n",
    "The doctor advised Alice to only eat n / 2 of the candies she has (n is always even). Alice\n",
    "likes her candies very much, and she wants to eat the maximum number of different types of\n",
    "candies while still following the doctor's advice.\n",
    "Given the integer array candyType of length n, return the maximum number of different types\n",
    "of candies she can eat if she only eats n / 2 of them.\n",
    "Example 1:\n",
    "Input: candyType = [1,1,2,2,3,3]\n",
    "Output: 3\n",
    "Explanation: Alice can only eat 6 / 2 = 3 candies. Since there are only 3 types, she can eat one\n",
    "of each type."
   ]
  },
  {
   "cell_type": "code",
   "execution_count": 14,
   "id": "a59a49fb-e756-4397-82d7-387fb3f70d9a",
   "metadata": {},
   "outputs": [
    {
     "name": "stdout",
     "output_type": "stream",
     "text": [
      "max candies are: 3.\n"
     ]
    }
   ],
   "source": [
    "#Ans:\n",
    "candies=[1,1,2,2,3,3]\n",
    "def max_diff_candies(candies):\n",
    "    result=(len(set(candies)))\n",
    "    if result>len(candies)/2:\n",
    "        return (len(candies)/2)\n",
    "    return result\n",
    "print(f\"max candies are: {max_diff_candies(candies)}.\")"
   ]
  },
  {
   "cell_type": "markdown",
   "id": "cb7f1dbc-a132-4dcc-91b8-e920b11735e3",
   "metadata": {},
   "source": [
    "# Q3"
   ]
  },
  {
   "cell_type": "markdown",
   "id": "7d1e5880-64b3-4aa7-8d7b-5b36540a13a0",
   "metadata": {},
   "source": [
    "Question 3\n",
    "We define a harmonious array as an array where the difference between its maximum value\n",
    "and its minimum value is exactly 1.\n",
    "Given an integer array nums, return the length of its longest harmonious subsequence\n",
    "among all its possible subsequences.\n",
    "A subsequence of an array is a sequence that can be derived from the array by deleting some\n",
    "or no elements without changing the order of the remaining elements.\n",
    "Example 1:\n",
    "Input: nums = [1,3,2,2,5,2,3,7]\n",
    "Output: 5\n",
    "Explanation: The longest harmonious subsequence is [3,2,2,2,3]."
   ]
  },
  {
   "cell_type": "code",
   "execution_count": 16,
   "id": "8e2ad8a8-cf86-46b8-8366-48d533282418",
   "metadata": {},
   "outputs": [
    {
     "name": "stdout",
     "output_type": "stream",
     "text": [
      "The length of its longest harmonious subsequence is 5\n"
     ]
    }
   ],
   "source": [
    "#ans:\n",
    "def long_harmonious(arr1):\n",
    "    freq={key:arr1.count(key) for key in arr1}\n",
    "    max_len=0\n",
    "    for keys in freq:\n",
    "        \n",
    "        if keys+1 in freq:\n",
    "            max_len=max(max_len,freq[keys]+freq[keys+1])\n",
    "    return max_len\n",
    "\n",
    "#input        \n",
    "arr1=[1,3,2,2,5,2,3,7]\n",
    "result=long_harmonious(arr1)\n",
    "print(f\"The length of its longest harmonious subsequence is {result}\")"
   ]
  },
  {
   "cell_type": "markdown",
   "id": "d1fc3064-880a-49e1-a3c5-8dfebc2157fe",
   "metadata": {},
   "source": [
    "# Q4"
   ]
  },
  {
   "cell_type": "markdown",
   "id": "665676f8-3a8d-4da2-855a-3f33daf319cc",
   "metadata": {},
   "source": [
    "Question 4\n",
    "You have a long flowerbed in which some of the plots are planted, and some are not.\n",
    "However, flowers cannot be planted in adjacent plots.\n",
    "Given an integer array flowerbed containing 0's and 1's, where 0 means empty and 1 means not empty, and an integer n, return true if n new flowers can be planted in the flowerbed without violating the no-adjacent-flowers rule and false otherwise.\n",
    "\n",
    "Example 1:\n",
    "Input: flowerbed = [1,0,0,0,1], n = 1\n",
    "Output: true"
   ]
  },
  {
   "cell_type": "code",
   "execution_count": 1,
   "id": "29577f00-cf69-4de1-b0b7-d0f3d3946c00",
   "metadata": {},
   "outputs": [
    {
     "name": "stdout",
     "output_type": "stream",
     "text": [
      "True\n"
     ]
    }
   ],
   "source": [
    "#Ans:\n",
    "def Flowers(flowerbed, n):\n",
    "    count = 1\n",
    "    beds = 0\n",
    "    for bed in flowerbed:\n",
    "        if bed:\n",
    "            beds += (count - 1) // 2\n",
    "            count = 0\n",
    "        else:\n",
    "            count += 1\n",
    "\n",
    "    beds += count // 2\n",
    "\n",
    "    return beds >= n\n",
    "flowerbed = [1,0,0,0,1]\n",
    "n = 1\n",
    "result=Flowers(flowerbed,n)\n",
    "print(result)"
   ]
  },
  {
   "cell_type": "markdown",
   "id": "63365b17-ebb9-4ef2-b178-95044b8bf5e6",
   "metadata": {},
   "source": [
    "# Q5"
   ]
  },
  {
   "cell_type": "markdown",
   "id": "4c1a75c9-4156-4857-b18d-e5216c161c0b",
   "metadata": {},
   "source": [
    "Given an integer array nums, find three numbers whose product is maximum and return the maximum product.\n",
    "\n",
    "Example 1:\n",
    "Input: nums = [1,2,3]\n",
    "Output: 6"
   ]
  },
  {
   "cell_type": "code",
   "execution_count": 5,
   "id": "f2d48c4c-aa54-4197-8654-69494e76e5f6",
   "metadata": {},
   "outputs": [
    {
     "name": "stdout",
     "output_type": "stream",
     "text": [
      "The max product is: 6\n"
     ]
    }
   ],
   "source": [
    "nums=[1,2,3]\n",
    "def max_pro(nums):\n",
    "    n = len(nums)\n",
    "    nums.sort()\n",
    "    return max(nums[0] * nums[1] * nums[n - 1], nums[n-3] * nums[n - 2] * nums[n-1])\n",
    "    \n",
    "print(f\"The max product is: {max_pro(nums)}\")"
   ]
  },
  {
   "cell_type": "markdown",
   "id": "2b95920c-b4ea-4b3e-a65b-3be641fdcf13",
   "metadata": {},
   "source": [
    "# Q6"
   ]
  },
  {
   "cell_type": "markdown",
   "id": "2ddc8b52-5e85-46b8-8c4c-4d87b8abdeb1",
   "metadata": {},
   "source": [
    "Given an array of integers nums which is sorted in ascending order, and an integer target,\n",
    "write a function to search target in nums. If target exists, then return its index. Otherwise,\n",
    "return -1.\n",
    "\n",
    "You must write an algorithm with O(log n) runtime complexity.\n",
    "\n",
    "Input: nums = [-1,0,3,5,9,12], target = 9\n",
    "Output: 4\n",
    "\n",
    "Explanation: 9 exists in nums and its index is 4"
   ]
  },
  {
   "cell_type": "code",
   "execution_count": 18,
   "id": "1e7a2060-18f4-4a2c-a2d7-7adcb9f4dfb0",
   "metadata": {},
   "outputs": [
    {
     "name": "stdout",
     "output_type": "stream",
     "text": [
      "The index of '9' is 4\n"
     ]
    }
   ],
   "source": [
    "nums1=[-1,0,3,5,9,12]\n",
    "target = 9\n",
    "def To_search_target(nums1,target):\n",
    "    n=len(nums1)\n",
    "    l=0\n",
    "    r=n-1\n",
    "    while(l<=r):\n",
    "        mid=l+(r-1)//2\n",
    "        if nums1[mid]==target:\n",
    "            return mid\n",
    "        elif nums1[mid]<target:\n",
    "            l=mid+1\n",
    "        else:\n",
    "            r=mid-1\n",
    "    return -1\n",
    "result=To_search_target(nums1,target)\n",
    "print(f\"The index of '{target}' is {result}\")"
   ]
  },
  {
   "cell_type": "markdown",
   "id": "a38c3d77-e023-4b28-ab57-c69f188b7a83",
   "metadata": {},
   "source": [
    "# Q7"
   ]
  },
  {
   "cell_type": "markdown",
   "id": "265b921b-94fb-45de-8167-48efb255d663",
   "metadata": {},
   "source": [
    "An array is monotonic if it is either monotone increasing or monotone decreasing.\n",
    "\n",
    "An array nums is monotone increasing if for all i <= j, nums[i] <= nums[j]. An array nums is\n",
    "monotone decreasing if for all i <= j, nums[i] >= nums[j].\n",
    "\n",
    "Given an integer array nums, return true if the given array is monotonic, or false otherwise.\n",
    "\n",
    "Example 1:\n",
    "Input: nums = [1,2,2,3]\n",
    "Output: true"
   ]
  },
  {
   "cell_type": "code",
   "execution_count": 22,
   "id": "3ae3a354-80c4-4fcc-a046-c8cf4f207ac7",
   "metadata": {},
   "outputs": [
    {
     "name": "stdout",
     "output_type": "stream",
     "text": [
      "True\n"
     ]
    }
   ],
   "source": [
    "def isMonotonic(nums):\n",
    "    inc = True\n",
    "    dec = True\n",
    "    for i in range(len(nums)-1):\n",
    "        if nums[i] > nums[i+1]:\n",
    "            inc = False\n",
    "\n",
    "        if nums[i] < nums[i+1]:\n",
    "            dec = False\n",
    "\n",
    "    return inc or dec\n",
    "nums=[1,2,2,3]\n",
    "r=isMonotonic(nums)\n",
    "print(r)"
   ]
  },
  {
   "cell_type": "markdown",
   "id": "65ec0a99-7fd7-447b-9781-c5fc6b0fffd2",
   "metadata": {},
   "source": [
    "# Q8"
   ]
  },
  {
   "cell_type": "markdown",
   "id": "eab5e2e4-e919-4f31-8e73-37225a3c9360",
   "metadata": {},
   "source": [
    "You are given an integer array nums and an integer k.\n",
    "\n",
    "In one operation, you can choose any index i where 0 <= i < nums.length and change nums[i] to nums[i] + x where x is an integer from the range [-k, k]. You can apply this operation at most once for each index i.\n",
    "\n",
    "The score of nums is the difference between the maximum and minimum elements in nums.\n",
    "\n",
    "Return the minimum score of nums after applying the mentioned operation at most once for each index in it.\n",
    "\n",
    "Example 1:\n",
    "Input: nums = [1], k = 0\n",
    "Output: 0\n",
    "\n",
    "Explanation: The score is max(nums) - min(nums) = 1 - 1 = 0."
   ]
  },
  {
   "cell_type": "code",
   "execution_count": null,
   "id": "7b6bb21c-5f91-471e-a2d4-c565a46a465c",
   "metadata": {},
   "outputs": [],
   "source": [
    "min_num_score(nums):    \n",
    "    max_=max(nums)\n",
    "    min_=min(nums)\n",
    "    return max(0,max_-min_-k-k)"
   ]
  }
 ],
 "metadata": {
  "kernelspec": {
   "display_name": "Python 3 (ipykernel)",
   "language": "python",
   "name": "python3"
  },
  "language_info": {
   "codemirror_mode": {
    "name": "ipython",
    "version": 3
   },
   "file_extension": ".py",
   "mimetype": "text/x-python",
   "name": "python",
   "nbconvert_exporter": "python",
   "pygments_lexer": "ipython3",
   "version": "3.10.6"
  }
 },
 "nbformat": 4,
 "nbformat_minor": 5
}
