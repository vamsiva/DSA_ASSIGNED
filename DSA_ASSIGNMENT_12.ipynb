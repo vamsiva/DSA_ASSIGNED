{
 "cells": [
  {
   "cell_type": "markdown",
   "id": "0c3cde24",
   "metadata": {},
   "source": [
    "###  **Question 1**\n",
    "\n",
    "Given a singly linked list, delete **middle** of the linked list. For example, if given linked list is 1->2->**3**->4->5 then linked list should be modified to 1->2->4->5.If there are **even** nodes, then there would be **two middle** nodes, we need to delete the second middle element. For example, if given linked list is 1->2->3->4->5->6 then it should be modified to 1->2->3->5->6.If the input linked list is NULL or has 1 node, then it should return NULL"
   ]
  },
  {
   "cell_type": "code",
   "execution_count": 2,
   "id": "4b66021b",
   "metadata": {},
   "outputs": [],
   "source": [
    "class ListNode:\n",
    "    def __init__(self, val=0, next=None):\n",
    "        self.val = val\n",
    "        self.next = next\n",
    "\n",
    "def deleteMiddleNode(head):\n",
    "    if head is None or head.next is None:\n",
    "        return None\n",
    "    \n",
    "    slow = head\n",
    "    fast = head\n",
    "    prev = None\n",
    "    \n",
    "    while fast and fast.next:\n",
    "        prev = slow\n",
    "        slow = slow.next\n",
    "        fast = fast.next.next\n",
    "    \n",
    "    prev.next = slow.next\n",
    "    \n",
    "    return head"
   ]
  },
  {
   "cell_type": "code",
   "execution_count": 3,
   "id": "85573de6",
   "metadata": {},
   "outputs": [],
   "source": [
    "node5 = ListNode(5)\n",
    "node4 = ListNode(4, node5)\n",
    "node3 = ListNode(3, node4)\n",
    "node2 = ListNode(2, node3)\n",
    "node1 = ListNode(1, node2)"
   ]
  },
  {
   "cell_type": "code",
   "execution_count": 6,
   "id": "c0d956d1",
   "metadata": {},
   "outputs": [],
   "source": [
    "result = deleteMiddleNode(node1)"
   ]
  },
  {
   "cell_type": "code",
   "execution_count": 7,
   "id": "d6030e4c",
   "metadata": {},
   "outputs": [
    {
     "name": "stdout",
     "output_type": "stream",
     "text": [
      "1 2 5 "
     ]
    }
   ],
   "source": [
    "current = result\n",
    "while current:\n",
    "    print(current.val, end=' ')\n",
    "    current = current.next"
   ]
  },
  {
   "cell_type": "markdown",
   "id": "e73d331d",
   "metadata": {},
   "source": [
    "### **Question 2**\n",
    "\n",
    "Given a linked list of **N** nodes. The task is to check if the linked list has a loop. Linked list can contain self loop."
   ]
  },
  {
   "cell_type": "code",
   "execution_count": 8,
   "id": "7dbd2b12",
   "metadata": {},
   "outputs": [],
   "source": [
    "def hasCycle(head):\n",
    "    slow = head\n",
    "    fast = head\n",
    "\n",
    "    while fast and fast.next:\n",
    "        slow = slow.next\n",
    "        fast = fast.next.next\n",
    "\n",
    "        if slow == fast:\n",
    "            return True\n",
    "\n",
    "    return False"
   ]
  },
  {
   "cell_type": "code",
   "execution_count": 11,
   "id": "c1956c0d",
   "metadata": {},
   "outputs": [
    {
     "name": "stdout",
     "output_type": "stream",
     "text": [
      "True\n"
     ]
    }
   ],
   "source": [
    "node5 = ListNode(5)\n",
    "node4 = ListNode(4, node5)\n",
    "node3 = ListNode(3, node4)\n",
    "node2 = ListNode(2, node3)\n",
    "node1 = ListNode(1, node2)\n",
    "node5.next = node2\n",
    "result = hasCycle(node1)\n",
    "\n",
    "print(result)"
   ]
  },
  {
   "cell_type": "markdown",
   "id": "2fbce338",
   "metadata": {},
   "source": [
    "### **Question 3**\n",
    "\n",
    "Given a linked list consisting of **L** nodes and given a number **N**. The task is to find the **N**th node from the end of the linked list."
   ]
  },
  {
   "cell_type": "code",
   "execution_count": 12,
   "id": "a342c76a",
   "metadata": {},
   "outputs": [],
   "source": [
    "def findNthFromEnd(head, n):\n",
    "    first = head\n",
    "    second = head\n",
    "\n",
    "    for _ in range(n):\n",
    "        if second is None:\n",
    "            return None\n",
    "        second = second.next\n",
    "\n",
    "    while second and second.next:\n",
    "        first = first.next\n",
    "        second = second.next\n",
    "\n",
    "    return first.val"
   ]
  },
  {
   "cell_type": "code",
   "execution_count": 13,
   "id": "a5b2cf2f",
   "metadata": {},
   "outputs": [],
   "source": [
    "node9 = ListNode(9)\n",
    "node8 = ListNode(8, node9)\n",
    "node7 = ListNode(7, node8)\n",
    "node6 = ListNode(6, node7)\n",
    "node5 = ListNode(5, node6)\n",
    "node4 = ListNode(4, node5)\n",
    "node3 = ListNode(3, node4)\n",
    "node2 = ListNode(2, node3)\n",
    "node1 = ListNode(1, node2)"
   ]
  },
  {
   "cell_type": "code",
   "execution_count": 14,
   "id": "7367b772",
   "metadata": {},
   "outputs": [
    {
     "data": {
      "text/plain": [
       "7"
      ]
     },
     "execution_count": 14,
     "metadata": {},
     "output_type": "execute_result"
    }
   ],
   "source": [
    "findNthFromEnd(node1, 2)"
   ]
  },
  {
   "cell_type": "markdown",
   "id": "0515c674",
   "metadata": {},
   "source": [
    "### **Question 4**\n",
    "\n",
    "Given a singly linked list of characters, write a function that returns true if the given list is a palindrome, else false.\n"
   ]
  },
  {
   "cell_type": "code",
   "execution_count": 15,
   "id": "e3f7461b",
   "metadata": {},
   "outputs": [],
   "source": [
    "def isPalindrome(head):\n",
    "    if head is None or head.next is None:\n",
    "        return True\n",
    "\n",
    "    slow = head\n",
    "    fast = head\n",
    "    while fast and fast.next:\n",
    "        slow = slow.next\n",
    "        fast = fast.next.next\n",
    "\n",
    "\n",
    "    second_half = reverseLinkedList(slow)\n",
    "\n",
    "    first_half = head\n",
    "    while second_half:\n",
    "        if first_half.val != second_half.val:\n",
    "            return False\n",
    "        first_half = first_half.next\n",
    "        second_half = second_half.next\n",
    "\n",
    "    return True\n",
    "\n",
    "def reverseLinkedList(head):\n",
    "    prev = None\n",
    "    current = head\n",
    "    while current:\n",
    "        next_node = current.next\n",
    "        current.next = prev\n",
    "        prev = current\n",
    "        current = next_node\n",
    "    return prev"
   ]
  },
  {
   "cell_type": "code",
   "execution_count": 16,
   "id": "526f1fe4",
   "metadata": {},
   "outputs": [],
   "source": [
    "node5 = ListNode('R')\n",
    "node4 = ListNode('A', node5)\n",
    "node3 = ListNode('D', node4)\n",
    "node2 = ListNode('A', node3)\n",
    "node1 = ListNode('R', node2)"
   ]
  },
  {
   "cell_type": "code",
   "execution_count": 17,
   "id": "331bcc57",
   "metadata": {},
   "outputs": [
    {
     "name": "stdout",
     "output_type": "stream",
     "text": [
      "Yes\n"
     ]
    }
   ],
   "source": [
    "result = isPalindrome(node1)\n",
    "\n",
    "if result:\n",
    "    print(\"Yes\")\n",
    "else:\n",
    "    print(\"No\")"
   ]
  },
  {
   "cell_type": "markdown",
   "id": "c3ce442a",
   "metadata": {},
   "source": [
    "### **Question 5**\n",
    "\n",
    "Given a linked list of **N** nodes such that it may contain a loop.\n",
    "\n",
    "A loop here means that the last node of the link list is connected to the node at position X(1-based index). If the link list does not have any loop, X=0.\n",
    "\n",
    "Remove the loop from the linked list, if it is present, i.e. unlink the last node which is forming the loop."
   ]
  },
  {
   "cell_type": "code",
   "execution_count": 18,
   "id": "d5614da3",
   "metadata": {},
   "outputs": [],
   "source": [
    "def removeLoop(head):\n",
    "\n",
    "    slow = head\n",
    "    fast = head\n",
    "\n",
    "    while fast and fast.next:\n",
    "        slow = slow.next\n",
    "        fast = fast.next.next\n",
    "\n",
    "        if slow == fast:\n",
    "            break\n",
    "\n",
    "\n",
    "    if fast is None or fast.next is None:\n",
    "        return head\n",
    "\n",
    "    slow = head\n",
    "    while slow.next != fast.next:\n",
    "        slow = slow.next\n",
    "        fast = fast.next\n",
    "\n",
    "    fast.next = None\n",
    "\n",
    "    return head"
   ]
  },
  {
   "cell_type": "code",
   "execution_count": 19,
   "id": "35d9ce4b",
   "metadata": {},
   "outputs": [
    {
     "name": "stdout",
     "output_type": "stream",
     "text": [
      "11 11 11 21 43 43 60 "
     ]
    }
   ],
   "source": [
    "node7 = ListNode(60)\n",
    "node6 = ListNode(43, node7)\n",
    "node5 = ListNode(43, node6)\n",
    "node4 = ListNode(21, node5)\n",
    "node3 = ListNode(11, node4)\n",
    "node2 = ListNode(11, node3)\n",
    "node1 = ListNode(11, node2)\n",
    "\n",
    "node7.next = node3\n",
    "\n",
    "result = removeLoop(node1)\n",
    "\n",
    "current = result\n",
    "while current:\n",
    "    print(current.val, end=' ')\n",
    "    current = current.next"
   ]
  },
  {
   "cell_type": "markdown",
   "id": "89e04f9a",
   "metadata": {},
   "source": [
    "### **Question 6**\n",
    "\n",
    "Given a linked list and two integers M and N. Traverse the linked list such that you retain M nodes then delete next N nodes, continue the same till end of the linked list."
   ]
  },
  {
   "cell_type": "code",
   "execution_count": 20,
   "id": "3f37c813",
   "metadata": {},
   "outputs": [],
   "source": [
    "def deleteNodes(head, M, N):\n",
    "    if M == 0:\n",
    "        return None\n",
    "\n",
    "    current = head\n",
    "    prev = None\n",
    "\n",
    "    while current:\n",
    "        # Traverse M nodes\n",
    "        for _ in range(M):\n",
    "            if current:\n",
    "                prev = current\n",
    "                current = current.next\n",
    "            else:\n",
    "                break\n",
    "\n",
    "        # Delete N nodes\n",
    "        for _ in range(N):\n",
    "            if current:\n",
    "                current = current.next\n",
    "            else:\n",
    "                break\n",
    "\n",
    "        # Adjust the links to skip the deleted nodes\n",
    "        prev.next = current\n",
    "\n",
    "    return head"
   ]
  },
  {
   "cell_type": "code",
   "execution_count": 21,
   "id": "c2d38cd5",
   "metadata": {},
   "outputs": [
    {
     "name": "stdout",
     "output_type": "stream",
     "text": [
      "1 2 6 7 "
     ]
    }
   ],
   "source": [
    "node9 = ListNode(9)\n",
    "node8 = ListNode(8, node9)\n",
    "node7 = ListNode(7, node8)\n",
    "node6 = ListNode(6, node7)\n",
    "node5 = ListNode(5, node6)\n",
    "node4 = ListNode(4, node5)\n",
    "node3 = ListNode(3, node4)\n",
    "node2 = ListNode(2, node3)\n",
    "node1 = ListNode(1, node2)\n",
    "\n",
    "# Call the deleteNodes function with M=2 and N=3\n",
    "M = 2\n",
    "N = 3\n",
    "result = deleteNodes(node1, M, N)\n",
    "\n",
    "# Traverse and print the resulting linked list\n",
    "current = result\n",
    "while current:\n",
    "    print(current.val, end=' ')\n",
    "    current = current.next"
   ]
  },
  {
   "cell_type": "markdown",
   "id": "8e479019",
   "metadata": {},
   "source": [
    "### **Question 7**\n",
    "\n",
    "Given two linked lists, insert nodes of second list into first list at alternate positions of first list."
   ]
  },
  {
   "cell_type": "code",
   "execution_count": 22,
   "id": "72078152",
   "metadata": {},
   "outputs": [],
   "source": [
    "def mergeLists(first, second):\n",
    "    if first is None:\n",
    "        return second\n",
    "\n",
    "    current1 = first\n",
    "    current2 = second\n",
    "\n",
    "    while current1 and current2:\n",
    "        next1 = current1.next\n",
    "        next2 = current2.next\n",
    "\n",
    "        current1.next = current2\n",
    "        current2.next = next1\n",
    "\n",
    "        current1 = next1\n",
    "        current2 = next2\n",
    "\n",
    "    return first"
   ]
  },
  {
   "cell_type": "code",
   "execution_count": 23,
   "id": "7d7e3113",
   "metadata": {},
   "outputs": [],
   "source": [
    "# Create the first linked list: 5->7->17->13->11\n",
    "node5 = ListNode(5)\n",
    "node7 = ListNode(7)\n",
    "node17 = ListNode(17)\n",
    "node13 = ListNode(13)\n",
    "node11 = ListNode(11)\n",
    "node5.next = node7\n",
    "node7.next = node17\n",
    "node17.next = node13\n",
    "node13.next = node11\n",
    "\n",
    "# Create the second linked list: 12->10->2->4->6\n",
    "node12 = ListNode(12)\n",
    "node10 = ListNode(10)\n",
    "node2 = ListNode(2)\n",
    "node4 = ListNode(4)\n",
    "node6 = ListNode(6)\n",
    "node12.next = node10\n",
    "node10.next = node2\n",
    "node2.next = node4\n",
    "node4.next = node6\n",
    "\n",
    "# Call the mergeLists function\n",
    "result = mergeLists(node5, node12)"
   ]
  },
  {
   "cell_type": "code",
   "execution_count": 24,
   "id": "a9da6181",
   "metadata": {},
   "outputs": [
    {
     "name": "stdout",
     "output_type": "stream",
     "text": [
      "5 12 7 10 17 2 13 4 11 6 \n",
      "Second list: 12 7 10 17 2 13 4 11 6 "
     ]
    }
   ],
   "source": [
    "# Traverse and print the first linked list\n",
    "current = result\n",
    "while current:\n",
    "    print(current.val, end=' ')\n",
    "    current = current.next\n",
    "\n",
    "# Print the second linked list\n",
    "print()\n",
    "print(\"Second list: \", end='')\n",
    "current = node12\n",
    "while current:\n",
    "    print(current.val, end=' ')\n",
    "    current = current.next"
   ]
  },
  {
   "cell_type": "markdown",
   "id": "1e963bfa",
   "metadata": {},
   "source": [
    "###  **Question 8**\n",
    "\n",
    "Given a singly linked list, find if the linked list is [circular](https://www.geeksforgeeks.org/circular-linked-list/amp/) or not."
   ]
  },
  {
   "cell_type": "code",
   "execution_count": 25,
   "id": "e47cf54f",
   "metadata": {},
   "outputs": [],
   "source": [
    "def isCircular(head):\n",
    "    if head is None:\n",
    "        return False\n",
    "\n",
    "    slow = head\n",
    "    fast = head.next\n",
    "\n",
    "    while fast and fast.next:\n",
    "        if slow == fast:\n",
    "            return True\n",
    "        slow = slow.next\n",
    "        fast = fast.next.next\n",
    "\n",
    "    return False"
   ]
  },
  {
   "cell_type": "code",
   "execution_count": 26,
   "id": "5e411579",
   "metadata": {},
   "outputs": [
    {
     "name": "stdout",
     "output_type": "stream",
     "text": [
      "True\n"
     ]
    }
   ],
   "source": [
    "node5 = ListNode(5)\n",
    "node4 = ListNode(4, node5)\n",
    "node3 = ListNode(3, node4)\n",
    "node2 = ListNode(2, node3)\n",
    "node1 = ListNode(1, node2)\n",
    "node5.next = node2\n",
    "\n",
    "# Call the isCircular function\n",
    "result = isCircular(node1)\n",
    "\n",
    "# Print the result\n",
    "print(result)"
   ]
  }
 ],
 "metadata": {
  "kernelspec": {
   "display_name": "Python 3 (ipykernel)",
   "language": "python",
   "name": "python3"
  },
  "language_info": {
   "codemirror_mode": {
    "name": "ipython",
    "version": 3
   },
   "file_extension": ".py",
   "mimetype": "text/x-python",
   "name": "python",
   "nbconvert_exporter": "python",
   "pygments_lexer": "ipython3",
   "version": "3.11.4"
  }
 },
 "nbformat": 4,
 "nbformat_minor": 5
}
