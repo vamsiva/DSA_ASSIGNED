{
 "cells": [
  {
   "cell_type": "markdown",
   "id": "c7dcafcd",
   "metadata": {},
   "source": [
    "###  **Question 1**\n",
    "\n",
    "Given an integer `n`, return *`true` if it is a power of three. Otherwise, return `false`*.\n",
    "\n",
    "An integer `n` is a power of three, if there exists an integer `x` such that `n == 3x`."
   ]
  },
  {
   "cell_type": "code",
   "execution_count": 1,
   "id": "554d0ef1",
   "metadata": {},
   "outputs": [],
   "source": [
    "def power_three(n):\n",
    "    if n == 1:\n",
    "        return True\n",
    "    elif n % 3 != 0 or n == 0:\n",
    "        return False\n",
    "    else:\n",
    "        return power_three(n // 3)"
   ]
  },
  {
   "cell_type": "code",
   "execution_count": 2,
   "id": "290d50ae",
   "metadata": {},
   "outputs": [
    {
     "data": {
      "text/plain": [
       "True"
      ]
     },
     "execution_count": 2,
     "metadata": {},
     "output_type": "execute_result"
    }
   ],
   "source": [
    "power_three(27)"
   ]
  },
  {
   "cell_type": "markdown",
   "id": "255a6ee1",
   "metadata": {},
   "source": [
    "###  **Question 2**\n",
    "\n",
    "You have a list `arr` of all integers in the range `[1, n]` sorted in a strictly increasing order. Apply the following algorithm on `arr`:\n",
    "\n",
    "- Starting from left to right, remove the first number and every other number afterward until you reach the end of the list.\n",
    "- Repeat the previous step again, but this time from right to left, remove the rightmost number and every other number from the remaining numbers.\n",
    "- Keep repeating the steps again, alternating left to right and right to left, until a single number remains.\n",
    "\n",
    "Given the integer `n`, return *the last number that remains in* `arr`.\n"
   ]
  },
  {
   "cell_type": "code",
   "execution_count": 3,
   "id": "6995b6f9",
   "metadata": {},
   "outputs": [],
   "source": [
    "def last(n):\n",
    "    if n == 1:\n",
    "        return 1\n",
    "    else:\n",
    "        # For each round, the remaining numbers are halved, so we multiply the result of the recursive call by 2\n",
    "        return 2 * (last(n // 2))"
   ]
  },
  {
   "cell_type": "code",
   "execution_count": 4,
   "id": "c19130c8",
   "metadata": {},
   "outputs": [
    {
     "data": {
      "text/plain": [
       "8"
      ]
     },
     "execution_count": 4,
     "metadata": {},
     "output_type": "execute_result"
    }
   ],
   "source": [
    "last(9)"
   ]
  },
  {
   "cell_type": "markdown",
   "id": "af38a105",
   "metadata": {},
   "source": [
    "### **Question 3**\n",
    "Given a set represented as a string, write a recursive code to print all subsets of it. The subsets can be printed in any order.\n"
   ]
  },
  {
   "cell_type": "code",
   "execution_count": 7,
   "id": "41bc0aa1",
   "metadata": {},
   "outputs": [],
   "source": [
    "def print_all_subsets(s, subset=\"\", index=0):\n",
    "    if index == len(s):\n",
    "        print(subset)\n",
    "        return\n",
    "\n",
    "    print_all_subsets(s, subset, index + 1)\n",
    "    print_all_subsets(s, subset + s[index], index + 1)"
   ]
  },
  {
   "cell_type": "code",
   "execution_count": 8,
   "id": "546ee87b",
   "metadata": {},
   "outputs": [
    {
     "name": "stdout",
     "output_type": "stream",
     "text": [
      "\n",
      "C\n",
      "B\n",
      "BC\n",
      "A\n",
      "AC\n",
      "AB\n",
      "ABC\n"
     ]
    }
   ],
   "source": [
    "print_all_subsets(\"ABC\")"
   ]
  },
  {
   "cell_type": "markdown",
   "id": "9a77a307",
   "metadata": {},
   "source": [
    "### **Question 4**\n",
    "\n",
    "Given a string calculate length of the string using recursion."
   ]
  },
  {
   "cell_type": "code",
   "execution_count": 9,
   "id": "1c711e8c",
   "metadata": {},
   "outputs": [],
   "source": [
    "def calculate_length(s):\n",
    "    if s == '':\n",
    "        return 0\n",
    "    else:\n",
    "        return 1 + calculate_length(s[1:])"
   ]
  },
  {
   "cell_type": "code",
   "execution_count": 10,
   "id": "9b6bc21e",
   "metadata": {},
   "outputs": [
    {
     "data": {
      "text/plain": [
       "4"
      ]
     },
     "execution_count": 10,
     "metadata": {},
     "output_type": "execute_result"
    }
   ],
   "source": [
    "calculate_length(\"abcd\")"
   ]
  },
  {
   "cell_type": "markdown",
   "id": "ed00cc47",
   "metadata": {},
   "source": [
    "###  **Question 5**\n",
    "\n",
    "We are given a string S, we need to find count of all contiguous substrings starting and ending with same character."
   ]
  },
  {
   "cell_type": "code",
   "execution_count": 11,
   "id": "12c55134",
   "metadata": {},
   "outputs": [],
   "source": [
    "def count_contiguous_substrings(S):\n",
    "    if len(S) <= 1:\n",
    "        return 0\n",
    "    else:\n",
    "        count = 0\n",
    "        if S[0] == S[-1]:\n",
    "            count = 1\n",
    "        count += count_contiguous_substrings(S[:-1])\n",
    "        count += count_contiguous_substrings(S[1:])\n",
    "        return count"
   ]
  },
  {
   "cell_type": "code",
   "execution_count": 12,
   "id": "5c350198",
   "metadata": {},
   "outputs": [
    {
     "data": {
      "text/plain": [
       "2"
      ]
     },
     "execution_count": 12,
     "metadata": {},
     "output_type": "execute_result"
    }
   ],
   "source": [
    "count_contiguous_substrings(\"abcab\")"
   ]
  },
  {
   "cell_type": "markdown",
   "id": "0ed4e309",
   "metadata": {},
   "source": [
    "### **Question 6**\n",
    "\n",
    "The [tower of Hanoi](https://en.wikipedia.org/wiki/Tower_of_Hanoi) is a famous puzzle where we have three rods and **N** disks. The objective of the puzzle is to move the entire stack to another rod. You are given the number of discs **N**. Initially, these discs are in the rod 1. You need to print all the steps of discs movement so that all the discs reach the 3rd rod. Also, you need to find the total moves.**Note:** The discs are arranged such that the **top disc is numbered 1** and the **bottom-most disc is numbered N**. Also, all the discs have **different sizes** and a bigger disc **cannot** be put on the top of a smaller disc. Refer the provided link to get a better clarity about the puzzle."
   ]
  },
  {
   "cell_type": "code",
   "execution_count": 13,
   "id": "d8587e37",
   "metadata": {},
   "outputs": [],
   "source": [
    "def tower_of_hanoi(n, source, destination, auxiliary):\n",
    "    if n == 1:\n",
    "        print(\"Move disk 1 from rod\", source, \"to rod\", destination)\n",
    "        return 1\n",
    "    else:\n",
    "        count = 0\n",
    "        count += tower_of_hanoi(n - 1, source, auxiliary, destination)\n",
    "        print(\"Move disk\", n, \"from rod\", source, \"to rod\", destination)\n",
    "        count += 1\n",
    "        count += tower_of_hanoi(n - 1, auxiliary, destination, source)\n",
    "        return count"
   ]
  },
  {
   "cell_type": "code",
   "execution_count": 14,
   "id": "74186e45",
   "metadata": {},
   "outputs": [
    {
     "name": "stdout",
     "output_type": "stream",
     "text": [
      "Move disk 1 from rod 1 to rod 3\n",
      "Move disk 2 from rod 1 to rod 2\n",
      "Move disk 1 from rod 3 to rod 2\n",
      "Move disk 3 from rod 1 to rod 3\n",
      "Move disk 1 from rod 2 to rod 1\n",
      "Move disk 2 from rod 2 to rod 3\n",
      "Move disk 1 from rod 1 to rod 3\n"
     ]
    },
    {
     "data": {
      "text/plain": [
       "7"
      ]
     },
     "execution_count": 14,
     "metadata": {},
     "output_type": "execute_result"
    }
   ],
   "source": [
    "tower_of_hanoi(3, 1, 3, 2)"
   ]
  },
  {
   "cell_type": "markdown",
   "id": "d696752b",
   "metadata": {},
   "source": [
    "### **Question 7**\n",
    "\n",
    "Given a string **str**, the task is to print all the permutations of **str**. A **permutation** is an arrangement of all or part of a set of objects, with regard to the order of the arrangement. For instance, the words ‘bat’ and ‘tab’ represents two distinct permutation (or arrangements) of a similar three letter word.\n"
   ]
  },
  {
   "cell_type": "code",
   "execution_count": 15,
   "id": "3035035d",
   "metadata": {},
   "outputs": [],
   "source": [
    "def print_all_permutations(s, left=0, right=None):\n",
    "    if right is None:\n",
    "        right = len(s) - 1\n",
    "\n",
    "    if left == right:\n",
    "        print(''.join(s))\n",
    "    else:\n",
    "        for i in range(left, right + 1):\n",
    "            s[left], s[i] = s[i], s[left]\n",
    "            print_all_permutations(s, left + 1, right)  \n",
    "            s[left], s[i] = s[i], s[left]  "
   ]
  },
  {
   "cell_type": "code",
   "execution_count": 18,
   "id": "55820be4",
   "metadata": {},
   "outputs": [
    {
     "name": "stdout",
     "output_type": "stream",
     "text": [
      "abc\n",
      "acb\n",
      "bac\n",
      "bca\n",
      "cba\n",
      "cab\n"
     ]
    }
   ],
   "source": [
    "print_all_permutations(list(\"abc\"))"
   ]
  },
  {
   "cell_type": "markdown",
   "id": "65c7a6d9",
   "metadata": {},
   "source": [
    "###  **Question 8**\n",
    "\n",
    "Given a string, count total number of consonants in it. A consonant is an English alphabet character that is not vowel (a, e, i, o and u). Examples of constants are b, c, d, f, and g.\n"
   ]
  },
  {
   "cell_type": "code",
   "execution_count": 19,
   "id": "8e1cab5d",
   "metadata": {},
   "outputs": [],
   "source": [
    "def count_consonants(s):\n",
    "    if not s:\n",
    "        return 0\n",
    "    else:\n",
    "        if s[0].lower() not in \"aeiou\" and s[0].isalpha():\n",
    "            return 1 + count_consonants(s[1:])\n",
    "        else:\n",
    "            return count_consonants(s[1:])"
   ]
  },
  {
   "cell_type": "code",
   "execution_count": 21,
   "id": "6cf17672",
   "metadata": {},
   "outputs": [
    {
     "data": {
      "text/plain": [
       "3"
      ]
     },
     "execution_count": 21,
     "metadata": {},
     "output_type": "execute_result"
    }
   ],
   "source": [
    "count_consonants(\"abc de\")"
   ]
  },
  {
   "cell_type": "code",
   "execution_count": null,
   "id": "1b78c80b",
   "metadata": {},
   "outputs": [],
   "source": []
  }
 ],
 "metadata": {
  "kernelspec": {
   "display_name": "Python 3 (ipykernel)",
   "language": "python",
   "name": "python3"
  },
  "language_info": {
   "codemirror_mode": {
    "name": "ipython",
    "version": 3
   },
   "file_extension": ".py",
   "mimetype": "text/x-python",
   "name": "python",
   "nbconvert_exporter": "python",
   "pygments_lexer": "ipython3",
   "version": "3.9.16"
  }
 },
 "nbformat": 4,
 "nbformat_minor": 5
}
