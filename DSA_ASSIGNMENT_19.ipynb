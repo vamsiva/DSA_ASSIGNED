{
 "cells": [
  {
   "cell_type": "markdown",
   "id": "6acc5210",
   "metadata": {},
   "source": [
    "###  1. **Merge k Sorted Lists**\n",
    "\n",
    "You are given an array of `k` linked-lists `lists`, each linked-list is sorted in ascending order.\n",
    "\n",
    "*Merge all the linked-lists into one sorted linked-list and return it.*\n"
   ]
  },
  {
   "cell_type": "code",
   "execution_count": 1,
   "id": "049ecc09",
   "metadata": {},
   "outputs": [],
   "source": [
    "import heapq\n",
    "import heapq\n",
    "\n",
    "class ListNode:\n",
    "    def __init__(self, val=0, next=None):\n",
    "        self.val = val\n",
    "        self.next = next\n",
    "\n",
    "def mergeKLists(lists):\n",
    "    heap = []\n",
    "    dummy = ListNode(0)\n",
    "    curr = dummy\n",
    "\n",
    "    # Add the head nodes of all lists to the min-heap\n",
    "    for head in lists:\n",
    "        if head:\n",
    "            heapq.heappush(heap, (head.val, head))\n",
    "\n",
    "    while heap:\n",
    "        # Pop the node with the smallest value from the min-heap\n",
    "        val, node = heapq.heappop(heap)\n",
    "        \n",
    "        # If the popped node has a next node, add it to the min-heap\n",
    "        if node.next:\n",
    "            heapq.heappush(heap, (node.next.val, node.next))\n",
    "\n",
    "        # Append the popped node to the merged list\n",
    "        curr.next = node\n",
    "        curr = curr.next\n",
    "\n",
    "    return dummy.next\n",
    "\n"
   ]
  },
  {
   "cell_type": "code",
   "execution_count": 2,
   "id": "ca71d9be",
   "metadata": {},
   "outputs": [
    {
     "ename": "TypeError",
     "evalue": "'<' not supported between instances of 'ListNode' and 'ListNode'",
     "output_type": "error",
     "traceback": [
      "\u001b[1;31m---------------------------------------------------------------------------\u001b[0m",
      "\u001b[1;31mTypeError\u001b[0m                                 Traceback (most recent call last)",
      "Cell \u001b[1;32mIn[2], line 7\u001b[0m\n\u001b[0;32m      4\u001b[0m lists\u001b[38;5;241m.\u001b[39mappend(ListNode(\u001b[38;5;241m2\u001b[39m, ListNode(\u001b[38;5;241m6\u001b[39m)))\n\u001b[0;32m      6\u001b[0m \u001b[38;5;66;03m# Call the function to merge the lists\u001b[39;00m\n\u001b[1;32m----> 7\u001b[0m merged \u001b[38;5;241m=\u001b[39m mergeKLists(lists)\n\u001b[0;32m      9\u001b[0m result \u001b[38;5;241m=\u001b[39m []\n\u001b[0;32m     10\u001b[0m \u001b[38;5;28;01mwhile\u001b[39;00m merged:\n",
      "Cell \u001b[1;32mIn[1], line 17\u001b[0m, in \u001b[0;36mmergeKLists\u001b[1;34m(lists)\u001b[0m\n\u001b[0;32m     15\u001b[0m \u001b[38;5;28;01mfor\u001b[39;00m head \u001b[38;5;129;01min\u001b[39;00m lists:\n\u001b[0;32m     16\u001b[0m     \u001b[38;5;28;01mif\u001b[39;00m head:\n\u001b[1;32m---> 17\u001b[0m         heapq\u001b[38;5;241m.\u001b[39mheappush(heap, (head\u001b[38;5;241m.\u001b[39mval, head))\n\u001b[0;32m     19\u001b[0m \u001b[38;5;28;01mwhile\u001b[39;00m heap:\n\u001b[0;32m     20\u001b[0m     \u001b[38;5;66;03m# Pop the node with the smallest value from the min-heap\u001b[39;00m\n\u001b[0;32m     21\u001b[0m     val, node \u001b[38;5;241m=\u001b[39m heapq\u001b[38;5;241m.\u001b[39mheappop(heap)\n",
      "\u001b[1;31mTypeError\u001b[0m: '<' not supported between instances of 'ListNode' and 'ListNode'"
     ]
    }
   ],
   "source": [
    "lists = []\n",
    "lists.append(ListNode(1, ListNode(4, ListNode(5))))\n",
    "lists.append(ListNode(1, ListNode(3, ListNode(4))))\n",
    "lists.append(ListNode(2, ListNode(6)))\n",
    "\n",
    "# Call the function to merge the lists\n",
    "merged = mergeKLists(lists)\n",
    "\n",
    "result = []\n",
    "while merged:\n",
    "    result.append(merged.val)\n",
    "    merged = merged.next\n",
    "\n",
    "print(result)"
   ]
  },
  {
   "cell_type": "markdown",
   "id": "3e1ae2db",
   "metadata": {},
   "source": [
    "###  2. **Count of Smaller Numbers After Self**\n",
    "\n",
    "Given an integer array `nums`, return *an integer array* `counts` *where* `counts[i]` *is the number of smaller elements to the right of* `nums[i]`."
   ]
  },
  {
   "cell_type": "code",
   "execution_count": 3,
   "id": "a4887c6e",
   "metadata": {},
   "outputs": [],
   "source": [
    "class Node:\n",
    "    def __init__(self, val):\n",
    "        self.val = val\n",
    "        self.count = 0\n",
    "        self.left = None\n",
    "        self.right = None\n",
    "\n",
    "def insert(root, val, count, result, index):\n",
    "    if root.val == val:\n",
    "        root.count += count\n",
    "        result[index] = root.count\n",
    "    elif val < root.val:\n",
    "        root.count += 1\n",
    "        if root.left is None:\n",
    "            root.left = Node(val)\n",
    "            result[index] = root.count\n",
    "        else:\n",
    "            insert(root.left, val, count, result, index)\n",
    "    else:\n",
    "        if root.right is None:\n",
    "            root.right = Node(val)\n",
    "            result[index] = root.count + 1\n",
    "        else:\n",
    "            insert(root.right, val, count + root.count + 1, result, index)\n",
    "\n",
    "def countSmaller(nums):\n",
    "    n = len(nums)\n",
    "    if n == 0:\n",
    "        return []\n",
    "    \n",
    "    result = [0] * n\n",
    "    root = Node(nums[n - 1])\n",
    "    \n",
    "    for i in range(n - 2, -1, -1):\n",
    "        insert(root, nums[i], 0, result, i)\n",
    "    \n",
    "    return result\n"
   ]
  },
  {
   "cell_type": "code",
   "execution_count": 4,
   "id": "083b4383",
   "metadata": {},
   "outputs": [
    {
     "data": {
      "text/plain": [
       "[1, 1, 1, 0]"
      ]
     },
     "execution_count": 4,
     "metadata": {},
     "output_type": "execute_result"
    }
   ],
   "source": [
    "countSmaller([5, 2, 6, 1])\n"
   ]
  },
  {
   "cell_type": "markdown",
   "id": "8e3ec6c5",
   "metadata": {},
   "source": [
    "###  3. **Sort an Array**\n",
    "\n",
    "Given an array of integers `nums`, sort the array in ascending order and return it.\n",
    "\n",
    "You must solve the problem **without using any built-in** functions in `O(nlog(n))` time complexity and with the smallest space complexity possible."
   ]
  },
  {
   "cell_type": "code",
   "execution_count": 5,
   "id": "ce7571c2",
   "metadata": {},
   "outputs": [],
   "source": [
    "def mergeSort(nums):\n",
    "    if len(nums) <= 1:\n",
    "        return nums\n",
    "    \n",
    "    mid = len(nums) // 2\n",
    "    left = nums[:mid]\n",
    "    right = nums[mid:]\n",
    "    \n",
    "    mergeSort(left)\n",
    "    mergeSort(right)\n",
    "    \n",
    "    merge(left, right, nums)\n",
    "def merge(left, right, nums):\n",
    "    i = j = k = 0\n",
    "    \n",
    "    while i < len(left) and j < len(right):\n",
    "        if left[i] <= right[j]:\n",
    "            nums[k] = left[i]\n",
    "            i += 1\n",
    "        else:\n",
    "            nums[k] = right[j]\n",
    "            j += 1\n",
    "        k += 1\n",
    "    \n",
    "    while i < len(left):\n",
    "        nums[k] = left[i]\n",
    "        i += 1\n",
    "        k += 1\n",
    "    \n",
    "    while j < len(right):\n",
    "        nums[k] = right[j]\n",
    "        j += 1"
   ]
  },
  {
   "cell_type": "code",
   "execution_count": 6,
   "id": "9bdf166f",
   "metadata": {},
   "outputs": [
    {
     "name": "stdout",
     "output_type": "stream",
     "text": [
      "None\n"
     ]
    }
   ],
   "source": [
    "x  = mergeSort([5, 2, 6, 1, 3])\n",
    "print (x)"
   ]
  },
  {
   "cell_type": "markdown",
   "id": "e00401a5",
   "metadata": {},
   "source": [
    "###  4. **Move all zeroes to end of array**\n",
    "\n",
    "Given an array of random numbers, Push all the zero’s of a given array to the end of the array. For example, if the given arrays is {1, 9, 8, 4, 0, 0, 2, 7, 0, 6, 0}, it should be changed to {1, 9, 8, 4, 2, 7, 6, 0, 0, 0, 0}. The order of all other elements should be same. Expected time complexity is O(n) and extra space is O(1).\n"
   ]
  },
  {
   "cell_type": "code",
   "execution_count": 7,
   "id": "5e6df54d",
   "metadata": {},
   "outputs": [],
   "source": [
    "def moveZeroes(nums):\n",
    "    n = len(nums)\n",
    "    left = 0\n",
    "    right = 0\n",
    "    \n",
    "    while right < n:\n",
    "        if nums[right] != 0:\n",
    "            nums[left], nums[right] = nums[right], nums[left]\n",
    "            left += 1\n",
    "        right += 1"
   ]
  },
  {
   "cell_type": "code",
   "execution_count": 13,
   "id": "136e6ce4",
   "metadata": {},
   "outputs": [
    {
     "name": "stdout",
     "output_type": "stream",
     "text": [
      "[1, 9, 8, 4, 2, 7, 6, 0, 0, 0, 0]\n"
     ]
    }
   ],
   "source": [
    "nums = [1, 9, 8, 4, 0, 0, 2, 7, 0, 6, 0]\n",
    "moveZeroes(nums)\n",
    "print(nums)"
   ]
  },
  {
   "cell_type": "markdown",
   "id": "55d88d02",
   "metadata": {},
   "source": [
    "### 5. **Rearrange array in alternating positive & negative items with O(1) extra space**\n",
    "\n",
    "Given an **array of positive** and **negative numbers**, arrange them in an **alternate** fashion such that every positive number is followed by a negative and vice-versa maintaining the **order of appearance**. The number of positive and negative numbers need not be equal. If there are more positive numbers they appear at the end of the array. If there are more negative numbers, they too appear at the end of the array."
   ]
  },
  {
   "cell_type": "code",
   "execution_count": 11,
   "id": "1b55da58",
   "metadata": {},
   "outputs": [],
   "source": [
    "def rearrangeArray(nums):\n",
    "    n = len(nums)\n",
    "    positive = 0\n",
    "    negative = 1\n",
    "\n",
    "    while positive < n and nums[positive] >= 0:\n",
    "        positive += 2\n",
    "    while negative < n and nums[negative] < 0:\n",
    "        negative += 2\n",
    "\n",
    "    # Rearrange the array\n",
    "    while positive < n and negative < n:\n",
    "        nums[positive], nums[negative] = nums[negative], nums[positive]\n",
    "        positive += 2\n",
    "        negative += 2"
   ]
  },
  {
   "cell_type": "code",
   "execution_count": 12,
   "id": "a51c4e61",
   "metadata": {},
   "outputs": [
    {
     "name": "stdout",
     "output_type": "stream",
     "text": [
      "[1, -2, 3, -4, 6, -5, 8, -7, -9]\n"
     ]
    }
   ],
   "source": [
    "nums = [1, -2, 3, -4, -5, 6, -7, 8, -9]\n",
    "rearrangeArray(nums)\n",
    "print(nums)"
   ]
  },
  {
   "cell_type": "markdown",
   "id": "4a220c1e",
   "metadata": {},
   "source": [
    "### **6. Merge two sorted arrays**\n",
    "\n",
    "Given two sorted arrays, the task is to merge them in a sorted manner.\n",
    "\n",
    "</aside>"
   ]
  },
  {
   "cell_type": "code",
   "execution_count": 14,
   "id": "9c1bd114",
   "metadata": {},
   "outputs": [],
   "source": [
    "def mergeArrays(arr1, arr2):\n",
    "    n1 = len(arr1)\n",
    "    n2 = len(arr2)\n",
    "    merged = []\n",
    "    i = 0\n",
    "    j = 0\n",
    "\n",
    "    while i < n1 and j < n2:\n",
    "        if arr1[i] <= arr2[j]:\n",
    "            merged.append(arr1[i])\n",
    "            i += 1\n",
    "        else:\n",
    "            merged.append(arr2[j])\n",
    "            j += 1\n",
    "\n",
    "    while i < n1:\n",
    "        merged.append(arr1[i])\n",
    "        i += 1\n",
    "\n",
    "    while j < n2:\n",
    "        merged.append(arr2[j])\n",
    "        j += 1\n",
    "\n",
    "    return merged"
   ]
  },
  {
   "cell_type": "code",
   "execution_count": 15,
   "id": "9c131e14",
   "metadata": {},
   "outputs": [
    {
     "name": "stdout",
     "output_type": "stream",
     "text": [
      "[1, 2, 3, 4, 5, 6, 7, 8, 9]\n"
     ]
    }
   ],
   "source": [
    "arr1 = [1, 4, 7, 9]\n",
    "arr2 = [2, 3, 5, 6, 8]\n",
    "merged = mergeArrays(arr1, arr2)\n",
    "print(merged)"
   ]
  },
  {
   "cell_type": "markdown",
   "id": "4bcc866c",
   "metadata": {},
   "source": [
    "### 7. **Intersection of Two Arrays**\n",
    "\n",
    "Given two integer arrays `nums1` and `nums2`, return *an array of their intersection*. Each element in the result must be **unique** and you may return the result in **any order**.\n"
   ]
  },
  {
   "cell_type": "code",
   "execution_count": 16,
   "id": "42e3b1e1",
   "metadata": {},
   "outputs": [],
   "source": [
    "def intersection(nums1, nums2):\n",
    "    set1 = set(nums1)\n",
    "    set2 = set(nums2)\n",
    "    result = set1.intersection(set2)\n",
    "    return list(result)"
   ]
  },
  {
   "cell_type": "code",
   "execution_count": 17,
   "id": "751ed42e",
   "metadata": {},
   "outputs": [
    {
     "name": "stdout",
     "output_type": "stream",
     "text": [
      "[2]\n"
     ]
    }
   ],
   "source": [
    "nums1 = [1, 2, 2, 1]\n",
    "nums2 = [2, 2, 3]\n",
    "intersect = intersection(nums1, nums2)\n",
    "print(intersect)"
   ]
  },
  {
   "cell_type": "markdown",
   "id": "dea36fbf",
   "metadata": {},
   "source": [
    "###  8. **Intersection of Two Arrays II**\n",
    "\n",
    "Given two integer arrays `nums1` and `nums2`, return *an array of their intersection*. Each element in the result must appear as many times as it shows in both arrays and you may return the result in **any order**."
   ]
  },
  {
   "cell_type": "code",
   "execution_count": 18,
   "id": "5440d3df",
   "metadata": {},
   "outputs": [],
   "source": [
    "def intersect(nums1, nums2):\n",
    "    freq = {}\n",
    "    for num in nums1:\n",
    "        freq[num] = freq.get(num, 0) + 1\n",
    "    \n",
    "    result = []\n",
    "    for num in nums2:\n",
    "        if num in freq and freq[num] > 0:\n",
    "            result.append(num)\n",
    "            freq[num] -= 1\n",
    "    \n",
    "    return result"
   ]
  },
  {
   "cell_type": "code",
   "execution_count": 19,
   "id": "627f4277",
   "metadata": {},
   "outputs": [
    {
     "name": "stdout",
     "output_type": "stream",
     "text": [
      "[2, 2]\n"
     ]
    }
   ],
   "source": [
    "nums1 = [1, 2, 2, 1]\n",
    "nums2 = [2, 2, 3]\n",
    "intersect = intersect(nums1, nums2)\n",
    "print(intersect)"
   ]
  }
 ],
 "metadata": {
  "kernelspec": {
   "display_name": "Python 3 (ipykernel)",
   "language": "python",
   "name": "python3"
  },
  "language_info": {
   "codemirror_mode": {
    "name": "ipython",
    "version": 3
   },
   "file_extension": ".py",
   "mimetype": "text/x-python",
   "name": "python",
   "nbconvert_exporter": "python",
   "pygments_lexer": "ipython3",
   "version": "3.11.4"
  }
 },
 "nbformat": 4,
 "nbformat_minor": 5
}
