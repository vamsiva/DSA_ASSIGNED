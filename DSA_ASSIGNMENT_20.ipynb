{
 "cells": [
  {
   "cell_type": "markdown",
   "id": "acf0e32f",
   "metadata": {},
   "source": [
    "### Question-1\n",
    "\n",
    "Given a binary tree, your task is to find subtree with maximum sum in tree.\n"
   ]
  },
  {
   "cell_type": "code",
   "execution_count": 1,
   "id": "b4de8340",
   "metadata": {},
   "outputs": [
    {
     "name": "stdout",
     "output_type": "stream",
     "text": [
      "Subtree with maximum sum: -2 4 5 "
     ]
    }
   ],
   "source": [
    "class TreeNode:\n",
    "    def __init__(self, val=0, left=None, right=None):\n",
    "        self.val = val\n",
    "        self.left = left\n",
    "        self.right = right\n",
    "\n",
    "def findMaxSubtreeSum(root):\n",
    "    if root is None:\n",
    "        return 0\n",
    "    \n",
    "    left_sum = findMaxSubtreeSum(root.left)\n",
    "    right_sum = findMaxSubtreeSum(root.right)\n",
    "    \n",
    "    subtree_sum = root.val + left_sum + right_sum\n",
    "    \n",
    "    if subtree_sum > findMaxSubtreeSum.max_sum:\n",
    "        findMaxSubtreeSum.max_sum = subtree_sum\n",
    "        findMaxSubtreeSum.max_subtree = root\n",
    "    \n",
    "    return subtree_sum\n",
    "\n",
    "def findMaxSubtree(root):\n",
    "    findMaxSubtreeSum.max_sum = float('-inf')\n",
    "    findMaxSubtreeSum.max_subtree = None\n",
    "    \n",
    "    findMaxSubtreeSum(root)\n",
    "    \n",
    "    return findMaxSubtreeSum.max_subtree\n",
    "\n",
    "# Example usage:\n",
    "# Create a binary tree\n",
    "root = TreeNode(1)\n",
    "root.left = TreeNode(-2)\n",
    "root.right = TreeNode(3)\n",
    "root.left.left = TreeNode(4)\n",
    "root.left.right = TreeNode(5)\n",
    "root.right.left = TreeNode(-6)\n",
    "root.right.right = TreeNode(2)\n",
    "\n",
    "# Find the subtree with the maximum sum\n",
    "max_subtree = findMaxSubtree(root)\n",
    "\n",
    "# Print the subtree values\n",
    "def printSubtree(root):\n",
    "    if root is None:\n",
    "        return\n",
    "    print(root.val, end=' ')\n",
    "    printSubtree(root.left)\n",
    "    printSubtree(root.right)\n",
    "\n",
    "print(\"Subtree with maximum sum:\", end=' ')\n",
    "printSubtree(max_subtree)"
   ]
  },
  {
   "cell_type": "markdown",
   "id": "6240ae21",
   "metadata": {},
   "source": [
    "### Question-2\n",
    "\n",
    "Construct the BST (Binary Search Tree) from its given level order traversal.\n"
   ]
  },
  {
   "cell_type": "code",
   "execution_count": 2,
   "id": "8b59b83f",
   "metadata": {},
   "outputs": [],
   "source": [
    "class TreeNode:\n",
    "    def __init__(self, val=0, left=None, right=None):\n",
    "        self.val = val\n",
    "        self.left = left\n",
    "        self.right = right\n",
    "\n",
    "def constructBST(level_order):\n",
    "    if not level_order:\n",
    "        return None\n",
    "    \n",
    "\n",
    "    root = TreeNode(level_order[0])\n",
    "    queue = [root]\n",
    "    i = 1\n",
    "    \n",
    "    while i < len(level_order):\n",
    "        curr_node = queue.pop(0)\n",
    "        \n",
    "        # Insert the left child if it exists\n",
    "        if i < len(level_order) and level_order[i] is not None:\n",
    "            curr_node.left = TreeNode(level_order[i])\n",
    "            queue.append(curr_node.left)\n",
    "        i += 1\n",
    "        \n",
    "        if i < len(level_order) and level_order[i] is not None:\n",
    "            curr_node.right = TreeNode(level_order[i])\n",
    "            queue.append(curr_node.right)\n",
    "        i += 1\n",
    "    \n",
    "    return root"
   ]
  },
  {
   "cell_type": "code",
   "execution_count": 3,
   "id": "ba58fcc9",
   "metadata": {},
   "outputs": [],
   "source": [
    "level_order = [4, 2, 7, 1, 3, 6, 9]\n",
    "root = constructBST(level_order)"
   ]
  },
  {
   "cell_type": "code",
   "execution_count": 4,
   "id": "46839ca1",
   "metadata": {},
   "outputs": [
    {
     "name": "stdout",
     "output_type": "stream",
     "text": [
      "Inorder traversal of the constructed BST:\n",
      "1 2 3 4 6 7 9 "
     ]
    }
   ],
   "source": [
    "def inorderTraversal(node):\n",
    "    if node:\n",
    "        inorderTraversal(node.left)\n",
    "        print(node.val, end=' ')\n",
    "        inorderTraversal(node.right)\n",
    "\n",
    "print(\"Inorder traversal of the constructed BST:\")\n",
    "inorderTraversal(root)"
   ]
  },
  {
   "cell_type": "markdown",
   "id": "ea92648d",
   "metadata": {},
   "source": [
    "###  Question-3\n",
    "\n",
    "Given an array of size n. The problem is to check whether the given array can represent the level order traversal of a Binary Search Tree or not."
   ]
  },
  {
   "cell_type": "code",
   "execution_count": 5,
   "id": "ffe45a3d",
   "metadata": {},
   "outputs": [],
   "source": [
    "def canRepresentBST(arr):\n",
    "    n = len(arr)\n",
    "    if n == 0:\n",
    "        return True\n",
    "\n",
    "    lowerBounds = []\n",
    "    upperBounds = []\n",
    "\n",
    "    root = arr[0]\n",
    "    lowerBounds.append(float('-inf'))\n",
    "    upperBounds.append(float('inf'))\n",
    "\n",
    "    index = 1\n",
    "\n",
    "    while index < n:\n",
    "        node = arr[index]\n",
    "\n",
    "        if node <= lowerBounds[0] or node >= upperBounds[0]:\n",
    "            return False\n",
    "\n",
    "        if node < root:\n",
    "            lowerBounds.pop(0)\n",
    "            upperBounds.pop(0)\n",
    "            lowerBounds.append(float('-inf'))\n",
    "            upperBounds.append(root)\n",
    "            lowerBounds.append(node)\n",
    "        else:\n",
    "            lowerBounds.pop(0)\n",
    "            upperBounds.pop(0)\n",
    "            lowerBounds.append(root)\n",
    "            upperBounds.append(float('inf'))\n",
    "            upperBounds.append(node)\n",
    "\n",
    "        index += 1\n",
    "\n",
    "    return True"
   ]
  },
  {
   "cell_type": "code",
   "execution_count": 6,
   "id": "3ddc22c9",
   "metadata": {},
   "outputs": [
    {
     "name": "stdout",
     "output_type": "stream",
     "text": [
      "False\n"
     ]
    }
   ],
   "source": [
    "arr = [4, 2, 7, 1, 3, 6, 9]\n",
    "result = canRepresentBST(arr)\n",
    "print(result)"
   ]
  }
 ],
 "metadata": {
  "kernelspec": {
   "display_name": "Python 3 (ipykernel)",
   "language": "python",
   "name": "python3"
  },
  "language_info": {
   "codemirror_mode": {
    "name": "ipython",
    "version": 3
   },
   "file_extension": ".py",
   "mimetype": "text/x-python",
   "name": "python",
   "nbconvert_exporter": "python",
   "pygments_lexer": "ipython3",
   "version": "3.11.4"
  }
 },
 "nbformat": 4,
 "nbformat_minor": 5
}
