{
 "cells": [
  {
   "cell_type": "markdown",
   "id": "a2857ad5",
   "metadata": {},
   "source": [
    "###  1. **Roman to Integer**\n",
    "\n",
    "Roman numerals are represented by seven different symbols: `I`, `V`, `X`, `L`, `C`, `D` and `M`.\n",
    "\n",
    "```\n",
    "SymbolValue\n",
    "I             1\n",
    "V             5\n",
    "X             10\n",
    "L             50\n",
    "C             100\n",
    "D             500\n",
    "M             1000\n",
    "```\n",
    "\n",
    "For example, `2` is written as `II` in Roman numeral, just two ones added together. `12` is written as `XII`, which is simply `X + II`. The number `27` is written as `XXVII`, which is `XX + V + II`.\n",
    "\n",
    "Roman numerals are usually written largest to smallest from left to right. However, the numeral for four is not `IIII`. Instead, the number four is written as `IV`. Because the one is before the five we subtract it making four. The same principle applies to the number nine, which is written as `IX`. There are six instances where subtraction is used:\n",
    "\n",
    "- `I` can be placed before `V` (5) and `X` (10) to make 4 and 9.\n",
    "- `X` can be placed before `L` (50) and `C` (100) to make 40 and 90.\n",
    "- `C` can be placed before `D` (500) and `M` (1000) to make 400 and 900.\n",
    "\n",
    "Given a roman numeral, convert it to an integer."
   ]
  },
  {
   "cell_type": "code",
   "execution_count": 1,
   "id": "72347b9c",
   "metadata": {},
   "outputs": [],
   "source": [
    "def romanToInt(s):\n",
    "    roman_values = {\n",
    "        'I': 1,\n",
    "        'V': 5,\n",
    "        'X': 10,\n",
    "        'L': 50,\n",
    "        'C': 100,\n",
    "        'D': 500,\n",
    "        'M': 1000\n",
    "    }\n",
    "\n",
    "    total = 0\n",
    "    prev_value = 0\n",
    "\n",
    "    for i in range(len(s)):\n",
    "        curr_value = roman_values[s[i]]\n",
    "\n",
    "        # If the current value is smaller than the next value,\n",
    "        # subtract the current value from the total\n",
    "        if curr_value < prev_value:\n",
    "            total -= curr_value\n",
    "        else:\n",
    "            total += curr_value\n",
    "\n",
    "        prev_value = curr_value\n",
    "\n",
    "    return total"
   ]
  },
  {
   "cell_type": "code",
   "execution_count": 2,
   "id": "e8f3d1f0",
   "metadata": {},
   "outputs": [
    {
     "name": "stdout",
     "output_type": "stream",
     "text": [
      "Integer value: 15\n"
     ]
    }
   ],
   "source": [
    "roman_numeral = \"XXVII\"\n",
    "integer_value = romanToInt(roman_numeral)\n",
    "print(\"Integer value:\", integer_value)"
   ]
  },
  {
   "cell_type": "markdown",
   "id": "e5f22b0d",
   "metadata": {},
   "source": [
    "###  2. **Longest Substring Without Repeating Characters**\n",
    "\n",
    "Given a string `s`, find the length of the **longest substring** without repeating characters."
   ]
  },
  {
   "cell_type": "code",
   "execution_count": 3,
   "id": "99908f63",
   "metadata": {},
   "outputs": [],
   "source": [
    "def lengthOfLongestSubstring(s):\n",
    "    n = len(s) \n",
    "    longest_len = 0\n",
    "    start = 0  \n",
    "    char_dict = {} \n",
    "    for end in range(n):\n",
    "        if s[end] in char_dict:\n",
    "            start = max(start, char_dict[s[end]] + 1)\n",
    "        \n",
    "        char_dict[s[end]] = end\n",
    "        \n",
    "        curr_len = end - start + 1\n",
    "        \n",
    "        longest_len = max(longest_len, curr_len)\n",
    "\n",
    "    return longest_len"
   ]
  },
  {
   "cell_type": "code",
   "execution_count": 4,
   "id": "7e02912f",
   "metadata": {},
   "outputs": [
    {
     "name": "stdout",
     "output_type": "stream",
     "text": [
      "Length of longest substring without repeating characters: 3\n"
     ]
    }
   ],
   "source": [
    "s = \"abcabcbb\"\n",
    "length = lengthOfLongestSubstring(s)\n",
    "print(\"Length of longest substring without repeating characters:\", length)"
   ]
  },
  {
   "cell_type": "markdown",
   "id": "6507137a",
   "metadata": {},
   "source": [
    "###  3. **Majority Element**\n",
    "\n",
    "Given an array `nums` of size `n`, return *the majority element*.\n",
    "\n",
    "The majority element is the element that appears more than `⌊n / 2⌋` times. You may assume that the majority element always exists in the array."
   ]
  },
  {
   "cell_type": "code",
   "execution_count": 5,
   "id": "e92a7381",
   "metadata": {},
   "outputs": [],
   "source": [
    "def majorityElement(nums):\n",
    "    count = 0  # counter variable\n",
    "    candidate = None  # majority element candidate\n",
    "\n",
    "    for num in nums:\n",
    "        if count == 0:\n",
    "            candidate = num\n",
    "        \n",
    "        if num == candidate:\n",
    "            count += 1\n",
    "        else:\n",
    "            count -= 1\n",
    "\n",
    "    return candidate"
   ]
  },
  {
   "cell_type": "code",
   "execution_count": 6,
   "id": "7b8e94ef",
   "metadata": {},
   "outputs": [
    {
     "name": "stdout",
     "output_type": "stream",
     "text": [
      "Majority element: 2\n"
     ]
    }
   ],
   "source": [
    "nums = [2, 2, 1, 1, 1, 2, 2]\n",
    "majority = majorityElement(nums)\n",
    "print(\"Majority element:\", majority)"
   ]
  },
  {
   "cell_type": "markdown",
   "id": "7d024a1e",
   "metadata": {},
   "source": [
    "###  4. **Group Anagram**\n",
    "\n",
    "Given an array of strings `strs`, group **the anagrams** together. You can return the answer in **any order**.\n",
    "\n",
    "An **Anagram** is a word or phrase formed by rearranging the letters of a different word or phrase, typically using all the original letters exactly once."
   ]
  },
  {
   "cell_type": "code",
   "execution_count": 7,
   "id": "2010d004",
   "metadata": {},
   "outputs": [],
   "source": [
    "def groupAnagrams(strs):\n",
    "    anagram_groups = {}\n",
    "    \n",
    "    for word in strs:\n",
    "        sorted_word = ''.join(sorted(word))\n",
    "        if sorted_word in anagram_groups:\n",
    "            anagram_groups[sorted_word].append(word)\n",
    "        else:\n",
    "            anagram_groups[sorted_word] = [word]\n",
    "    \n",
    "    return list(anagram_groups.values())"
   ]
  },
  {
   "cell_type": "markdown",
   "id": "c37fe41c",
   "metadata": {},
   "source": [
    "###  5. **Ugly Numbers**\n",
    "\n",
    "An **ugly number** is a positive integer whose prime factors are limited to `2`, `3`, and `5`.\n",
    "\n",
    "Given an integer `n`, return *the* `nth` ***ugly number***."
   ]
  },
  {
   "cell_type": "code",
   "execution_count": 8,
   "id": "5cd7d0ae",
   "metadata": {},
   "outputs": [],
   "source": [
    "def nthUglyNumber(n):\n",
    "    ugly = [0] * n\n",
    "    ugly[0] = 1\n",
    "    p2 = p3 = p5 = 0\n",
    "\n",
    "    for i in range(1, n):\n",
    "        ugly[i] = min(ugly[p2] * 2, ugly[p3] * 3, ugly[p5] * 5)\n",
    "        if ugly[i] == ugly[p2] * 2:\n",
    "            p2 += 1\n",
    "        if ugly[i] == ugly[p3] * 3:\n",
    "            p3 += 1\n",
    "        if ugly[i] == ugly[p5] * 5:\n",
    "            p5 += 1\n",
    "\n",
    "    return ugly[n-1]"
   ]
  },
  {
   "cell_type": "code",
   "execution_count": 9,
   "id": "944b5ba0",
   "metadata": {},
   "outputs": [
    {
     "name": "stdout",
     "output_type": "stream",
     "text": [
      "12\n"
     ]
    }
   ],
   "source": [
    "ugly_number = nthUglyNumber(10)\n",
    "print(ugly_number)"
   ]
  },
  {
   "cell_type": "markdown",
   "id": "c645b5db",
   "metadata": {},
   "source": [
    "###  6. **Top K Frequent Words**\n",
    "\n",
    "Given an array of strings `words` and an integer `k`, return *the* `k` *most frequent strings*.\n",
    "\n",
    "Return the answer **sorted** by **the frequency** from highest to lowest. Sort the words with the same frequency by their **lexicographical order**."
   ]
  },
  {
   "cell_type": "code",
   "execution_count": 10,
   "id": "98ee0ed8",
   "metadata": {},
   "outputs": [],
   "source": [
    "import heapq\n",
    "from collections import Counter\n",
    "\n",
    "def topKFrequent(words, k):\n",
    "    frequency = Counter(words)\n",
    "    pq = []\n",
    "\n",
    "    for word, freq in frequency.items():\n",
    "        heapq.heappush(pq, (-freq, word))\n",
    "\n",
    "    top_k = []\n",
    "    for _ in range(k):\n",
    "        freq, word = heapq.heappop(pq)\n",
    "        top_k.append(word)\n",
    "\n",
    "    return top_k"
   ]
  },
  {
   "cell_type": "code",
   "execution_count": 11,
   "id": "8abe3e45",
   "metadata": {},
   "outputs": [
    {
     "name": "stdout",
     "output_type": "stream",
     "text": [
      "['the', 'is', 'sunny']\n"
     ]
    }
   ],
   "source": [
    "words = [\"the\", \"day\", \"is\", \"sunny\", \"the\", \"the\", \"the\", \"sunny\", \"is\", \"is\"]\n",
    "k = 3\n",
    "\n",
    "result = topKFrequent(words, k)\n",
    "print(result)"
   ]
  },
  {
   "cell_type": "markdown",
   "id": "0dfb69bb",
   "metadata": {},
   "source": [
    "###  7. **Sliding Window Maximum**\n",
    "\n",
    "You are given an array of integers `nums`, there is a sliding window of size `k` which is moving from the very left of the array to the very right. You can only see the `k` numbers in the window. Each time the sliding window moves right by one position.\n",
    "\n",
    "Return *the max sliding window*."
   ]
  },
  {
   "cell_type": "code",
   "execution_count": 12,
   "id": "876f6a2e",
   "metadata": {},
   "outputs": [],
   "source": [
    "from collections import deque\n",
    "\n",
    "def maxSlidingWindow(nums, k):\n",
    "    window = deque()\n",
    "    result = []\n",
    "\n",
    "    for i in range(len(nums)):\n",
    "        # Remove indices from window that are no longer within the current window range\n",
    "        if window and window[0] <= i - k:\n",
    "            window.popleft()\n",
    "\n",
    "        # Remove indices from window that correspond to elements smaller than the current element\n",
    "        while window and nums[window[-1]] < nums[i]:\n",
    "            window.pop()\n",
    "\n",
    "        window.append(i)\n",
    "\n",
    "        # Add the maximum element from nums to result\n",
    "        if i >= k - 1:\n",
    "            result.append(nums[window[0]])\n",
    "\n",
    "    return result\n"
   ]
  },
  {
   "cell_type": "code",
   "execution_count": 13,
   "id": "f9d788e4",
   "metadata": {},
   "outputs": [
    {
     "name": "stdout",
     "output_type": "stream",
     "text": [
      "[3, 3, 5, 5, 6, 7]\n"
     ]
    }
   ],
   "source": [
    "nums = [1, 3, -1, -3, 5, 3, 6, 7]\n",
    "k = 3\n",
    "\n",
    "result = maxSlidingWindow(nums, k)\n",
    "print(result)"
   ]
  },
  {
   "cell_type": "markdown",
   "id": "3529c088",
   "metadata": {},
   "source": [
    "### 8. **Find K Closest Elements**\n",
    "\n",
    "Given a **sorted** integer array `arr`, two integers `k` and `x`, return the `k` closest integers to `x` in the array. The result should also be sorted in ascending order.\n",
    "\n",
    "An integer `a` is closer to `x` than an integer `b` if:\n",
    "\n",
    "- `|a - x| < |b - x|`, or\n",
    "- `|a - x| == |b - x|` and `a < b`"
   ]
  },
  {
   "cell_type": "code",
   "execution_count": 14,
   "id": "625dc6b3",
   "metadata": {},
   "outputs": [],
   "source": [
    "def findClosestElements(arr, k, x):\n",
    "    left = 0\n",
    "    right = len(arr) - 1\n",
    "\n",
    "    while right - left + 1 > k:\n",
    "        if abs(arr[left] - x) > abs(arr[right] - x):\n",
    "            left += 1\n",
    "        else:\n",
    "            right -= 1\n",
    "\n",
    "    return arr[left:right+1]"
   ]
  },
  {
   "cell_type": "code",
   "execution_count": 15,
   "id": "89d55813",
   "metadata": {},
   "outputs": [
    {
     "name": "stdout",
     "output_type": "stream",
     "text": [
      "[1, 2, 3, 4]\n"
     ]
    }
   ],
   "source": [
    "arr = [1, 2, 3, 4, 5]\n",
    "k = 4\n",
    "x = 3\n",
    "\n",
    "result = findClosestElements(arr, k, x)\n",
    "print(result)"
   ]
  }
 ],
 "metadata": {
  "kernelspec": {
   "display_name": "Python 3 (ipykernel)",
   "language": "python",
   "name": "python3"
  },
  "language_info": {
   "codemirror_mode": {
    "name": "ipython",
    "version": 3
   },
   "file_extension": ".py",
   "mimetype": "text/x-python",
   "name": "python",
   "nbconvert_exporter": "python",
   "pygments_lexer": "ipython3",
   "version": "3.11.4"
  }
 },
 "nbformat": 4,
 "nbformat_minor": 5
}
