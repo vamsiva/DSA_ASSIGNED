{
  "cells": [
    {
      "cell_type": "markdown",
      "id": "26d0aeff-357f-426b-ad58-1776d5c958d5",
      "metadata": {
        "id": "26d0aeff-357f-426b-ad58-1776d5c958d5"
      },
      "source": [
        "<aside>\n",
        "💡 **Question 1**\n",
        "\n",
        "A permutation perm of n + 1 integers of all the integers in the range [0, n] can be represented as a string s of length n where:\n",
        "\n",
        "- s[i] == 'I' if perm[i] < perm[i + 1], and\n",
        "- s[i] == 'D' if perm[i] > perm[i + 1].\n",
        "\n",
        "Given a string s, reconstruct the permutation perm and return it. If there are multiple valid permutations perm, return **any of them**.\n",
        "\n",
        "**Example 1:**\n",
        "\n",
        "**Input:** s = \"IDID\"\n",
        "\n",
        "**Output:**\n",
        "\n",
        "[0,4,1,3,2]\n",
        "\n",
        "</aside>"
      ]
    },
    {
      "cell_type": "code",
      "execution_count": null,
      "id": "faa50d73-f50f-476a-b61c-bdacb345ea03",
      "metadata": {
        "id": "faa50d73-f50f-476a-b61c-bdacb345ea03",
        "outputId": "7329ea3a-e672-4fec-a975-c887de23a991"
      },
      "outputs": [
        {
          "name": "stdout",
          "output_type": "stream",
          "text": [
            "[0, 4, 1, 3, 2]\n"
          ]
        }
      ],
      "source": [
        "def diStringMatch(s):\n",
        "        num=[i for i in range(len(s)+1)]\n",
        "        l=0\n",
        "        r=len(num)-1\n",
        "        i=0\n",
        "        re=[]\n",
        "        while(l<r):\n",
        "            if s[i]=='I':\n",
        "                re.append(num[l])\n",
        "                l+=1\n",
        "\n",
        "            else:\n",
        "                re.append(num[r])\n",
        "                r-=1\n",
        "            i+=1\n",
        "        re.append(l)\n",
        "        return re\n",
        "s=\"IDID\"\n",
        "print(diStringMatch(s))"
      ]
    },
    {
      "cell_type": "markdown",
      "id": "3e9d5500-a9e0-481e-8699-00c0ab944621",
      "metadata": {
        "id": "3e9d5500-a9e0-481e-8699-00c0ab944621"
      },
      "source": [
        "<aside>\n",
        "💡 **Question 2**\n",
        "\n",
        "You are given an m x n integer matrix matrix with the following two properties:\n",
        "\n",
        "- Each row is sorted in non-decreasing order.\n",
        "- The first integer of each row is greater than the last integer of the previous row.\n",
        "\n",
        "Given an integer target, return true *if* target *is in* matrix *or* false *otherwise*.\n",
        "\n",
        "You must write a solution in O(log(m * n)) time complexity.\n",
        "\n",
        "**Example 1:**\n",
        "\n",
        "</aside>\n",
        "**Input:** matrix = [[1,3,5,7],[10,11,16,20],[23,30,34,60]], target = 3\n",
        "\n",
        "**Output:** true"
      ]
    },
    {
      "cell_type": "code",
      "execution_count": null,
      "id": "176ef393-ab5f-4ac0-a1bb-9dbc3e53e38c",
      "metadata": {
        "colab": {
          "base_uri": "https://localhost:8080/"
        },
        "id": "176ef393-ab5f-4ac0-a1bb-9dbc3e53e38c",
        "outputId": "f9d9f2e7-071c-41c9-e8b2-2a7147ac9f9e"
      },
      "outputs": [
        {
          "output_type": "stream",
          "name": "stdout",
          "text": [
            "True\n"
          ]
        }
      ],
      "source": [
        "matrix = [[1,3,5,7],[10,11,16,20],[23,30,34,60]];target = 3\n",
        "\n",
        "def searchMatrix(matrix, target):\n",
        "    lm=len(matrix)\n",
        "    r=len(matrix[0])-1\n",
        "    m=0\n",
        "    for i in range(lm):\n",
        "        if target<=matrix[i][r]:\n",
        "            m=i\n",
        "            break\n",
        "\n",
        "    l=0\n",
        "    while(l<=r):\n",
        "        mid=(l+r)//2\n",
        "        if matrix[m][mid]==target:\n",
        "            return True\n",
        "        elif matrix[m][mid]<target:\n",
        "            l=mid+1\n",
        "        else:\n",
        "            r=mid-1\n",
        "    return False\n",
        "print(searchMatrix(matrix, target))"
      ]
    },
    {
      "cell_type": "markdown",
      "id": "19d8297b-7f43-4ade-a143-ca30c0a6f8a2",
      "metadata": {
        "id": "19d8297b-7f43-4ade-a143-ca30c0a6f8a2"
      },
      "source": [
        "<aside>\n",
        "💡 **Question 3**\n",
        "\n",
        "Given an array of integers arr, return *true if and only if it is a valid mountain array*.\n",
        "\n",
        "Recall that arr is a mountain array if and only if:\n",
        "\n",
        "- arr.length >= 3\n",
        "- There exists some i with 0 < i < arr.length - 1 such that:\n",
        "    - arr[0] < arr[1] < ... < arr[i - 1] < arr[i]\n",
        "    - arr[i] > arr[i + 1] > ... > arr[arr.length - 1]\n",
        "</aside>\n",
        "**Example 1:**\n",
        "\n",
        "**Input:** arr = [2,1]\n",
        "\n",
        "**Output:**\n",
        "\n",
        "false"
      ]
    },
    {
      "cell_type": "code",
      "execution_count": null,
      "id": "28db7c4e-b185-49a1-93e9-bfeb9fe31c28",
      "metadata": {
        "colab": {
          "base_uri": "https://localhost:8080/"
        },
        "id": "28db7c4e-b185-49a1-93e9-bfeb9fe31c28",
        "outputId": "414c6f45-4f53-4714-ad20-8cc8f91a721e"
      },
      "outputs": [
        {
          "output_type": "stream",
          "name": "stdout",
          "text": [
            "False\n"
          ]
        }
      ],
      "source": [
        "#ANS:\n",
        "def validMountainArray(arr):\n",
        "        \"\"\"\n",
        "        :type arr: List[int]\n",
        "        :rtype: bool\n",
        "        \"\"\"\n",
        "        l=0\n",
        "        r=len(arr)-1\n",
        "        if len(arr)<3:\n",
        "            return False\n",
        "        while(arr[l]<arr[l+1]):\n",
        "            l+=1\n",
        "            if l==len(arr)-1:\n",
        "                return False\n",
        "\n",
        "        while(arr[r]<arr[r-1]):\n",
        "            r-=1\n",
        "            if r==0:\n",
        "                return False\n",
        "        return r==l\n",
        "arr = [2,1]\n",
        "print(validMountainArray(arr))"
      ]
    },
    {
      "cell_type": "markdown",
      "id": "ad5faabe-0842-473f-954b-8130ef6ce0d6",
      "metadata": {
        "id": "ad5faabe-0842-473f-954b-8130ef6ce0d6"
      },
      "source": [
        "<aside>\n",
        "💡 **Question 4**\n",
        "\n",
        "Given a binary array nums, return *the maximum length of a contiguous subarray with an equal number of* 0 *and* 1.\n",
        "\n",
        "**Example 1:**\n",
        "\n",
        "**Input:** nums = [0,1]\n",
        "\n",
        "**Output:** 2\n",
        "\n",
        "**Explanation:**\n",
        "\n",
        "[0, 1] is the longest contiguous subarray with an equal number of 0 and 1.\n",
        "\n",
        "</aside>"
      ]
    },
    {
      "cell_type": "code",
      "execution_count": 1,
      "id": "ca0a308f-7653-4c8a-8fd8-1ba13eb169ed",
      "metadata": {
        "id": "ca0a308f-7653-4c8a-8fd8-1ba13eb169ed",
        "colab": {
          "base_uri": "https://localhost:8080/"
        },
        "outputId": "aae92c03-d52c-4f79-96fa-9a24e35d71a2"
      },
      "outputs": [
        {
          "output_type": "execute_result",
          "data": {
            "text/plain": [
              "2"
            ]
          },
          "metadata": {},
          "execution_count": 1
        }
      ],
      "source": [
        "nums = [0,1]\n",
        "def findMaxLength(nums):\n",
        "\t\t# Saves the index of the first occurence of a given difference\n",
        "        firstIndex = {0: -1}\n",
        "        freq = [0, 0]\n",
        "        maxlen = 0\n",
        "        for i, x in enumerate(nums):\n",
        "            freq[x] += 1\n",
        "            diff = freq[1]-freq[0]\n",
        "\t\t\t# We look to find a subarray starting at index 0 that would cancel out our current difference\n",
        "            if diff in firstIndex:\n",
        "                maxlen = max(maxlen, i-firstIndex[diff])\n",
        "            if diff not in firstIndex:\n",
        "                firstIndex[diff] = i\n",
        "        return maxlen\n",
        "findMaxLength(nums)\n",
        "\n"
      ]
    },
    {
      "cell_type": "markdown",
      "id": "e0553512-526d-49ef-8c15-8c7a6a4e3037",
      "metadata": {
        "id": "e0553512-526d-49ef-8c15-8c7a6a4e3037"
      },
      "source": [
        "<aside>\n",
        "💡 **Question 5**\n",
        "\n",
        "The **product sum** of two equal-length arrays a and b is equal to the sum of a[i] * b[i] for all 0 <= i < a.length (**0-indexed**).\n",
        "\n",
        "- For example, if a = [1,2,3,4] and b = [5,2,3,1], the **product sum** would be 1*5 + 2*2 + 3*3 + 4*1 = 22.\n",
        "\n",
        "Given two arrays nums1 and nums2 of length n, return *the **minimum product sum** if you are allowed to **rearrange** the **order** of the elements in* nums1.\n",
        "\n",
        "**Example 1:**\n",
        "\n",
        "**Input:** nums1 = [5,3,4,2], nums2 = [4,2,2,5]\n",
        "\n",
        "**Output:** 40\n",
        "\n",
        "**Explanation:**\n",
        "\n",
        "We can rearrange nums1 to become [3,5,4,2]. The product sum of [3,5,4,2] and [4,2,2,5] is 3*4 + 5*2 + 4*2 + 2*5 = 40.\n",
        "\n",
        "</aside>"
      ]
    },
    {
      "cell_type": "code",
      "execution_count": null,
      "id": "33e1160a-0347-49f5-a70f-f68abae2b9cd",
      "metadata": {
        "id": "33e1160a-0347-49f5-a70f-f68abae2b9cd",
        "colab": {
          "base_uri": "https://localhost:8080/"
        },
        "outputId": "7d2a6510-3d82-4b05-c5c1-4881e3750fa0"
      },
      "outputs": [
        {
          "output_type": "stream",
          "name": "stdout",
          "text": [
            "40\n"
          ]
        }
      ],
      "source": [
        "#ANS:\n",
        "nums1 = [5,3,4,2]\n",
        "nums2 = [4,2,2,5]\n",
        "nums1.sort()\n",
        "result=0\n",
        "nums2.sort(reverse=True)\n",
        "for i in range(len(nums1)):\n",
        "  result+=nums1[i]*nums2[i]\n",
        "print(result)\n"
      ]
    },
    {
      "cell_type": "markdown",
      "id": "e9e46e6c-a386-4b21-b210-7bfbacde6fe7",
      "metadata": {
        "id": "e9e46e6c-a386-4b21-b210-7bfbacde6fe7"
      },
      "source": [
        "<aside>\n",
        "💡 **Question 6**\n",
        "\n",
        "An integer array original is transformed into a **doubled** array changed by appending **twice the value** of every element in original, and then randomly **shuffling** the resulting array.\n",
        "\n",
        "Given an array changed, return original *if* changed *is a **doubled** array. If* changed *is not a **doubled** array, return an empty array. The elements in* original *may be returned in **any** order*.\n",
        "\n",
        "**Example 1:**\n",
        "\n",
        "**Input:** changed = [1,3,4,2,6,8]\n",
        "\n",
        "**Output:** [1,3,4]\n",
        "\n",
        "**Explanation:** One possible original array could be [1,3,4]:\n",
        "\n",
        "- Twice the value of 1 is 1 * 2 = 2.\n",
        "- Twice the value of 3 is 3 * 2 = 6.\n",
        "- Twice the value of 4 is 4 * 2 = 8.\n",
        "\n",
        "Other original arrays could be [4,3,1] or [3,1,4].\n",
        "\n",
        "</aside>\n",
        "\n"
      ]
    },
    {
      "cell_type": "code",
      "execution_count": null,
      "id": "6ecb4435-187e-40d9-b0c3-db45b621d006",
      "metadata": {
        "id": "6ecb4435-187e-40d9-b0c3-db45b621d006",
        "colab": {
          "base_uri": "https://localhost:8080/"
        },
        "outputId": "85356379-5ccf-45b9-9828-e7c437857c5b"
      },
      "outputs": [
        {
          "output_type": "stream",
          "name": "stdout",
          "text": [
            "[1, 3, 4]\n"
          ]
        }
      ],
      "source": [
        "def findOriginalArray(nums):\n",
        "            ans = []\n",
        "            vacans = []\n",
        "            if len(nums)%2:\n",
        "                    return ans\n",
        "            nums.sort()\n",
        "            temp = {key:nums.count(key) for key in nums}\n",
        "            for i in nums:\n",
        "                if temp[i] == 0:\n",
        "\n",
        "                    continue\n",
        "                else:\n",
        "                    if temp.get(2*i,0) >= 1:\n",
        "                        ans.append(i)\n",
        "                        temp[2*i] -= 1\n",
        "                        temp[i] -= 1\n",
        "                    else:\n",
        "                        return vacans\n",
        "            return ans\n",
        "changed = [1,3,4,2,6,8]\n",
        "print(findOriginalArray(changed))"
      ]
    },
    {
      "cell_type": "markdown",
      "id": "a7b31995-0054-483d-8aba-82b7fc558c36",
      "metadata": {
        "id": "a7b31995-0054-483d-8aba-82b7fc558c36"
      },
      "source": [
        "<aside>\n",
        "💡 **Question 7**\n",
        "\n",
        "Given a positive integer n, generate an n x n matrix filled with elements from 1 to n2 in spiral order.\n",
        "\n",
        "**Example 1:**\n",
        "\n",
        "</aside>\n",
        "\n",
        "**Input:** n = 3\n",
        "\n",
        "**Output:** [[1,2,3],[8,9,4],[7,6,5]]"
      ]
    },
    {
      "cell_type": "code",
      "execution_count": null,
      "id": "766f571e-c1d6-425d-8816-c2244ae0faca",
      "metadata": {
        "id": "766f571e-c1d6-425d-8816-c2244ae0faca",
        "colab": {
          "base_uri": "https://localhost:8080/"
        },
        "outputId": "9fa7b848-f863-42f5-ff66-842bc85b30cd"
      },
      "outputs": [
        {
          "output_type": "execute_result",
          "data": {
            "text/plain": [
              "[[1, 2, 3], [8, 9, 4], [7, 6, 5]]"
            ]
          },
          "metadata": {},
          "execution_count": 56
        }
      ],
      "source": [
        "def generateMatrix(n):\n",
        "        \"\"\"\n",
        "        :type n: int\n",
        "        :rtype: List[List[int]]\n",
        "        \"\"\"\n",
        "        matrix=[[0]*n for _ in range(n)]\n",
        "        left,right=0,len(matrix[0])\n",
        "        top,buttom=0,len(matrix)\n",
        "        val=1\n",
        "        while(left<right and top<buttom):\n",
        "          for i in range(left,right):\n",
        "              matrix[top][i]=val\n",
        "              val+=1\n",
        "          top+=1\n",
        "          for j in range(top,buttom):\n",
        "              matrix[j][right-1]=val\n",
        "              val+=1\n",
        "          right-=1\n",
        "          if not (left<right and top<buttom):\n",
        "              break\n",
        "          for k in range(right-1,left-1,-1):\n",
        "              matrix[buttom-1][k]=val\n",
        "              val+=1\n",
        "          buttom-=1\n",
        "          for l in range(buttom-1,top-1,-1):\n",
        "              matrix[l][left]=val\n",
        "              val+=1\n",
        "\n",
        "          left+=1\n",
        "        return matrix\n",
        "n=3\n",
        "generateMatrix(n)"
      ]
    },
    {
      "cell_type": "markdown",
      "id": "d7e1847b-4e02-49fc-84d8-1614a6c8a3b1",
      "metadata": {
        "id": "d7e1847b-4e02-49fc-84d8-1614a6c8a3b1"
      },
      "source": [
        "<aside>\n",
        "💡 **Question 8**\n",
        "\n",
        "Given two [sparse matrices](https://en.wikipedia.org/wiki/Sparse_matrix) mat1 of size m x k and mat2 of size k x n, return the result of mat1 x mat2. You may assume that multiplication is always possible.\n",
        "\n",
        "**Example 1:**\n",
        "\n",
        "</aside>\n",
        "\n",
        "**Input:** mat1 = [[1,0,0],[-1,0,3]], mat2 = [[7,0,0],[0,0,0],[0,0,1]]\n",
        "\n",
        "**Output:**\n",
        "\n",
        "[[7,0,0],[-7,0,3]]"
      ]
    },
    {
      "cell_type": "code",
      "execution_count": 5,
      "id": "9e27cc59-1224-424e-b843-d48ae1bb35e5",
      "metadata": {
        "id": "9e27cc59-1224-424e-b843-d48ae1bb35e5",
        "colab": {
          "base_uri": "https://localhost:8080/"
        },
        "outputId": "f5aa670d-0521-4a87-99be-ce18c91d29ec"
      },
      "outputs": [
        {
          "output_type": "stream",
          "name": "stdout",
          "text": [
            "[[7, 0, 0], [-7, 0, 3]]\n"
          ]
        }
      ],
      "source": [
        "#ANS:\n",
        "mat1 = [[1,0,0],[-1,0,3]]\n",
        "mat2 = [[7,0,0],[0,0,0],[0,0,1]]\n",
        "def multiply(mat1, mat2):\n",
        "        r1, c1, c2 = len(mat1), len(mat1[0]), len(mat2[0])\n",
        "        res = [[0] * c2 for _ in range(r1)]\n",
        "        for i in range(r1):\n",
        "            for j in range(c2):\n",
        "                for k in range(c1):\n",
        "                    res[i][j] += mat1[i][k] * mat2[k][j]\n",
        "        return res\n",
        "print(multiply(mat1,mat2))\n",
        "\n"
      ]
    }
  ],
  "metadata": {
    "kernelspec": {
      "display_name": "Python 3 (ipykernel)",
      "language": "python",
      "name": "python3"
    },
    "language_info": {
      "codemirror_mode": {
        "name": "ipython",
        "version": 3
      },
      "file_extension": ".py",
      "mimetype": "text/x-python",
      "name": "python",
      "nbconvert_exporter": "python",
      "pygments_lexer": "ipython3",
      "version": "3.10.6"
    },
    "colab": {
      "provenance": []
    }
  },
  "nbformat": 4,
  "nbformat_minor": 5
}