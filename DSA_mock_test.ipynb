{
 "cells": [
  {
   "cell_type": "markdown",
   "id": "5ed71013-c9cb-4b1b-a8ac-72293bf6de08",
   "metadata": {},
   "source": [
    "# mock test question 1"
   ]
  },
  {
   "cell_type": "code",
   "execution_count": 14,
   "id": "301db470-a208-47e2-b6f5-bf61d4ed1049",
   "metadata": {},
   "outputs": [
    {
     "name": "stdin",
     "output_type": "stream",
     "text": [
      " 18\n"
     ]
    },
    {
     "name": "stdout",
     "output_type": "stream",
     "text": [
      "4\n"
     ]
    }
   ],
   "source": [
    "n=int(input())\n",
    "pre,sqr=0,0\n",
    "for i in range(n):\n",
    "    pre=sqr\n",
    "    sqr=i**2\n",
    "    if sqr>=n:\n",
    "        if sqr==n:\n",
    "            print(i)\n",
    "        else:    \n",
    "            print(i-1)\n",
    "        break\n",
    "    "
   ]
  },
  {
   "cell_type": "markdown",
   "id": "9d9c9fea-0b46-4f57-baa8-95034ffa9d5e",
   "metadata": {},
   "source": [
    "# mock test question 2"
   ]
  },
  {
   "cell_type": "code",
   "execution_count": 22,
   "id": "13e313bc-0495-4802-9f6c-53f44dd15e96",
   "metadata": {},
   "outputs": [
    {
     "name": "stdout",
     "output_type": "stream",
     "text": [
      "First list is 7 5 9 4 6 \n",
      "Second list is 8 4 \n",
      "Resultant list is 0 3 0 6 7 \n"
     ]
    }
   ],
   "source": [
    "class Solution:\n",
    "    # Function to reverse a list\n",
    "    def reverse(self, head):\n",
    "        if head is None or head.next is None:\n",
    "            return head\n",
    "        prev = None\n",
    "        next = None\n",
    "        curr = head\n",
    "        while curr is not None:\n",
    "            next = curr.next\n",
    "            curr.next = prev\n",
    "            prev = curr\n",
    "            curr = next\n",
    "        head = prev\n",
    "        return head\n",
    " \n",
    "    # Function to add two numbers represented by linked list.\n",
    " \n",
    "    def addTwoLists(self, first, second):\n",
    " \n",
    "        # reverse the two lists\n",
    "        curr1 = self.reverse(first)\n",
    "        curr2 = self.reverse(second)\n",
    " \n",
    "        # res is head node of the resultant list\n",
    "        sum = 0\n",
    "        carry = 0\n",
    "        res = None\n",
    "        prev = None\n",
    " \n",
    "        # while both lists have atleast one node\n",
    "        while curr1 is not None or curr2 is not None:\n",
    " \n",
    "            # Calculating the sum of the last digits\n",
    "            sum = carry + (curr1.data if curr1 else 0) + \\\n",
    "                (curr2.data if curr2 else 0)\n",
    " \n",
    "            # update carry for next calculation\n",
    "            carry = (1 if sum >= 10 else 0)\n",
    " \n",
    "            # update sum if it is greater than 10\n",
    "            sum = sum % 10\n",
    " \n",
    "            # Create a new node with sum as data\n",
    "            temp = Node(sum)\n",
    " \n",
    "            # if this is the first node then set it as head of the resultant list\n",
    "            if res is None:\n",
    "                res = temp\n",
    " \n",
    "            # If this is not the first node then connect it to the rest.\n",
    "            else:\n",
    "                prev.next = temp\n",
    " \n",
    "            # Set prev for next insertion\n",
    "            prev = temp\n",
    " \n",
    "            # Move first and second pointers to next nodes\n",
    "            if curr1:\n",
    "                curr1 = curr1.next\n",
    "            if curr2:\n",
    "                curr2 = curr2.next\n",
    " \n",
    "        # if carry from previous sums is remaining\n",
    "        if carry > 0:\n",
    "            temp.next = Node(carry)\n",
    " \n",
    "        # Reverse the resultant answer\n",
    "        ans = res\n",
    "        return ans\n",
    " \n",
    " \n",
    "class Node:\n",
    "    def __init__(self, data):\n",
    "        self.data = data\n",
    "        self.next = None\n",
    " \n",
    " \n",
    "class LinkedList:\n",
    "    def __init__(self):\n",
    "        self.head = None\n",
    "        self.tail = None\n",
    " \n",
    "    def insert(self, val):\n",
    "        if self.head is None:\n",
    "            self.head = Node(val)\n",
    "            self.tail = self.head\n",
    "        else:\n",
    "            self.tail.next = Node(val)\n",
    "            self.tail = self.tail.next\n",
    " \n",
    "# Utility function to print the list\n",
    " \n",
    " \n",
    "def printList(n):\n",
    "    while n:\n",
    "        print(n.data, end = ' ')\n",
    "        n = n.next\n",
    "    print()\n",
    " \n",
    " \n",
    "# Driver Code\n",
    "if __name__ == \"__main__\":\n",
    " \n",
    "    arr1 = [7, 5, 9, 4, 6]\n",
    "    LL1 = LinkedList()\n",
    "    for i in arr1:\n",
    "        LL1.insert(i)\n",
    "    print(\"First list is\", end = \" \")\n",
    "    printList(LL1.head)\n",
    " \n",
    "    arr2 = [8, 4]\n",
    "    LL2 = LinkedList()\n",
    "    for i in arr2:\n",
    "        LL2.insert(i)\n",
    "    print(\"Second list is\", end = \" \")\n",
    "    printList(LL2.head)\n",
    " \n",
    "    # Function Call\n",
    "    res = Solution().addTwoLists(LL1.head, LL2.head)\n",
    "    print(\"Resultant list is\", end = \" \")\n",
    "    printList(res)\n",
    " "
   ]
  },
  {
   "cell_type": "code",
   "execution_count": null,
   "id": "fdd2c167-a751-4f55-a564-fc4d211680e0",
   "metadata": {},
   "outputs": [],
   "source": [
    "\n",
    "\n"
   ]
  }
 ],
 "metadata": {
  "kernelspec": {
   "display_name": "Python 3 (ipykernel)",
   "language": "python",
   "name": "python3"
  },
  "language_info": {
   "codemirror_mode": {
    "name": "ipython",
    "version": 3
   },
   "file_extension": ".py",
   "mimetype": "text/x-python",
   "name": "python",
   "nbconvert_exporter": "python",
   "pygments_lexer": "ipython3",
   "version": "3.10.6"
  }
 },
 "nbformat": 4,
 "nbformat_minor": 5
}
