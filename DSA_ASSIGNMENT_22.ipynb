{
 "cells": [
  {
   "cell_type": "markdown",
   "id": "370ebe89",
   "metadata": {},
   "source": [
    "### Question-1:\n",
    "\n",
    "Given a Binary Tree (Bt), convert it to a Doubly Linked List(DLL). The left and right pointers in nodes are to be used as previous and next pointers respectively in converted DLL. The order of nodes in DLL must be the same as in Inorder for the given Binary Tree. The first node of Inorder traversal (leftmost node in BT) must be the head node of the DLL."
   ]
  },
  {
   "cell_type": "code",
   "execution_count": 1,
   "id": "650029b9",
   "metadata": {},
   "outputs": [],
   "source": [
    "class Node:\n",
    "    def __init__(self, val=0, left=None, right=None):\n",
    "        self.val = val\n",
    "        self.left = left\n",
    "        self.right = right\n",
    "\n",
    "class DLLNode:\n",
    "    def __init__(self, val=0, prev=None, next=None):\n",
    "        self.val = val\n",
    "        self.prev = prev\n",
    "        self.next = next\n",
    "\n",
    "def convertToDLL(root):\n",
    "    if root is None:\n",
    "        return None, None\n",
    "\n",
    "    left_head, left_tail = convertToDLL(root.left)\n",
    "\n",
    "    node = DLLNode(root.val)\n",
    "\n",
    "    if left_tail:\n",
    "    \n",
    "        left_tail.next = node\n",
    "        node.prev = left_tail\n",
    "\n",
    "    right_head, right_tail = convertToDLL(root.right)\n",
    "\n",
    "    if right_head:\n",
    "\n",
    "        right_head.prev = node\n",
    "        node.next = right_head\n",
    "\n",
    "    head = left_head if left_head else node\n",
    "    tail = right_tail if right_tail else node\n",
    "\n",
    "    return head, tail"
   ]
  },
  {
   "cell_type": "code",
   "execution_count": 2,
   "id": "ad57bf2e",
   "metadata": {},
   "outputs": [
    {
     "name": "stdout",
     "output_type": "stream",
     "text": [
      "1 2 3 4 5 \n",
      "5 4 3 2 1 \n"
     ]
    }
   ],
   "source": [
    "root = Node(4)\n",
    "root.left = Node(2)\n",
    "root.right = Node(5)\n",
    "root.left.left = Node(1)\n",
    "root.left.right = Node(3)\n",
    "\n",
    "# Convert the binary tree to DLL\n",
    "head, tail = convertToDLL(root)\n",
    "\n",
    "# Print the DLL in both forward and backward directions\n",
    "current = head\n",
    "while current:\n",
    "    print(current.val, end=\" \")\n",
    "    current = current.next\n",
    "print()\n",
    "\n",
    "current = tail\n",
    "while current:\n",
    "    print(current.val, end=\" \")\n",
    "    current = current.prev\n",
    "print()"
   ]
  },
  {
   "cell_type": "markdown",
   "id": "ec339d73",
   "metadata": {},
   "source": [
    "### Question-2\n",
    "\n",
    "A Given a binary tree, the task is to flip the binary tree towards the right direction that is clockwise. See the below examples to see the transformation.\n",
    "\n",
    "In the flip operation, the leftmost node becomes the root of the flipped tree and its parent becomes its right child and the right sibling becomes its left child and the same should be done for all left most nodes recursively."
   ]
  },
  {
   "cell_type": "code",
   "execution_count": 3,
   "id": "07ba390d",
   "metadata": {},
   "outputs": [],
   "source": [
    "class Node:\n",
    "    def __init__(self, val=0, left=None, right=None):\n",
    "        self.val = val\n",
    "        self.left = left\n",
    "        self.right = right\n",
    "\n",
    "def flipBinaryTree(root):\n",
    "    if root is None:\n",
    "        return root\n",
    "\n",
    "    if root.left is None and root.right is None:\n",
    "        return root\n",
    "\n",
    "    flipped_left = flipBinaryTree(root.left)\n",
    "    flipped_right = flipBinaryTree(root.right)\n",
    "\n",
    "    root.left = flipped_right\n",
    "    root.right = flipped_left\n",
    "\n",
    "    return root"
   ]
  },
  {
   "cell_type": "code",
   "execution_count": 4,
   "id": "efba160e",
   "metadata": {},
   "outputs": [
    {
     "name": "stdout",
     "output_type": "stream",
     "text": [
      "3 1 5 2 4 "
     ]
    }
   ],
   "source": [
    "root = Node(1)\n",
    "root.left = Node(2)\n",
    "root.right = Node(3)\n",
    "root.left.left = Node(4)\n",
    "root.left.right = Node(5)\n",
    "\n",
    "# Flip the binary tree\n",
    "flipped_root = flipBinaryTree(root)\n",
    "\n",
    "def inorderTraversal(node):\n",
    "    if node is None:\n",
    "        return\n",
    "    inorderTraversal(node.left)\n",
    "    print(node.val, end=\" \")\n",
    "    inorderTraversal(node.right)\n",
    "\n",
    "inorderTraversal(flipped_root)"
   ]
  },
  {
   "cell_type": "markdown",
   "id": "7286c546",
   "metadata": {},
   "source": [
    "### Question-3:\n",
    "\n",
    "Given a binary tree, print all its root-to-leaf paths without using recursion. For example, consider the following Binary Tree."
   ]
  },
  {
   "cell_type": "code",
   "execution_count": 5,
   "id": "dc8da2c5",
   "metadata": {},
   "outputs": [],
   "source": [
    "class Node:\n",
    "    def __init__(self, val=0, left=None, right=None):\n",
    "        self.val = val\n",
    "        self.left = left\n",
    "        self.right = right\n",
    "\n",
    "def printRootToLeafPaths(root):\n",
    "    if root is None:\n",
    "        return\n",
    "\n",
    "    stack = [(root, str(root.val))]\n",
    "\n",
    "    while stack:\n",
    "        node, path = stack.pop()\n",
    "\n",
    "        if node.left is None and node.right is None:\n",
    "            print(path)\n",
    "        \n",
    "        if node.right:\n",
    "            stack.append((node.right, path + \"->\" + str(node.right.val)))\n",
    "        \n",
    "        if node.left:\n",
    "            stack.append((node.left, path + \"->\" + str(node.left.val)))"
   ]
  },
  {
   "cell_type": "code",
   "execution_count": 6,
   "id": "08c3c7da",
   "metadata": {},
   "outputs": [
    {
     "name": "stdout",
     "output_type": "stream",
     "text": [
      "1->2->4\n",
      "1->2->5\n",
      "1->3\n"
     ]
    }
   ],
   "source": [
    "root = Node(1)\n",
    "root.left = Node(2)\n",
    "root.right = Node(3)\n",
    "root.left.left = Node(4)\n",
    "root.left.right = Node(5)\n",
    "\n",
    "printRootToLeafPaths(root)"
   ]
  },
  {
   "cell_type": "markdown",
   "id": "e818dee3",
   "metadata": {},
   "source": [
    "### Question-4:\n",
    "\n",
    "Given Preorder, Inorder and Postorder traversals of some tree. Write a program to check if they all are of the same tree."
   ]
  },
  {
   "cell_type": "code",
   "execution_count": 7,
   "id": "defcd9d6",
   "metadata": {},
   "outputs": [],
   "source": [
    "def isSameTree(preorder, inorder, postorder):\n",
    "    if len(preorder) == 0 or len(inorder) == 0 or len(postorder) == 0:\n",
    "        return True\n",
    "\n",
    "    if preorder[0] != postorder[-1]:\n",
    "        return False\n",
    "\n",
    "    root = preorder[0]\n",
    "    root_index = inorder.index(root)\n",
    "\n",
    "    left_inorder = inorder[:root_index]\n",
    "    right_inorder = inorder[root_index+1:]\n",
    "\n",
    "    left_preorder = preorder[1:root_index+1]\n",
    "    right_preorder = preorder[root_index+1:]\n",
    "\n",
    "    left_postorder = postorder[:root_index]\n",
    "    right_postorder = postorder[root_index:-1]\n",
    "\n",
    "    return isSameTree(left_preorder, left_inorder, left_postorder) and \\\n",
    "           isSameTree(right_preorder, right_inorder, right_postorder)"
   ]
  },
  {
   "cell_type": "code",
   "execution_count": 8,
   "id": "745071a1",
   "metadata": {},
   "outputs": [
    {
     "name": "stdout",
     "output_type": "stream",
     "text": [
      "The traversals represent the same tree.\n"
     ]
    }
   ],
   "source": [
    "preorder = [1, 2, 4, 5, 3]\n",
    "inorder = [4, 2, 5, 1, 3]\n",
    "postorder = [4, 5, 2, 3, 1]\n",
    "\n",
    "if isSameTree(preorder, inorder, postorder):\n",
    "    print(\"The traversals represent the same tree.\")\n",
    "else:\n",
    "    print(\"The traversals do not represent the same tree.\")"
   ]
  }
 ],
 "metadata": {
  "kernelspec": {
   "display_name": "Python 3 (ipykernel)",
   "language": "python",
   "name": "python3"
  },
  "language_info": {
   "codemirror_mode": {
    "name": "ipython",
    "version": 3
   },
   "file_extension": ".py",
   "mimetype": "text/x-python",
   "name": "python",
   "nbconvert_exporter": "python",
   "pygments_lexer": "ipython3",
   "version": "3.11.4"
  }
 },
 "nbformat": 4,
 "nbformat_minor": 5
}
