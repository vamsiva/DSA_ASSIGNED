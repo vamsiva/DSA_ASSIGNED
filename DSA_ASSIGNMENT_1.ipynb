{
 "cells": [
  {
   "cell_type": "markdown",
   "id": "934ecb47-6558-4f00-9bf3-bac700858068",
   "metadata": {},
   "source": [
    "# Q1"
   ]
  },
  {
   "cell_type": "markdown",
   "id": "0bc01ae2-d1ff-4f14-9f42-edc00b298b57",
   "metadata": {},
   "source": [
    "<aside>\n",
    "💡 **Q1.** Given an array of integers nums and an integer target, return indices of the two numbers such that they add up to target.\n",
    "\n",
    "You may assume that each input would have exactly one solution, and you may not use the same element twice.\n",
    "\n",
    "You can return the answer in any order.\n",
    "\n",
    "**Example:**\n",
    "Input: nums = [2,7,11,15], target = 9\n",
    "Output0 [0,1]\n",
    "\n",
    "**Explanation:** Because nums[0] + nums[1] == 9, we return [0, 1][\n",
    "\n",
    "</aside>"
   ]
  },
  {
   "cell_type": "code",
   "execution_count": 5,
   "id": "bfa9986a-747a-476c-9be8-7ed9937a0b90",
   "metadata": {},
   "outputs": [
    {
     "name": "stdin",
     "output_type": "stream",
     "text": [
      "array:  2 7 11 15\n",
      "target:  9\n"
     ]
    },
    {
     "name": "stdout",
     "output_type": "stream",
     "text": [
      "[0, 1]\n"
     ]
    }
   ],
   "source": [
    "#ANS\n",
    "#taking the input as the array and target\n",
    "arr=list(map(int,input(\"array: \").strip().split(' ')))\n",
    "target=int(input(\"target: \"))\n",
    "#we will solve using two pointer approach\n",
    "def sum_of_two(arr,target):\n",
    "    l=0\n",
    "    r=len(arr)-1\n",
    "    while(l!=r):\n",
    "        if arr[l]+arr[r]>target:\n",
    "            r-=1\n",
    "        elif arr[l]+arr[r]<target:\n",
    "            l+=1\n",
    "        else:\n",
    "            return([l,r])\n",
    "            r-=1\n",
    "            l+=1\n",
    "            \n",
    "            \n",
    "result=sum_of_two(arr,target)\n",
    "print(result)"
   ]
  },
  {
   "cell_type": "markdown",
   "id": "d9a1e8fe-05a8-4c2e-bc88-c8e23a1c2337",
   "metadata": {},
   "source": [
    "# Q2"
   ]
  },
  {
   "cell_type": "markdown",
   "id": "e783d93e-c19e-4ee4-a2f4-be0ee8055170",
   "metadata": {},
   "source": [
    "<aside>\n",
    "💡 **Q2.** Given an integer array nums and an integer val, remove all occurrences of val in nums in-place. The order of the elements may be changed. Then return the number of elements in nums which are not equal to val.\n",
    "\n",
    "Consider the number of elements in nums which are not equal to val be k, to get accepted, you need to do the following things:\n",
    "\n",
    "- Change the array nums such that the first k elements of nums contain the elements which are not equal to val. The remaining elements of nums are not important as well as the size of nums.\n",
    "- Return k.\n",
    "\n",
    "**Example :**\n",
    "Input: nums = [3,2,2,3], val = 3\n",
    "Output: 2, nums = [2,2,_*,_*]\n",
    "\n",
    "**Explanation:** Your function should return k = 2, with the first two elements of nums being 2. It does not matter what you leave beyond the returned k (hence they are underscores)[\n",
    "\n",
    "</aside>"
   ]
  },
  {
   "cell_type": "code",
   "execution_count": 21,
   "id": "d9b7a9d6-3da1-4dd0-a7c3-047a343d3084",
   "metadata": {},
   "outputs": [
    {
     "name": "stdin",
     "output_type": "stream",
     "text": [
      "array:  3 2 2 3\n",
      "enter the value: 3\n"
     ]
    },
    {
     "name": "stdout",
     "output_type": "stream",
     "text": [
      "OUTPUT: 2\n"
     ]
    }
   ],
   "source": [
    "#ans:\n",
    "nums=list(map(int,input(\"array: \").strip().split(' ')))\n",
    "val=int(input(\"enter the value:\"))\n",
    "def removeElement(nums,val):\n",
    "    while val in nums:\n",
    "        nums.remove(val)\n",
    "    return len(nums)\n",
    "    \n",
    "\n",
    "print(f\"OUTPUT: {removeElement(nums,val)}\")"
   ]
  },
  {
   "cell_type": "markdown",
   "id": "fcdbea3f-c71e-4dfa-9b0c-70f8ad8ae27c",
   "metadata": {},
   "source": [
    "# Q3"
   ]
  },
  {
   "cell_type": "markdown",
   "id": "d0b3b467-fe1f-4250-8da7-44418ca88556",
   "metadata": {},
   "source": [
    "<aside>\n",
    "💡 **Q3.** Given a sorted array of distinct integers and a target value, return the index if the target is found. If not, return the index where it would be if it were inserted in order.\n",
    "\n",
    "You must write an algorithm with O(log n) runtime complexity.\n",
    "\n",
    "**Example 1:**\n",
    "Input: nums = [1,3,5,6], target = 5\n",
    "\n",
    "Output: 2\n",
    "\n",
    "</aside>"
   ]
  },
  {
   "cell_type": "code",
   "execution_count": 23,
   "id": "33bbe963-1627-467a-9994-2a3db2e20c56",
   "metadata": {},
   "outputs": [
    {
     "name": "stdin",
     "output_type": "stream",
     "text": [
      "array:  1 3 5 6\n",
      "target:  5\n"
     ]
    },
    {
     "name": "stdout",
     "output_type": "stream",
     "text": [
      "output 2\n"
     ]
    }
   ],
   "source": [
    "#ANS:\n",
    "#for this we can use binary search\n",
    "arr1=list(map(int,input(\"array: \").strip().split(' ')))\n",
    "target1=int(input(\"target: \"))\n",
    "def search_a_target(arr1,target1):\n",
    "    left=0\n",
    "    right=len(arr1)-1\n",
    "    while(left<=right):\n",
    "        mid=left+(right-left)//2\n",
    "        if arr1[mid]==target1:\n",
    "            return mid\n",
    "        elif arr1[mid]<target1:\n",
    "            left=mid+1\n",
    "        else:\n",
    "            right=mid-1\n",
    "    return left\n",
    "print(f\"output {search_a_target(arr1,target1)}\")"
   ]
  },
  {
   "cell_type": "markdown",
   "id": "a737b965-44cf-4bb0-a1ad-d85caaa1d45c",
   "metadata": {},
   "source": [
    "# Q4"
   ]
  },
  {
   "cell_type": "markdown",
   "id": "83a13528-de8f-46c4-bf83-fdd2f386319d",
   "metadata": {},
   "source": [
    "<aside>\n",
    "💡 **Q4.** You are given a large integer represented as an integer array digits, where each digits[i] is the ith digit of the integer. The digits are ordered from most significant to least significant in left-to-right order. The large integer does not contain any leading 0's.\n",
    "\n",
    "Increment the large integer by one and return the resulting array of digits.\n",
    "\n",
    "**Example 1:**\n",
    "Input: digits = [1,2,3]\n",
    "Output: [1,2,4]\n",
    "\n",
    "**Explanation:** The array represents the integer 123.\n",
    "\n",
    "Incrementing by one gives 123 + 1 = 124.\n",
    "Thus, the result should be [1,2,4].\n",
    "\n",
    "</aside>"
   ]
  },
  {
   "cell_type": "code",
   "execution_count": 53,
   "id": "5c47fd84-94c1-45d8-af01-58fbbafd1b35",
   "metadata": {},
   "outputs": [
    {
     "name": "stdin",
     "output_type": "stream",
     "text": [
      "ENTER THE INPUT LIST 9 9 9\n"
     ]
    },
    {
     "name": "stdout",
     "output_type": "stream",
     "text": [
      "output list after adding one is [1, 0, 0, 0].\n"
     ]
    }
   ],
   "source": [
    "#Ans:\n",
    "arr2=list(map(int,input(\"ENTER THE INPUT LIST\").strip().split()))\n",
    "def adding_one_at_end(arr2):\n",
    "    l=len(arr2)-1\n",
    "    for i in range(l,-1,-1):\n",
    "        if arr2[i]==9:\n",
    "            arr2[i]=0\n",
    "        else:\n",
    "            arr2[i]+=1\n",
    "            return list(arr2)\n",
    "#IF ALL ARE 999... THEN WE SHOULD ADD 1 IN FRONT\n",
    "    arr2.insert(0,1)\n",
    "    return(arr2)\n",
    "result=adding_one_at_end(arr2)\n",
    "print(f\"output list after adding one is {result}.\")"
   ]
  },
  {
   "cell_type": "markdown",
   "id": "b383e261-9f75-434c-a058-dea2f9c61dd4",
   "metadata": {},
   "source": [
    "# Q5"
   ]
  },
  {
   "cell_type": "markdown",
   "id": "fe863f1b-e4f4-476a-834f-22ce18be7457",
   "metadata": {},
   "source": [
    "<aside>\n",
    "💡 **Q5.** You are given two integer arrays nums1 and nums2, sorted in non-decreasing order, and two integers m and n, representing the number of elements in nums1 and nums2 respectively.\n",
    "\n",
    "Merge nums1 and nums2 into a single array sorted in non-decreasing order.\n",
    "\n",
    "The final sorted array should not be returned by the function, but instead be stored inside the array nums1. To accommodate this, nums1 has a length of m + n, where the first m elements denote the elements that should be merged, and the last n elements are set to 0 and should be ignored. nums2 has a length of n.\n",
    "\n",
    "**Example 1:**\n",
    "Input: nums1 = [1,2,3,0,0,0], m = 3, nums2 = [2,5,6], n = 3\n",
    "Output: [1,2,2,3,5,6]\n",
    "\n",
    "**Explanation:** The arrays we are merging are [1,2,3] and [2,5,6].\n",
    "The result of the merge is [1,2,2,3,5,6] with the underlined elements coming from nums1.\n",
    "\n",
    "</aside>"
   ]
  },
  {
   "cell_type": "code",
   "execution_count": 10,
   "id": "7d89ec4a-9866-4095-9a86-da12c4cd273e",
   "metadata": {},
   "outputs": [
    {
     "name": "stdout",
     "output_type": "stream",
     "text": [
      "[1, 2, 2, 3, 5, 6]\n"
     ]
    }
   ],
   "source": [
    "#ANS:\n",
    "def merge(nums1, m, nums2, n):\n",
    "    p1 = m - 1\n",
    "    p2 = n - 1\n",
    "    p = m + n - 1\n",
    "\n",
    "    while p1 >= 0 and p2 >= 0:\n",
    "        if nums1[p1] >= nums2[p2]:\n",
    "            nums1[p] = nums1[p1]\n",
    "            p1 -= 1\n",
    "        else:\n",
    "            nums1[p] = nums2[p2]\n",
    "            p2 -= 1\n",
    "        p -= 1\n",
    "\n",
    "    while p2 >= 0:\n",
    "        nums1[p] = nums2[p2]\n",
    "        p2 -= 1\n",
    "        p -= 1\n",
    "\n",
    "# Example:\n",
    "nums1 = [1, 2, 3, 0, 0, 0]\n",
    "m = 3\n",
    "nums2 = [2, 5, 6]\n",
    "n = 3\n",
    "\n",
    "merge(nums1, m, nums2, n)\n",
    "print(nums1) \n"
   ]
  },
  {
   "cell_type": "markdown",
   "id": "7276b02d-e84c-4dfe-8894-7a0126e77bad",
   "metadata": {},
   "source": [
    "# Q6"
   ]
  },
  {
   "cell_type": "markdown",
   "id": "8bd50f8f-88b5-4cd4-8249-42fbb169efee",
   "metadata": {},
   "source": [
    "<aside>\n",
    "💡 **Q6.** Given an integer array nums, return true if any value appears at least twice in the array, and return false if every element is distinct.\n",
    "\n",
    "**Example 1:**\n",
    "Input: nums = [1,2,3,1]\n",
    "\n",
    "Output: true\n",
    "\n",
    "</aside>"
   ]
  },
  {
   "cell_type": "code",
   "execution_count": 14,
   "id": "2a9dbdc3-aae8-4df5-92ea-d0d3baa39ef6",
   "metadata": {},
   "outputs": [
    {
     "name": "stdin",
     "output_type": "stream",
     "text": [
      "Enter the list:  1 2 3 1\n"
     ]
    },
    {
     "name": "stdout",
     "output_type": "stream",
     "text": [
      "True\n"
     ]
    }
   ],
   "source": [
    "def Duplicate(nums):\n",
    "    # Create an empty hash set\n",
    "    num_set = set()\n",
    "\n",
    "    # Iterate through the array\n",
    "    for num in nums:\n",
    "        # If the current element is already in the set, it's a duplicate\n",
    "        if num in num_set:\n",
    "            return True\n",
    "        # Add the current element to the set\n",
    "        num_set.add(num)\n",
    "\n",
    "    # No duplicates found\n",
    "    return False\n",
    "\n",
    "# Test the function\n",
    "nums = list(map(int,input(\"Enter the list: \").strip().split()))\n",
    "print(Duplicate(nums))"
   ]
  },
  {
   "cell_type": "markdown",
   "id": "236f5734-5137-4751-990b-ec3b721a1d9e",
   "metadata": {},
   "source": [
    "# Q7"
   ]
  },
  {
   "cell_type": "markdown",
   "id": "522387e7-4c25-4fb5-8baf-ca08716746a9",
   "metadata": {},
   "source": [
    "<aside>\n",
    "💡 **Q7.** Given an integer array nums, move all 0's to the end of it while maintaining the relative order of the nonzero elements.\n",
    "\n",
    "Note that you must do this in-place without making a copy of the array.\n",
    "\n",
    "**Example 1:**\n",
    "Input: nums = [0,1,0,3,12]\n",
    "Output: [1,3,12,0,0]\n",
    "\n",
    "</aside>"
   ]
  },
  {
   "cell_type": "code",
   "execution_count": 70,
   "id": "68f49141-c9fc-4c7d-9b93-fa2c796bdb7a",
   "metadata": {},
   "outputs": [
    {
     "name": "stdin",
     "output_type": "stream",
     "text": [
      "Enter the array:  0 1 0 3 1 2\n"
     ]
    },
    {
     "name": "stdout",
     "output_type": "stream",
     "text": [
      "Resultant array:[1, 3, 1, 2, 0, 0].\n"
     ]
    }
   ],
   "source": [
    "arr3=list(map(int,input(\"Enter the array: \").strip().split()))\n",
    "l=len(arr3)\n",
    "for i in range(l):\n",
    "    if arr3[i]==0:\n",
    "        for j in range(i,l-1):\n",
    "            arr3[j]=arr3[j+1]\n",
    "        arr3[l-1]=0\n",
    "print(f\"Resultant array:{arr3}.\")"
   ]
  },
  {
   "cell_type": "markdown",
   "id": "56de3db9-f2fd-4eaf-a445-403cf619f095",
   "metadata": {},
   "source": [
    "# Q8"
   ]
  },
  {
   "cell_type": "markdown",
   "id": "78387eb9-acc2-40a2-b72b-488fc3dd2aec",
   "metadata": {},
   "source": [
    "<aside>\n",
    "💡 **Q8.** You have a set of integers s, which originally contains all the numbers from 1 to n. Unfortunately, due to some error, one of the numbers in s got duplicated to another number in the set, which results in repetition of one number and loss of another number.\n",
    "\n",
    "You are given an integer array nums representing the data status of this set after the error.\n",
    "\n",
    "Find the number that occurs twice and the number that is missing and return them in the form of an array.\n",
    "\n",
    "**Example 1:**\n",
    "Input: nums = [1,2,2,4]\n",
    "Output: [2,3]\n",
    "\n",
    "</aside>\n"
   ]
  },
  {
   "cell_type": "code",
   "execution_count": 3,
   "id": "da106197-784e-4da6-8e71-19aaf4a17339",
   "metadata": {},
   "outputs": [
    {
     "name": "stdin",
     "output_type": "stream",
     "text": [
      "Enter the array elements:  1 2 2 4\n"
     ]
    },
    {
     "name": "stdout",
     "output_type": "stream",
     "text": [
      "[2, 3]\n"
     ]
    }
   ],
   "source": [
    "arre=list(map(int,input(\"Enter the array elements: \").strip().split()))\n",
    "n=len(arre)\n",
    "s_um=(n*(n+1))//2\n",
    "# to find duplicate\n",
    "dup=sum(arre)-sum(set(arre))\n",
    "missing=s_um-sum(set(arre))\n",
    "print([dup,missing])\n"
   ]
  },
  {
   "cell_type": "code",
   "execution_count": null,
   "id": "7909fc86-ef68-4698-8184-3675a87652b2",
   "metadata": {},
   "outputs": [],
   "source": []
  }
 ],
 "metadata": {
  "kernelspec": {
   "display_name": "Python 3 (ipykernel)",
   "language": "python",
   "name": "python3"
  },
  "language_info": {
   "codemirror_mode": {
    "name": "ipython",
    "version": 3
   },
   "file_extension": ".py",
   "mimetype": "text/x-python",
   "name": "python",
   "nbconvert_exporter": "python",
   "pygments_lexer": "ipython3",
   "version": "3.10.6"
  }
 },
 "nbformat": 4,
 "nbformat_minor": 5
}
