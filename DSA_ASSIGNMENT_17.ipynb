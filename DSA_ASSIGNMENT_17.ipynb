{
 "cells": [
  {
   "cell_type": "markdown",
   "id": "b20fe6c2",
   "metadata": {},
   "source": [
    "###  **Question 1**\n",
    "\n",
    "Given a string `s`, *find the first non-repeating character in it and return its index*. If it does not exist, return `-1`."
   ]
  },
  {
   "cell_type": "code",
   "execution_count": 1,
   "id": "762c4027",
   "metadata": {},
   "outputs": [],
   "source": [
    "def firstNonRepeatingChar(s):\n",
    "    charFreq = {}\n",
    "\n",
    "    for char in s:\n",
    "        charFreq[char] = charFreq.get(char, 0) + 1\n",
    "\n",
    "    for i in range(len(s)):\n",
    "        if charFreq[s[i]] == 1:\n",
    "            return i\n",
    "\n",
    "    return -1"
   ]
  },
  {
   "cell_type": "code",
   "execution_count": 2,
   "id": "84a33c51",
   "metadata": {},
   "outputs": [
    {
     "data": {
      "text/plain": [
       "0"
      ]
     },
     "execution_count": 2,
     "metadata": {},
     "output_type": "execute_result"
    }
   ],
   "source": [
    "firstNonRepeatingChar(\"leetcode\")"
   ]
  },
  {
   "cell_type": "markdown",
   "id": "05847ef1",
   "metadata": {},
   "source": [
    "###  **Question 2**\n",
    "\n",
    "Given a **circular integer array** `nums` of length `n`, return *the maximum possible sum of a non-empty **subarray** of* `nums`.\n",
    "\n",
    "A **circular array** means the end of the array connects to the beginning of the array. Formally, the next element of `nums[i]` is `nums[(i + 1) % n]` and the previous element of `nums[i]` is `nums[(i - 1 + n) % n]`.\n",
    "\n",
    "A **subarray** may only include each element of the fixed buffer `nums` at most once. Formally, for a subarray `nums[i], nums[i + 1], ..., nums[j]`, there does not exist `i <= k1`, `k2 <= j` with `k1 % n == k2 % n`."
   ]
  },
  {
   "cell_type": "code",
   "execution_count": 3,
   "id": "5fd45861",
   "metadata": {},
   "outputs": [],
   "source": [
    "def maxSubarraySumCircular(nums):\n",
    "    n = len(nums)\n",
    "\n",
    "    def kadane(arr):\n",
    "        maxSoFar = float('-inf')\n",
    "        currentSum = 0\n",
    "\n",
    "        for num in arr:\n",
    "            currentSum += num\n",
    "            maxSoFar = max(maxSoFar, currentSum)\n",
    "            if currentSum < 0:\n",
    "                currentSum = 0\n",
    "\n",
    "        return maxSoFar\n",
    "\n",
    "    maxSubarraySum = kadane(nums)\n",
    "\n",
    "    minSubarraySum = -kadane([-num for num in nums])\n",
    "\n",
    "    totalSum = sum(nums)\n",
    "\n",
    "    maxCircularSubarraySum = totalSum - minSubarraySum\n",
    "\n",
    "    return max(maxSubarraySum, maxCircularSubarraySum)"
   ]
  },
  {
   "cell_type": "code",
   "execution_count": 4,
   "id": "96b89ef0",
   "metadata": {},
   "outputs": [
    {
     "data": {
      "text/plain": [
       "3"
      ]
     },
     "execution_count": 4,
     "metadata": {},
     "output_type": "execute_result"
    }
   ],
   "source": [
    "maxSubarraySumCircular([1,-2,3,-2])"
   ]
  },
  {
   "cell_type": "markdown",
   "id": "67fb2dcb",
   "metadata": {},
   "source": [
    "### **Question 3**\n",
    "\n",
    "The school cafeteria offers circular and square sandwiches at lunch break, referred to by numbers `0` and `1` respectively. All students stand in a queue. Each student either prefers square or circular sandwiches.\n",
    "\n",
    "The number of sandwiches in the cafeteria is equal to the number of students. The sandwiches are placed in a **stack**. At each step:\n",
    "\n",
    "- If the student at the front of the queue **prefers** the sandwich on the top of the stack, they will **take it** and leave the queue.\n",
    "- Otherwise, they will **leave it** and go to the queue's end.\n",
    "\n",
    "This continues until none of the queue students want to take the top sandwich and are thus unable to eat.\n",
    "\n",
    "You are given two integer arrays `students` and `sandwiches` where `sandwiches[i]` is the type of the `ith` sandwich in the stack (`i = 0` is the top of the stack) and `students[j]` is the preference of the `jth` student in the initial queue (`j = 0` is the front of the queue). Return *the number of students that are unable to eat.*"
   ]
  },
  {
   "cell_type": "code",
   "execution_count": 5,
   "id": "99335a94",
   "metadata": {},
   "outputs": [],
   "source": [
    "from collections import deque\n",
    "\n",
    "def countStudents(students, sandwiches):\n",
    "    studentQueue = deque(students)\n",
    "    sandwichStack = deque(sandwiches)\n",
    "\n",
    "    while studentQueue and sandwichStack:\n",
    "        if studentQueue[0] == sandwichStack[-1]:\n",
    "            studentQueue.popleft()\n",
    "            sandwichStack.pop()\n",
    "        else:\n",
    "            studentQueue.append(studentQueue.popleft())\n",
    "\n",
    "    return len(studentQueue)"
   ]
  },
  {
   "cell_type": "code",
   "execution_count": 6,
   "id": "fd20c6ca",
   "metadata": {},
   "outputs": [
    {
     "name": "stdout",
     "output_type": "stream",
     "text": [
      "0\n"
     ]
    }
   ],
   "source": [
    "students = [1, 1, 0, 0]\n",
    "sandwiches = [0, 1, 0, 1]\n",
    "\n",
    "result = countStudents(students, sandwiches)\n",
    "print(result) "
   ]
  },
  {
   "cell_type": "markdown",
   "id": "3ab5adf2",
   "metadata": {},
   "source": [
    "###  **Question 4**\n",
    "\n",
    "You have a `RecentCounter` class which counts the number of recent requests within a certain time frame.\n",
    "\n",
    "Implement the `RecentCounter` class:\n",
    "\n",
    "- `RecentCounter()` Initializes the counter with zero recent requests.\n",
    "- `int ping(int t)` Adds a new request at time `t`, where `t` represents some time in milliseconds, and returns the number of requests that has happened in the past `3000` milliseconds (including the new request). Specifically, return the number of requests that have happened in the inclusive range `[t - 3000, t]`.\n",
    "\n",
    "It is **guaranteed** that every call to `ping` uses a strictly larger value of `t` than the previous call."
   ]
  },
  {
   "cell_type": "code",
   "execution_count": 7,
   "id": "bb46a25e",
   "metadata": {},
   "outputs": [],
   "source": [
    "from collections import deque\n",
    "\n",
    "class RecentCounter:\n",
    "    def __init__(self):\n",
    "        self.requests = deque()\n",
    "\n",
    "    def ping(self, t: int) -> int:\n",
    "\n",
    "        while self.requests and self.requests[0] < t - 3000:\n",
    "            self.requests.popleft()\n",
    "\n",
    "        self.requests.append(t)\n",
    "\n",
    "        return len(self.requests)"
   ]
  },
  {
   "cell_type": "code",
   "execution_count": 8,
   "id": "e42bd1b2",
   "metadata": {},
   "outputs": [
    {
     "name": "stdout",
     "output_type": "stream",
     "text": [
      "1\n",
      "2\n",
      "3\n",
      "4\n",
      "2\n"
     ]
    }
   ],
   "source": [
    "rc = RecentCounter()\n",
    "\n",
    "print(rc.ping(100)) \n",
    "print(rc.ping(300))  \n",
    "print(rc.ping(600))  \n",
    "print(rc.ping(2000))  \n",
    "print(rc.ping(4000))"
   ]
  },
  {
   "cell_type": "markdown",
   "id": "71521310",
   "metadata": {},
   "source": [
    "###  **Question 5**\n",
    "\n",
    "There are `n` friends that are playing a game. The friends are sitting in a circle and are numbered from `1` to `n` in **clockwise order**. More formally, moving clockwise from the `ith` friend brings you to the `(i+1)th` friend for `1 <= i < n`, and moving clockwise from the `nth` friend brings you to the `1st` friend.\n",
    "\n",
    "The rules of the game are as follows:\n",
    "\n",
    "1. **Start** at the `1st` friend.\n",
    "2. Count the next `k` friends in the clockwise direction **including** the friend you started at. The counting wraps around the circle and may count some friends more than once.\n",
    "3. The last friend you counted leaves the circle and loses the game.\n",
    "4. If there is still more than one friend in the circle, go back to step `2` **starting** from the friend **immediately clockwise** of the friend who just lost and repeat.\n",
    "5. Else, the last friend in the circle wins the game.\n",
    "\n",
    "Given the number of friends, `n`, and an integer `k`, return *the winner of the game*."
   ]
  },
  {
   "cell_type": "code",
   "execution_count": 9,
   "id": "3ee67198",
   "metadata": {},
   "outputs": [],
   "source": [
    "class ListNode:\n",
    "    def __init__(self, val=0, next=None):\n",
    "        self.val = val\n",
    "        self.next = next\n",
    "\n",
    "def findTheWinner(n: int, k: int):\n",
    "    head = ListNode(1)\n",
    "    prev = head\n",
    "    for i in range(2, n+1):\n",
    "        new_node = ListNode(i)\n",
    "        prev.next = new_node\n",
    "        prev = new_node\n",
    "    prev.next = head \n",
    "\n",
    "    curr = head\n",
    "    while curr.next != curr:\n",
    "\n",
    "        for _ in range(k - 1):\n",
    "            curr = curr.next\n",
    "        curr.next = curr.next.next\n",
    "        curr = curr.next\n",
    "\n",
    "    return curr.val"
   ]
  },
  {
   "cell_type": "code",
   "execution_count": 13,
   "id": "3b6b0b1a",
   "metadata": {},
   "outputs": [
    {
     "data": {
      "text/plain": [
       "4"
      ]
     },
     "execution_count": 13,
     "metadata": {},
     "output_type": "execute_result"
    }
   ],
   "source": [
    "findTheWinner(5, 2)"
   ]
  },
  {
   "cell_type": "markdown",
   "id": "000fb4ec",
   "metadata": {},
   "source": [
    "###  **Question 6**\n",
    "\n",
    "You are given an integer array `deck`. There is a deck of cards where every card has a unique integer. The integer on the `ith` card is `deck[i]`.\n",
    "\n",
    "You can order the deck in any order you want. Initially, all the cards start face down (unrevealed) in one deck.\n",
    "\n",
    "You will do the following steps repeatedly until all cards are revealed:\n",
    "\n",
    "1. Take the top card of the deck, reveal it, and take it out of the deck.\n",
    "2. If there are still cards in the deck then put the next top card of the deck at the bottom of the deck.\n",
    "3. If there are still unrevealed cards, go back to step 1. Otherwise, stop.\n",
    "\n",
    "Return *an ordering of the deck that would reveal the cards in increasing order*.\n",
    "\n",
    "**Note** that the first entry in the answer is considered to be the top of the deck.\n"
   ]
  },
  {
   "cell_type": "code",
   "execution_count": 15,
   "id": "c6527307",
   "metadata": {},
   "outputs": [],
   "source": [
    "def deckRevealedIncreasing(deck):\n",
    "    deck.sort()\n",
    "\n",
    "    queue = deque()\n",
    "\n",
    "    for i in range(len(deck) - 1, -1, -1):\n",
    "        if queue:\n",
    "            last_card = queue.pop()\n",
    "            queue.appendleft(last_card)\n",
    "        queue.appendleft(deck[i])\n",
    "\n",
    "    return list(queue)"
   ]
  },
  {
   "cell_type": "code",
   "execution_count": 16,
   "id": "a6a91615",
   "metadata": {},
   "outputs": [
    {
     "data": {
      "text/plain": [
       "[2, 13, 3, 11, 5, 17, 7]"
      ]
     },
     "execution_count": 16,
     "metadata": {},
     "output_type": "execute_result"
    }
   ],
   "source": [
    "deckRevealedIncreasing([17,13,11,2,3,5,7])"
   ]
  },
  {
   "cell_type": "markdown",
   "id": "65515cdb",
   "metadata": {},
   "source": [
    "### **Question 7**\n",
    "\n",
    "Design a queue that supports `push` and `pop` operations in the front, middle, and back.\n",
    "\n",
    "Implement the `FrontMiddleBack` class:\n",
    "\n",
    "- `FrontMiddleBack()` Initializes the queue.\n",
    "- `void pushFront(int val)` Adds `val` to the **front** of the queue.\n",
    "- `void pushMiddle(int val)` Adds `val` to the **middle** of the queue.\n",
    "- `void pushBack(int val)` Adds `val` to the **back** of the queue.\n",
    "- `int popFront()` Removes the **front** element of the queue and returns it. If the queue is empty, return `1`.\n",
    "- `int popMiddle()` Removes the **middle** element of the queue and returns it. If the queue is empty, return `1`.\n",
    "- `int popBack()` Removes the **back** element of the queue and returns it. If the queue is empty, return `1`.\n",
    "\n",
    "**Notice** that when there are **two** middle position choices, the operation is performed on the **frontmost** middle position choice. For example:\n",
    "\n",
    "- Pushing `6` into the middle of `[1, 2, 3, 4, 5]` results in `[1, 2, 6, 3, 4, 5]`.\n",
    "- Popping the middle from `[1, 2, 3, 4, 5, 6]` returns `3` and results in `[1, 2, 4, 5, 6]`."
   ]
  },
  {
   "cell_type": "code",
   "execution_count": 17,
   "id": "b4db39ed",
   "metadata": {},
   "outputs": [],
   "source": [
    "class FrontMiddleBack:\n",
    "    def __init__(self):\n",
    "        self.left = deque()\n",
    "        self.right = deque()\n",
    "\n",
    "    def pushFront(self, val: int) -> None:\n",
    "        self.left.appendleft(val)\n",
    "\n",
    "    def pushMiddle(self, val: int) -> None:\n",
    "        if len(self.left) >= len(self.right):\n",
    "            self.left.append(val)\n",
    "        else:\n",
    "            self.right.appendleft(self.left.pop())\n",
    "            self.left.append(val)\n",
    "\n",
    "    def pushBack(self, val: int) -> None:\n",
    "        self.right.append(val)\n",
    "\n",
    "    def popFront(self) -> int:\n",
    "        if not self.left and not self.right:\n",
    "            return 1\n",
    "\n",
    "        if self.left:\n",
    "            return self.left.popleft()\n",
    "\n",
    "        while len(self.right) > 1:\n",
    "            self.left.append(self.right.popleft())\n",
    "\n",
    "        return self.right.popleft()\n",
    "\n",
    "    def popMiddle(self) -> int:\n",
    "        if not self.left and not self.right:\n",
    "            return 1\n",
    "\n",
    "        if len(self.left) == len(self.right):\n",
    "            return self.left.pop()\n",
    "\n",
    "        return self.right.popleft()\n",
    "\n",
    "    def popBack(self) -> int:\n",
    "        if not self.left and not self.right:\n",
    "            return 1\n",
    "\n",
    "        if self.right:\n",
    "            return self.right.pop()\n",
    "\n",
    "        while len(self.left) > 1:\n",
    "            self.right.appendleft(self.left.pop())\n",
    "\n",
    "        return self.left.pop()\n"
   ]
  },
  {
   "cell_type": "markdown",
   "id": "119faffe",
   "metadata": {},
   "source": [
    "### **Question 8**\n",
    "\n",
    "For a stream of integers, implement a data structure that checks if the last `k` integers parsed in the stream are **equal** to `value`.\n",
    "\n",
    "Implement the **DataStream** class:\n",
    "\n",
    "- `DataStream(int value, int k)` Initializes the object with an empty integer stream and the two integers `value` and `k`.\n",
    "- `boolean consec(int num)` Adds `num` to the stream of integers. Returns `true` if the last `k` integers are equal to `value`, and `false` otherwise. If there are less than `k` integers, the condition does not hold true, so returns `false`."
   ]
  },
  {
   "cell_type": "code",
   "execution_count": 18,
   "id": "09416c89",
   "metadata": {},
   "outputs": [],
   "source": [
    "class DataStream:\n",
    "    def __init__(self, value: int, k: int):\n",
    "        self.value = value\n",
    "        self.k = k\n",
    "        self.circular_buffer = [-1] * (k + 1)\n",
    "        self.idx = 0\n",
    "\n",
    "    def consec(self, num: int):\n",
    "        self.circular_buffer[self.idx] = num\n",
    "        self.idx = (self.idx + 1) % (self.k + 1)\n",
    "\n",
    "        if -1 in self.circular_buffer:\n",
    "            return False\n",
    "\n",
    "        return all(val == self.value for val in self.circular_buffer)"
   ]
  },
  {
   "cell_type": "code",
   "execution_count": 21,
   "id": "3d289466",
   "metadata": {},
   "outputs": [],
   "source": [
    "ds = DataStream(5, 3)"
   ]
  },
  {
   "cell_type": "code",
   "execution_count": 22,
   "id": "2bf57699",
   "metadata": {},
   "outputs": [
    {
     "name": "stdout",
     "output_type": "stream",
     "text": [
      "False\n",
      "False\n",
      "False\n",
      "False\n"
     ]
    }
   ],
   "source": [
    "print(ds.consec(1)) \n",
    "print(ds.consec(5))  \n",
    "print(ds.consec(3))  \n",
    "print(ds.consec(5))"
   ]
  }
 ],
 "metadata": {
  "kernelspec": {
   "display_name": "Python 3 (ipykernel)",
   "language": "python",
   "name": "python3"
  },
  "language_info": {
   "codemirror_mode": {
    "name": "ipython",
    "version": 3
   },
   "file_extension": ".py",
   "mimetype": "text/x-python",
   "name": "python",
   "nbconvert_exporter": "python",
   "pygments_lexer": "ipython3",
   "version": "3.11.4"
  }
 },
 "nbformat": 4,
 "nbformat_minor": 5
}
