{
 "cells": [
  {
   "cell_type": "markdown",
   "id": "fdb32e6a-3fdf-423c-86f1-a4141cf5dd76",
   "metadata": {},
   "source": [
    "#### 1. Write a Python program to reverse a string without using any built-in string reversal functions."
   ]
  },
  {
   "cell_type": "code",
   "execution_count": 26,
   "id": "bdef99b4-ccf7-40d5-bc54-fcfe4c688fe2",
   "metadata": {},
   "outputs": [
    {
     "name": "stdout",
     "output_type": "stream",
     "text": [
      "ismav\n"
     ]
    }
   ],
   "source": [
    "s='vamsi'\n",
    "rev=s[::-1]\n",
    "print(rev)"
   ]
  },
  {
   "cell_type": "markdown",
   "id": "732afa7b-c85b-437b-b0a2-b51cd1b32594",
   "metadata": {},
   "source": [
    "#### 2.Implement a function to check if a given string is a palindrome."
   ]
  },
  {
   "cell_type": "code",
   "execution_count": 27,
   "id": "e9b8da7a-0e19-4daf-9b94-956ab6b6c413",
   "metadata": {},
   "outputs": [
    {
     "name": "stdout",
     "output_type": "stream",
     "text": [
      "palindrome\n"
     ]
    }
   ],
   "source": [
    "def pal(st):\n",
    "    rev=st[::-1]\n",
    "    if st==rev:\n",
    "        print('palindrome')\n",
    "    else:\n",
    "        print('not a palindrome')\n",
    "pal('mom')\n",
    "    "
   ]
  },
  {
   "cell_type": "markdown",
   "id": "a4eb3280-7e34-440c-a43e-68d22b2f568f",
   "metadata": {},
   "source": [
    "#### 3.Write a program to find the largest element in a given list."
   ]
  },
  {
   "cell_type": "code",
   "execution_count": 28,
   "id": "6eadd0b4-7fc6-4755-aafd-9ccad6e093d8",
   "metadata": {},
   "outputs": [
    {
     "name": "stdout",
     "output_type": "stream",
     "text": [
      "4\n"
     ]
    }
   ],
   "source": [
    "l=[1,2,3,4]\n",
    "lar=0\n",
    "for i in l:\n",
    "    if i >lar:\n",
    "        lar=i\n",
    "print(lar)"
   ]
  },
  {
   "cell_type": "markdown",
   "id": "15b21553-5132-4efb-9130-e2fb10cefc53",
   "metadata": {},
   "source": [
    "#### 4.Implement a function to count the occurrence of each element in a list."
   ]
  },
  {
   "cell_type": "code",
   "execution_count": 29,
   "id": "a4640abf-ba3d-421f-ba47-73fc7e72a21c",
   "metadata": {},
   "outputs": [
    {
     "name": "stdout",
     "output_type": "stream",
     "text": [
      "{'r': 3, 'a': 4, 'm': 3, ' ': 3, 's': 1, 'e': 2, 't': 1, 'h': 1}\n"
     ]
    }
   ],
   "source": [
    "def occu(ls):\n",
    "    freq={key : ls.count(key) for key in ls}\n",
    "    print(freq)\n",
    "occu('ram ram seetha ram')\n",
    "    "
   ]
  },
  {
   "cell_type": "markdown",
   "id": "13432937-1b98-4125-97e4-a6cafa7fc7a3",
   "metadata": {},
   "source": [
    "#### 5.Write a Python program to find the second largest number in a list."
   ]
  },
  {
   "cell_type": "code",
   "execution_count": 35,
   "id": "d72bd121-16ae-4cb6-a2d7-8c670f25c0c3",
   "metadata": {},
   "outputs": [
    {
     "name": "stdout",
     "output_type": "stream",
     "text": [
      "The second largest element in the list is 6.\n"
     ]
    }
   ],
   "source": [
    "def seclar(ls):\n",
    "    ls=set(ls)\n",
    "    ls=list(ls)\n",
    "    print(f\"The second largest element in the list is {ls[-2]}.\")\n",
    "ls=[1,2,6,5,7,4,7]\n",
    "seclar(ls)\n"
   ]
  },
  {
   "cell_type": "markdown",
   "id": "bb3cf2d0-a5bb-4bde-add4-a252fc573386",
   "metadata": {},
   "source": [
    "#### 6.Implement a function to remove duplicate elements from a list."
   ]
  },
  {
   "cell_type": "code",
   "execution_count": 38,
   "id": "5db8518e-51bf-4016-9921-fa80fdfa3b0b",
   "metadata": {},
   "outputs": [
    {
     "name": "stdout",
     "output_type": "stream",
     "text": [
      "The new list after removing the duplicate elements is [1, 2, 3, 4, 5, 6, 7].\n"
     ]
    }
   ],
   "source": [
    "def seclar(ls):\n",
    "    ls=set(ls)\n",
    "    ls=list(ls)\n",
    "    print(f\"The new list after removing the duplicate elements is {ls}.\")\n",
    "ls=[1,2,3,3,3,6,5,7,4,7]\n",
    "seclar(ls)"
   ]
  },
  {
   "cell_type": "markdown",
   "id": "afeb905c-fc9d-43fe-bf8a-e913c08ec6a7",
   "metadata": {},
   "source": [
    "#### 7.Write a program to calculate the factorial of a given number."
   ]
  },
  {
   "cell_type": "code",
   "execution_count": 1,
   "id": "26940e87-c58d-426f-906f-10980a8e9432",
   "metadata": {},
   "outputs": [
    {
     "data": {
      "text/plain": [
       "120"
      ]
     },
     "execution_count": 1,
     "metadata": {},
     "output_type": "execute_result"
    }
   ],
   "source": [
    "def fact(n):\n",
    "    if n==1:\n",
    "        return 1\n",
    "    else:\n",
    "        return n*fact(n-1)\n",
    "fact(5)"
   ]
  },
  {
   "cell_type": "markdown",
   "id": "fb337e1b-47c0-4b43-9f90-ff83edeb612d",
   "metadata": {},
   "source": [
    "#### 8.Implement a function to check if a given number is prime."
   ]
  },
  {
   "cell_type": "code",
   "execution_count": 26,
   "id": "434ec7cd-0e7d-4ac4-8e64-60e633f11c85",
   "metadata": {},
   "outputs": [
    {
     "data": {
      "text/plain": [
       "'It is a prime number'"
      ]
     },
     "execution_count": 26,
     "metadata": {},
     "output_type": "execute_result"
    }
   ],
   "source": [
    "def isprime(n):\n",
    "    c=0\n",
    "    for i in range(2,n-1):\n",
    "        if n%i==0:\n",
    "            return('It is a not prime number')\n",
    "    return('It is a prime number')\n",
    "isprime(11)\n",
    "        "
   ]
  },
  {
   "cell_type": "markdown",
   "id": "22d8ca82-ac25-4767-89ad-c6cc92013f5c",
   "metadata": {},
   "source": [
    "#### 9.Write a Python program to sort a list of integers in ascending order."
   ]
  },
  {
   "cell_type": "code",
   "execution_count": 2,
   "id": "59731f3f-f2e8-4598-afa3-c01e1cef5a7d",
   "metadata": {},
   "outputs": [
    {
     "name": "stdout",
     "output_type": "stream",
     "text": [
      "[2, 3, 6, 6, 7, 34, 45]\n"
     ]
    }
   ],
   "source": [
    "l=[2,45,3,6,34,6,7]\n",
    "l.sort()\n",
    "print(l)"
   ]
  },
  {
   "cell_type": "markdown",
   "id": "d4630e8d-3af9-473a-b1c3-3bde09fbabfc",
   "metadata": {},
   "source": [
    "#### 10.sum of all numbers in a list."
   ]
  },
  {
   "cell_type": "code",
   "execution_count": 3,
   "id": "c38866ac-f304-40ce-b381-11763fe2a1ff",
   "metadata": {},
   "outputs": [
    {
     "name": "stdout",
     "output_type": "stream",
     "text": [
      "75\n"
     ]
    }
   ],
   "source": [
    "l=[1,3,4,56,7,4]\n",
    "s_um=0\n",
    "for i in l:\n",
    "    s_um+=i\n",
    "print(s_um)"
   ]
  },
  {
   "cell_type": "markdown",
   "id": "d84a67b3-515b-4745-89af-b690d52bfe90",
   "metadata": {},
   "source": [
    "#### 11.Write a program to find the common elements between two lists."
   ]
  },
  {
   "cell_type": "code",
   "execution_count": 10,
   "id": "ce1a1df2-209b-4369-b4d4-533536befdd9",
   "metadata": {},
   "outputs": [
    {
     "name": "stdout",
     "output_type": "stream",
     "text": [
      "The common elements in the array are: \n",
      "4 6 5 "
     ]
    }
   ],
   "source": [
    "a1=[1,2,4,74,5,6]\n",
    "a2=[4,6,23,5]\n",
    "print(\"The common elements in the array are: \")\n",
    "for i in a2:\n",
    "    if i in a1:\n",
    "        print(i,end=\" \")"
   ]
  },
  {
   "cell_type": "markdown",
   "id": "c0b572d7-e0cd-40a2-893c-5a780698367c",
   "metadata": {},
   "source": [
    "#### 12.Implement a function to check if a given string is an anagram of another string."
   ]
  },
  {
   "cell_type": "code",
   "execution_count": 29,
   "id": "10bf8afb-0210-4170-bd0f-0c8715fb5555",
   "metadata": {},
   "outputs": [
    {
     "data": {
      "text/plain": [
       "'it is a anagram'"
      ]
     },
     "execution_count": 29,
     "metadata": {},
     "output_type": "execute_result"
    }
   ],
   "source": [
    "def anagram(s1,s2):\n",
    "    freq1={key:s1.count(key) for key in s1}\n",
    "    freq2={key:s2.count(key) for key in s2}\n",
    "    if len(freq1)==len(freq2):\n",
    "        for key in freq1:\n",
    "            if freq1[key]!=freq2[key]:\n",
    "                return 'not a anagram'\n",
    "            return 'it is a anagram'\n",
    "    else:\n",
    "        return 'not a anagram'\n",
    "s1='little'\n",
    "s2='elittl'\n",
    "anagram(s1,s2)\n",
    "                \n",
    "    "
   ]
  },
  {
   "cell_type": "markdown",
   "id": "f30e705c-7b04-48db-b8ef-31b03f88d7be",
   "metadata": {},
   "source": [
    "#### 13.Write a Python program to generate all permutations of a given string."
   ]
  },
  {
   "cell_type": "code",
   "execution_count": null,
   "id": "78076a0d-387b-4c6f-9ef5-af2df5728221",
   "metadata": {},
   "outputs": [],
   "source": []
  },
  {
   "cell_type": "markdown",
   "id": "1634d761-3eba-4dc3-aa95-857925f4f7c2",
   "metadata": {},
   "source": [
    "#### 14.Implement a function to calculate the Fibonacci sequence up to a given number of terms."
   ]
  },
  {
   "cell_type": "code",
   "execution_count": 11,
   "id": "f9253dec-8a09-411f-abac-8ec5838d8670",
   "metadata": {},
   "outputs": [
    {
     "data": {
      "text/plain": [
       "55"
      ]
     },
     "execution_count": 11,
     "metadata": {},
     "output_type": "execute_result"
    }
   ],
   "source": [
    "def fib(n):\n",
    "    if n<=1:\n",
    "        return n\n",
    "    else:\n",
    "        return fib(n-1)+fib(n-2)\n",
    "fib(10)"
   ]
  },
  {
   "cell_type": "markdown",
   "id": "ffb7173f-3b1c-4ac5-aa06-aee5b21de39f",
   "metadata": {},
   "source": [
    "#### 15.Write a program to find the median of a list of numbers."
   ]
  },
  {
   "cell_type": "code",
   "execution_count": 5,
   "id": "83d96790-8bd1-4799-9d3c-048428ca109d",
   "metadata": {},
   "outputs": [
    {
     "name": "stdout",
     "output_type": "stream",
     "text": [
      "6\n"
     ]
    }
   ],
   "source": [
    "l=[1,2,5,7,8,9]\n",
    "def med(l):\n",
    "    n=len(l)\n",
    "    n=n//2\n",
    "    return((l[n]+l[~n])//2)\n",
    "print(med(l))"
   ]
  },
  {
   "cell_type": "markdown",
   "id": "7d32b8ab-4dca-415a-ad73-fbdff307e004",
   "metadata": {},
   "source": [
    "#### 16.Implement a function to check if a given list is sorted in non-decreasing order."
   ]
  },
  {
   "cell_type": "code",
   "execution_count": 11,
   "id": "6bd15ae9-d0d1-45a9-b169-3b4355c111c7",
   "metadata": {},
   "outputs": [
    {
     "name": "stdout",
     "output_type": "stream",
     "text": [
      "True\n"
     ]
    }
   ],
   "source": [
    "def check_sort(l):\n",
    "    first=l[0]\n",
    "    for i in range(1,len(l)):\n",
    "        if first<l[i]:\n",
    "            first=l[i]\n",
    "        else:\n",
    "            return False\n",
    "    return True\n",
    "l=[1,4,5,6,7,9]\n",
    "print(check_sort(l))      "
   ]
  },
  {
   "cell_type": "markdown",
   "id": "3d7b3796-4902-4add-850f-227af0c2c172",
   "metadata": {},
   "source": [
    "#### 17.Write a Python program to find the intersection of two lists."
   ]
  },
  {
   "cell_type": "code",
   "execution_count": 14,
   "id": "33db284e-a712-4fd9-8299-c81e22a4f009",
   "metadata": {},
   "outputs": [
    {
     "name": "stdout",
     "output_type": "stream",
     "text": [
      "[1, 2, 5]\n"
     ]
    }
   ],
   "source": [
    "l=[1,2,3,4,5]\n",
    "r=[1,2,466,7,5]\n",
    "result=[]\n",
    "for i in l:\n",
    "    if i in r:\n",
    "        result.append(i)\n",
    "print(result)"
   ]
  },
  {
   "cell_type": "markdown",
   "id": "70e2bfe1-9c6c-4b9f-a104-250d280326b4",
   "metadata": {},
   "source": [
    "#### 18.Implement a function to find the maximum subarray sum in a given list."
   ]
  },
  {
   "cell_type": "code",
   "execution_count": 22,
   "id": "e827c818-640b-424f-80d6-98cc0ac9e2aa",
   "metadata": {},
   "outputs": [
    {
     "name": "stdout",
     "output_type": "stream",
     "text": [
      "The maximum subarray of the [20, 3, 2, 1, -19] is : 26\n"
     ]
    }
   ],
   "source": [
    "l=[20,-19,1,2,3]\n",
    "def max_sub(l):\n",
    "    l.sort(reverse=True)\n",
    "    print(f\"The maximum subarray of the {l} is :\",end=\" \")\n",
    "    i=0\n",
    "    res=0\n",
    "    while(l[i]>=0):\n",
    "        res+=l[i]\n",
    "        i+=1\n",
    "    return res\n",
    "print(max_sub(l))\n",
    "\n"
   ]
  },
  {
   "cell_type": "markdown",
   "id": "0eed7ce2-cb6c-4214-ac60-2f3fd7c6f0cb",
   "metadata": {},
   "source": [
    "#### 19.Write a program to remove all vowels from a given string."
   ]
  },
  {
   "cell_type": "code",
   "execution_count": 26,
   "id": "4af7dbf2-9e75-464c-a155-c0c765ad4d0a",
   "metadata": {},
   "outputs": [
    {
     "name": "stdout",
     "output_type": "stream",
     "text": [
      "HI\n",
      "i\n",
      "vamsi\n",
      "krishna\n",
      "HI am vamsi krishna\n"
     ]
    }
   ],
   "source": [
    "s=\"HI i am vamsi krishna\"\n",
    "vowels=['a','e','i','o','u','A','i','E','O','U']\n",
    "a=s.split()\n",
    "for i in range(len(a)):\n",
    "    print(i)\n",
    "    if i in vowels:\n",
    "        a.remove(i)\n",
    "result=\" \".join(a)\n",
    "print(result)"
   ]
  },
  {
   "cell_type": "code",
   "execution_count": null,
   "id": "3fe15965-3f35-4109-a31a-fe24e4db1059",
   "metadata": {},
   "outputs": [],
   "source": []
  },
  {
   "cell_type": "markdown",
   "id": "05750680-48bd-4f1d-aa1d-d83a8bad10eb",
   "metadata": {},
   "source": [
    "#### 20.Implement a function to reverse the order of words in a given sentence."
   ]
  },
  {
   "cell_type": "code",
   "execution_count": 24,
   "id": "8e3697a3-6aad-40b9-be66-9befcc6ff64f",
   "metadata": {},
   "outputs": [
    {
     "name": "stdout",
     "output_type": "stream",
     "text": [
      "ih ar aamam\n"
     ]
    }
   ],
   "source": [
    "s='hi ra mamaa'\n",
    "a=s.split(\" \")\n",
    "r=[]\n",
    "for i in range(len(a)):\n",
    "    r.append(a[i][::-1])\n",
    "r=' '.join(r)\n",
    "print(r)"
   ]
  },
  {
   "cell_type": "markdown",
   "id": "10ca1e68-f5eb-48a1-91e7-e0526dc99a97",
   "metadata": {},
   "source": [
    "#### 21.Write a Python program to check if two strings are anagrams of each other."
   ]
  },
  {
   "cell_type": "code",
   "execution_count": 39,
   "id": "7ce08bfc-3423-4813-a4ab-525436c5137c",
   "metadata": {},
   "outputs": [
    {
     "name": "stdout",
     "output_type": "stream",
     "text": [
      "anagram\n"
     ]
    }
   ],
   "source": [
    "s1='amma'\n",
    "s2='mama'\n",
    "c=0\n",
    "if len(s1)==len(s2):\n",
    "    for i in s1:\n",
    "        if s1.count(i)==s2.count(i):\n",
    "            pass\n",
    "        else:\n",
    "            c=1\n",
    "else:\n",
    "    c=1\n",
    "    \n",
    "if c==0:\n",
    "    print('anagram')\n",
    "else:\n",
    "    print('not a anagram')"
   ]
  },
  {
   "cell_type": "markdown",
   "id": "59b674a0-fba9-47d3-9a81-12af2ee79598",
   "metadata": {},
   "source": [
    "#### 22.Implement a function to find the first non-repeating character in a string."
   ]
  },
  {
   "cell_type": "code",
   "execution_count": 47,
   "id": "806e308a-1db7-4907-b065-4e291c5b9beb",
   "metadata": {},
   "outputs": [
    {
     "name": "stdout",
     "output_type": "stream",
     "text": [
      "The first non repeating character in a string is 's'\n"
     ]
    }
   ],
   "source": [
    "s='ram seetha ram'\n",
    "c=0\n",
    "for i in s:\n",
    "    if s.count(i)==1:\n",
    "        print(f\"The first non repeating character in a string is '{i}'\")\n",
    "        break\n",
    "        "
   ]
  },
  {
   "cell_type": "markdown",
   "id": "24f5903f-0c86-434a-b1c8-0786275a5833",
   "metadata": {},
   "source": [
    "#### 23.Write a program to find the prime factors of a given number."
   ]
  },
  {
   "cell_type": "code",
   "execution_count": 51,
   "id": "1da13295-00bc-4d7e-80ad-da8c35c0a326",
   "metadata": {},
   "outputs": [
    {
     "name": "stdout",
     "output_type": "stream",
     "text": [
      "1\n",
      "2\n",
      "3\n"
     ]
    }
   ],
   "source": [
    "n=24\n",
    "def isprime(n):\n",
    "    count=0\n",
    "    for i in range(2,n):\n",
    "        if n%i==0:\n",
    "            count+=1\n",
    "    if count==0:\n",
    "         print(n)\n",
    "\n",
    "def prime_factor(n):\n",
    "    for i in range(1,n):\n",
    "        if n%i==0:\n",
    "            isprime(i)\n",
    "prime_factor(n)"
   ]
  },
  {
   "cell_type": "markdown",
   "id": "1a62aa2f-35c0-4d2a-b536-fde9459f327b",
   "metadata": {},
   "source": [
    "#### 24.Implement a function to check if a given number is a power of two."
   ]
  },
  {
   "cell_type": "code",
   "execution_count": 54,
   "id": "e001fa05-735f-4b06-a204-e944fa298f83",
   "metadata": {},
   "outputs": [
    {
     "data": {
      "text/plain": [
       "True"
      ]
     },
     "execution_count": 54,
     "metadata": {},
     "output_type": "execute_result"
    }
   ],
   "source": [
    "n=16\n",
    "def power_2(n):\n",
    "    if n==0:\n",
    "        return False\n",
    "    while(n!=1):\n",
    "        if n%2!=0:\n",
    "            return False\n",
    "        n=n//2\n",
    "    return True\n",
    "power_2(n)"
   ]
  },
  {
   "cell_type": "markdown",
   "id": "b768e019-0412-4b40-b0f5-12762ce499e8",
   "metadata": {},
   "source": [
    "#### 25.Write a Python program to merge two sorted lists into a single sorted list."
   ]
  },
  {
   "cell_type": "code",
   "execution_count": 54,
   "id": "d3529728-8751-4dfb-b30e-a033780f33eb",
   "metadata": {},
   "outputs": [
    {
     "name": "stdout",
     "output_type": "stream",
     "text": [
      "Array after merging\n",
      "1 2 3 4 5 6 7 8 "
     ]
    }
   ],
   "source": [
    "def mergeArrays(arr1, arr2, n1, n2):\n",
    "\tarr3 = [None] * (n1 + n2)\n",
    "\ti = 0\n",
    "\tj = 0\n",
    "\tk = 0\n",
    "\twhile i < n1 and j < n2:\n",
    "\t\tif arr1[i] < arr2[j]:\n",
    "\t\t\tarr3[k] = arr1[i]\n",
    "\t\t\tk = k + 1\n",
    "\t\t\ti = i + 1\n",
    "\t\telse:\n",
    "\t\t\tarr3[k] = arr2[j]\n",
    "\t\t\tk = k + 1\n",
    "\t\t\tj = j + 1\n",
    "\twhile i < n1:\n",
    "\t\tarr3[k] = arr1[i];\n",
    "\t\tk = k + 1\n",
    "\t\ti = i + 1\n",
    "\twhile j < n2:\n",
    "\t\tarr3[k] = arr2[j];\n",
    "\t\tk = k + 1\n",
    "\t\tj = j + 1\n",
    "\tprint(\"Array after merging\")\n",
    "\tfor i in range(n1 + n2):\n",
    "\t\tprint(str(arr3[i]), end = \" \")\n",
    "arr1 = [1, 3, 5, 7]\n",
    "n1 = len(arr1)\n",
    "\n",
    "arr2 = [2, 4, 6, 8]\n",
    "n2 = len(arr2)\n",
    "mergeArrays(arr1, arr2, n1, n2);\n"
   ]
  },
  {
   "cell_type": "markdown",
   "id": "82ad6df0-08e5-447f-95b3-749949da3380",
   "metadata": {},
   "source": [
    "#### 26.Implement a function to find the mode of a list of numbers."
   ]
  },
  {
   "cell_type": "code",
   "execution_count": 7,
   "id": "f36e22c4-6801-4146-943d-aa75a2eca89e",
   "metadata": {},
   "outputs": [
    {
     "name": "stdout",
     "output_type": "stream",
     "text": [
      "3\n"
     ]
    }
   ],
   "source": [
    "l=[1,3,5,2,5,3,3,1,4,5]\n",
    "def mod_e(l):\n",
    "    ma_x=0\n",
    "    for i in l:\n",
    "        if l.count(i)>ma_x:\n",
    "            ma_x=l.count(i)\n",
    "            mode=i\n",
    "    return mode\n",
    "print(mod_e(l))\n",
    "    "
   ]
  },
  {
   "cell_type": "markdown",
   "id": "cd898e39-34f7-4f41-a7c5-baa5f368fd8f",
   "metadata": {},
   "source": [
    "#### 27.Write a program to find the greatest common divisor (GCD) of two numbers."
   ]
  },
  {
   "cell_type": "code",
   "execution_count": null,
   "id": "4dd737b2-6dd7-4284-aac0-51ef6755c577",
   "metadata": {},
   "outputs": [],
   "source": []
  },
  {
   "cell_type": "markdown",
   "id": "5b674704-5793-40fa-baae-7ad036fe4adf",
   "metadata": {},
   "source": [
    "#### 28.Implement a function to calculate the square root of a given number."
   ]
  },
  {
   "cell_type": "code",
   "execution_count": 6,
   "id": "5b461b53-749b-4ff3-b019-19b22f1412ca",
   "metadata": {},
   "outputs": [
    {
     "name": "stdout",
     "output_type": "stream",
     "text": [
      "2.0\n"
     ]
    }
   ],
   "source": [
    "import math\n",
    "def square_root(n):\n",
    "    return(math.sqrt(n))\n",
    "print(square_root(4))"
   ]
  },
  {
   "cell_type": "markdown",
   "id": "642c24fa-59d2-4504-9fdb-314a376ff95d",
   "metadata": {},
   "source": [
    "#### 29.Write a Python program to check if a given string is a valid palindrome ignoring non-alphanumeric characters."
   ]
  },
  {
   "cell_type": "code",
   "execution_count": 13,
   "id": "50dbd45a-3c26-4842-b255-b95bc5c4ae5a",
   "metadata": {},
   "outputs": [
    {
     "data": {
      "text/plain": [
       "True"
      ]
     },
     "execution_count": 13,
     "metadata": {},
     "output_type": "execute_result"
    }
   ],
   "source": [
    "def palindrome(s):\n",
    "    if s==s[::-1]:\n",
    "        return True\n",
    "    else: \n",
    "        return False\n",
    "palindrome('vaav')"
   ]
  },
  {
   "cell_type": "markdown",
   "id": "ad68bd3f-ecc8-4f8c-b38e-760dada56831",
   "metadata": {},
   "source": [
    "#### 30. Implement a function to find the minimum element in a rotated sorted list."
   ]
  },
  {
   "cell_type": "code",
   "execution_count": 1,
   "id": "beebde54-dc05-4154-a203-a200f0f4443c",
   "metadata": {},
   "outputs": [
    {
     "name": "stdout",
     "output_type": "stream",
     "text": [
      "4\n"
     ]
    }
   ],
   "source": [
    "l=[4,5,1,2,3]\n",
    "#[1,2,3,4,5]\n",
    "#[2,3,4,5,1]\n",
    "def min(a):\n",
    "    for i in range(1,len(a)):\n",
    "        if a[i-1]<a[i]:\n",
    "            first=a[i-1]\n",
    "        if i==len(l)-1:\n",
    "            if a[i-1]>a[i]:\n",
    "                first=a[i]\n",
    "        return first\n",
    "    \n",
    "print(min(l))\n",
    "        \n"
   ]
  },
  {
   "cell_type": "markdown",
   "id": "2e656a91-22c6-4099-8940-37596bd8396a",
   "metadata": {},
   "source": [
    "# mundhu dhi cheyyalii"
   ]
  },
  {
   "cell_type": "markdown",
   "id": "138b8270-014b-496a-9a75-e2603f581ba2",
   "metadata": {},
   "source": [
    "#### 31.Write a program to find the sum of all even numbers in a list"
   ]
  },
  {
   "cell_type": "code",
   "execution_count": 4,
   "id": "15c5164a-ca87-4e4c-bcb3-71be597d92ac",
   "metadata": {},
   "outputs": [
    {
     "name": "stdout",
     "output_type": "stream",
     "text": [
      "The sum of even numbers is 18\n"
     ]
    }
   ],
   "source": [
    "l=[1,2,3,5,2,4,10]\n",
    "sum=0\n",
    "for i in l:\n",
    "    if i%2==0:\n",
    "        sum+=i\n",
    "print(f\"The sum of even numbers is {sum}\")"
   ]
  },
  {
   "cell_type": "markdown",
   "id": "1914de70-3f10-4170-89af-132722e13ffa",
   "metadata": {},
   "source": [
    "#### 32.Implement a function to calculate the power of a number using recursion."
   ]
  },
  {
   "cell_type": "code",
   "execution_count": 8,
   "id": "c339c68c-712a-4e7d-b26e-88d58b759336",
   "metadata": {},
   "outputs": [
    {
     "data": {
      "text/plain": [
       "125"
      ]
     },
     "execution_count": 8,
     "metadata": {},
     "output_type": "execute_result"
    }
   ],
   "source": [
    "def pow(n,r):\n",
    "    if r==0:\n",
    "        return 1\n",
    "    else:\n",
    "        return n*pow(n,r-1)\n",
    "pow(5,3)"
   ]
  },
  {
   "cell_type": "markdown",
   "id": "fb0da7c6-3441-4112-be2c-7ab77d744f7b",
   "metadata": {},
   "source": [
    "#### 34.Implement a function to find the longest common prefix among a list of strings."
   ]
  },
  {
   "cell_type": "code",
   "execution_count": 14,
   "id": "3dd475e8-3725-4b94-bb8c-59da1d700f10",
   "metadata": {},
   "outputs": [],
   "source": [
    "input = [\"geeksforgeeks\", \"geeks\",\n",
    "                     \"geek\", \"geezer\"]\n",
    "def long_prefix(l):\n",
    "    l.sort()\n",
    "    for i in range(len())\n",
    "long_prefix(input)"
   ]
  },
  {
   "cell_type": "markdown",
   "id": "0c4bd22c-bfb9-420f-bea0-6255b54b4062",
   "metadata": {},
   "source": [
    "#### 35.Write a program to check if a given number is a perfect square."
   ]
  },
  {
   "cell_type": "code",
   "execution_count": 3,
   "id": "7856e400-efe1-4d9a-9036-265aeb212be5",
   "metadata": {},
   "outputs": [
    {
     "data": {
      "text/plain": [
       "True"
      ]
     },
     "execution_count": 3,
     "metadata": {},
     "output_type": "execute_result"
    }
   ],
   "source": [
    "import math \n",
    "def isPerfectSquare(x):\n",
    "    if(x >= 0):\n",
    "        sr = int(math.sqrt(x))\n",
    "        return ((sr*sr) == x)\n",
    "    return false\n",
    "isPerfectSquare(4)"
   ]
  },
  {
   "cell_type": "markdown",
   "id": "9af76a5d-15e0-477a-9ccb-b714f651d67d",
   "metadata": {},
   "source": [
    "#### 36.Implement a function to calculate the product of all elements in a list."
   ]
  },
  {
   "cell_type": "code",
   "execution_count": 5,
   "id": "c00b3f3f-3133-464a-983d-ab926acab7ce",
   "metadata": {},
   "outputs": [
    {
     "name": "stdout",
     "output_type": "stream",
     "text": [
      "120\n"
     ]
    }
   ],
   "source": [
    "l=[1,2,3,4,5]\n",
    "p=1\n",
    "for i in l:\n",
    "    p*=i\n",
    "print(p)"
   ]
  },
  {
   "cell_type": "markdown",
   "id": "2686ac11-9d7c-401b-a8ba-21b806d35234",
   "metadata": {},
   "source": [
    "#### 37.Write a Python program to reverse the order of words in a sentence while preserving the word order."
   ]
  },
  {
   "cell_type": "code",
   "execution_count": 15,
   "id": "01a3a0b7-9ab8-4c40-9457-faa3acc47179",
   "metadata": {},
   "outputs": [
    {
     "name": "stdout",
     "output_type": "stream",
     "text": [
      "['ih', 'i', 'ma', 'ismav', 'anhsirk']\n"
     ]
    }
   ],
   "source": [
    "s=\"hi i am vamsi krishna\"\n",
    "def reverse_word(s):\n",
    "    v=[]\n",
    "    r=[]\n",
    "    v=s.split(\" \")\n",
    "    for i in v:\n",
    "        r.append(i[::-1])\n",
    "    \" \".join(r)    \n",
    "    print(r)\n",
    "reverse_word(s)"
   ]
  },
  {
   "cell_type": "markdown",
   "id": "34219d59-2ad9-4b21-b6f2-1a7606648ff3",
   "metadata": {},
   "source": [
    "#### 38.Implement a function to find the missing number in a given list of consecutive numbers."
   ]
  },
  {
   "cell_type": "code",
   "execution_count": 16,
   "id": "41e5cb32-a736-462a-9daa-d1cef5fcab72",
   "metadata": {},
   "outputs": [],
   "source": [
    "l=[1,2,4,5,6]\n"
   ]
  },
  {
   "cell_type": "markdown",
   "id": "4b646492-5201-4dcc-87e6-63feb2f783f4",
   "metadata": {},
   "source": [
    "#### 40.Implement a function to check if a given string is a valid palindrome considering case sensitivity."
   ]
  },
  {
   "cell_type": "code",
   "execution_count": 5,
   "id": "6d17eb0d-9cfc-4b6f-b1ee-968b22e82409",
   "metadata": {},
   "outputs": [
    {
     "name": "stdout",
     "output_type": "stream",
     "text": [
      "Is palindrome\n"
     ]
    }
   ],
   "source": [
    "st=\"Mom\"\n",
    "def check_palindrome(st):\n",
    "    r=st.lower()\n",
    "    \n",
    "    if r==r[::-1]:\n",
    "        print(\"Is palindrome\")\n",
    "    else:\n",
    "        print(\"Not a palindrome\")\n",
    "check_palindrome(st)"
   ]
  },
  {
   "cell_type": "markdown",
   "id": "771c87cc-6e24-4ab6-bcb8-da16277b3592",
   "metadata": {},
   "source": [
    "#### 41.Write a Python program to find the smallest missing positive integer in a list."
   ]
  },
  {
   "cell_type": "code",
   "execution_count": null,
   "id": "1bef7a1d-0340-42bc-b828-6e9acfb901c8",
   "metadata": {},
   "outputs": [],
   "source": [
    "l=[1,4,5,67]\n",
    "def smallest_missing(l):\n",
    "    l.sort()\n",
    "    i=1\n",
    "    while(i<l[len(l)-1]):\n",
    "        \n",
    "        \n",
    "        \n",
    "    "
   ]
  },
  {
   "cell_type": "markdown",
   "id": "d9b240dc-2325-4894-8f4d-b5635eddf7a4",
   "metadata": {},
   "source": [
    "#### 42. Implement a function to find the longest palindrome substring in a given string."
   ]
  },
  {
   "cell_type": "code",
   "execution_count": 29,
   "id": "0c5cc986-7b2e-46ee-a546-d2bc77389b89",
   "metadata": {},
   "outputs": [
    {
     "name": "stdout",
     "output_type": "stream",
     "text": [
      "Longest palindrome substring is: vamsiismav\n",
      "Length is: 10\n"
     ]
    }
   ],
   "source": [
    "def longestPalSubstr(s):\n",
    "\tn = len(s)\n",
    "\tlongest = \"\"\n",
    "\tj = 0\n",
    "\tsubs = \"\"\n",
    "\tsubsrev = \"\"\n",
    "\tfor i in range(n):\n",
    "\t\tj = n-1\n",
    "\t\twhile i < j:\n",
    "\t\t\tif(s[i] == s[j] and len(longest) < (j-i+1)):\n",
    "\t\t\t\tsubs = s[i:(j+1)]\n",
    "\t\t\t\tsubsrev = subs[::-1]\n",
    "\t\t\t\tif(subs == subsrev):\n",
    "\t\t\t\t\tlongest = subs\n",
    "\t\t\tj -= 1\n",
    "\tif(len(longest) == 0):\n",
    "\t\tlongest = s[0]\n",
    "\tprint(\"Longest palindrome substring is: \" + longest)\n",
    "\treturn len(longest)\n",
    "if __name__ == '__main__':\n",
    "\tstri = \"vamsiismavkrishna\"\n",
    "\tprint(\"Length is: \" + str(longestPalSubstr(stri)))"
   ]
  },
  {
   "cell_type": "markdown",
   "id": "aae2f598-4b0e-4891-ae43-b240487370e5",
   "metadata": {},
   "source": [
    "#### 43. Write a program to find the number of occurrences of a given element in a list."
   ]
  },
  {
   "cell_type": "code",
   "execution_count": 3,
   "id": "9b66198a-70b6-4621-a54c-56ecbe4e2445",
   "metadata": {},
   "outputs": [
    {
     "data": {
      "text/plain": [
       "4"
      ]
     },
     "execution_count": 3,
     "metadata": {},
     "output_type": "execute_result"
    }
   ],
   "source": [
    "l=[1,2,3,2,4,24,5,1,1,1]\n",
    "n=1\n",
    "def occur(l,n):\n",
    "    return(l.count(n))\n",
    "occur(l,n)\n",
    "    "
   ]
  },
  {
   "cell_type": "markdown",
   "id": "a945b19d-dc17-4699-86ed-2d4df5b2da8d",
   "metadata": {},
   "source": [
    "#### 44.Implement a function to check if a given number is a perfect number."
   ]
  },
  {
   "cell_type": "code",
   "execution_count": 27,
   "id": "8d96fd93-7eb4-40e6-9653-f880c01e2539",
   "metadata": {},
   "outputs": [
    {
     "name": "stdout",
     "output_type": "stream",
     "text": [
      "6\n",
      "Perfect number\n"
     ]
    }
   ],
   "source": [
    "def isPerfectNumber(N):\n",
    "        # code here \n",
    "        import math\n",
    "        n=int(math.sqrt(N))\n",
    "        su_m=1\n",
    "        for i in range(2,n+1):\n",
    "            if N%i==0:\n",
    "                s=N//i\n",
    "                su_m=su_m+i+s\n",
    "                print(su_m)\n",
    "        if N==su_m:\n",
    "            print(\"Perfect number\")\n",
    "        else:\n",
    "            print(\"Not a perfect number\")\n",
    "\n",
    "isPerfectNumber(6)"
   ]
  },
  {
   "cell_type": "markdown",
   "id": "9a70e921-a2d2-4500-b269-b180a5c4b627",
   "metadata": {},
   "source": [
    "#### 45.Write a Python program to remove all duplicates from a string."
   ]
  },
  {
   "cell_type": "code",
   "execution_count": 35,
   "id": "a0539a7d-b533-475e-bb7b-4ab60d5fea7f",
   "metadata": {},
   "outputs": [
    {
     "name": "stdout",
     "output_type": "stream",
     "text": [
      "letr\n"
     ]
    }
   ],
   "source": [
    "s=\"letter\"\n",
    "r=\"\"\n",
    "for i in s:\n",
    "    if i not in r:\n",
    "        r=r+i\n",
    "print(r)"
   ]
  },
  {
   "cell_type": "markdown",
   "id": "f9a7da09-9067-4f12-a107-4fdc01ccba23",
   "metadata": {},
   "source": [
    "#### 46.Implement a function to find the first missing positive"
   ]
  },
  {
   "cell_type": "code",
   "execution_count": 45,
   "id": "6e1e8e71-af91-4306-9cdb-79494e181214",
   "metadata": {},
   "outputs": [
    {
     "name": "stdout",
     "output_type": "stream",
     "text": [
      "5\n"
     ]
    }
   ],
   "source": [
    "def first_missing(l):\n",
    "    for i in range(1,max(l)):\n",
    "        if i not in l:\n",
    "            print(i)\n",
    "            break\n",
    "        \n",
    "l=[1,2,3,4,8]\n",
    "first_missing(l)"
   ]
  },
  {
   "cell_type": "code",
   "execution_count": 37,
   "id": "bfd9b8db-40cb-4c95-bf95-fff9f0709a7e",
   "metadata": {},
   "outputs": [
    {
     "data": {
      "text/plain": [
       "1"
      ]
     },
     "execution_count": 37,
     "metadata": {},
     "output_type": "execute_result"
    }
   ],
   "source": []
  },
  {
   "cell_type": "code",
   "execution_count": 53,
   "id": "5a116965-cf11-4ce1-98c4-66674cc76a69",
   "metadata": {},
   "outputs": [
    {
     "name": "stdout",
     "output_type": "stream",
     "text": [
      "Array after merging\n",
      "1 2 3 4 5 6 7 8 "
     ]
    }
   ],
   "source": []
  },
  {
   "cell_type": "code",
   "execution_count": null,
   "id": "665ed589-d5f1-4e07-aa83-6d1fbc8404e2",
   "metadata": {},
   "outputs": [],
   "source": []
  }
 ],
 "metadata": {
  "kernelspec": {
   "display_name": "Python 3 (ipykernel)",
   "language": "python",
   "name": "python3"
  },
  "language_info": {
   "codemirror_mode": {
    "name": "ipython",
    "version": 3
   },
   "file_extension": ".py",
   "mimetype": "text/x-python",
   "name": "python",
   "nbconvert_exporter": "python",
   "pygments_lexer": "ipython3",
   "version": "3.10.6"
  }
 },
 "nbformat": 4,
 "nbformat_minor": 5
}
