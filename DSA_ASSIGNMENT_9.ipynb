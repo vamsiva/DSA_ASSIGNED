{
 "cells": [
  {
   "cell_type": "markdown",
   "id": "0ec61670",
   "metadata": {},
   "source": [
    "###  **Question 1**\n",
    "\n",
    "Given an integer `n`, return *`true` if it is a power of two. Otherwise, return `false`*.\n",
    "\n",
    "An integer `n` is a power of two, if there exists an integer `x` such that `n == 2x`."
   ]
  },
  {
   "cell_type": "code",
   "execution_count": 1,
   "id": "7c3a3f13",
   "metadata": {},
   "outputs": [],
   "source": [
    "def two_power_check(n):\n",
    "    if n == 1:\n",
    "        return True\n",
    "    elif n % 2 != 0 or n == 0:\n",
    "        return False\n",
    "    else:\n",
    "        return two_power_check(n // 2)"
   ]
  },
  {
   "cell_type": "code",
   "execution_count": 2,
   "id": "53fffde1",
   "metadata": {},
   "outputs": [
    {
     "data": {
      "text/plain": [
       "True"
      ]
     },
     "execution_count": 2,
     "metadata": {},
     "output_type": "execute_result"
    }
   ],
   "source": [
    "two_power_check(16)"
   ]
  },
  {
   "cell_type": "markdown",
   "id": "8fe28cf1",
   "metadata": {},
   "source": [
    "### **Question 2**\n",
    "\n",
    "Given a number n, find the sum of the first natural numbers.\n"
   ]
  },
  {
   "cell_type": "code",
   "execution_count": 3,
   "id": "ebca093d",
   "metadata": {},
   "outputs": [],
   "source": [
    "def natural_no_sum(n):\n",
    "    if n == 1:\n",
    "        return 1\n",
    "    else:\n",
    "        return n + natural_no_sum(n - 1)"
   ]
  },
  {
   "cell_type": "code",
   "execution_count": 4,
   "id": "ad69df1a",
   "metadata": {},
   "outputs": [
    {
     "data": {
      "text/plain": [
       "6"
      ]
     },
     "execution_count": 4,
     "metadata": {},
     "output_type": "execute_result"
    }
   ],
   "source": [
    "natural_no_sum(3)"
   ]
  },
  {
   "cell_type": "markdown",
   "id": "61019780",
   "metadata": {},
   "source": [
    "###  **Question 3**\n",
    "\n",
    "Given a positive integer, N. Find the factorial of N. \n"
   ]
  },
  {
   "cell_type": "code",
   "execution_count": 5,
   "id": "b592d1f0",
   "metadata": {},
   "outputs": [],
   "source": [
    "def fac(n):\n",
    "    \n",
    "    if n == 1:\n",
    "        return 1\n",
    "    else:\n",
    "        return n*fac(n-1)"
   ]
  },
  {
   "cell_type": "code",
   "execution_count": 6,
   "id": "35d91536",
   "metadata": {},
   "outputs": [
    {
     "data": {
      "text/plain": [
       "120"
      ]
     },
     "execution_count": 6,
     "metadata": {},
     "output_type": "execute_result"
    }
   ],
   "source": [
    "fac(5)"
   ]
  },
  {
   "cell_type": "markdown",
   "id": "f67e268e",
   "metadata": {},
   "source": [
    "###  **Question 4**\n",
    "\n",
    "Given a number N and a power P, the task is to find the exponent of this number raised to the given power, i.e. N^P.\n"
   ]
  },
  {
   "cell_type": "code",
   "execution_count": 7,
   "id": "91480f5c",
   "metadata": {},
   "outputs": [],
   "source": [
    "def exponent(n, p):\n",
    "    if p == 0:\n",
    "        return 1\n",
    "    else:\n",
    "        return n* exponent(n, p - 1)"
   ]
  },
  {
   "cell_type": "code",
   "execution_count": 8,
   "id": "6cadfca9",
   "metadata": {},
   "outputs": [
    {
     "data": {
      "text/plain": [
       "8"
      ]
     },
     "execution_count": 8,
     "metadata": {},
     "output_type": "execute_result"
    }
   ],
   "source": [
    "exponent(2, 3)"
   ]
  },
  {
   "cell_type": "markdown",
   "id": "c028c910",
   "metadata": {},
   "source": [
    "###  **Question 5**\n",
    "\n",
    "Given an array of integers **arr**, the task is to find maximum element of that array using recursion."
   ]
  },
  {
   "cell_type": "code",
   "execution_count": 9,
   "id": "92bafd00",
   "metadata": {},
   "outputs": [],
   "source": [
    "def find_max(arr):\n",
    "    if len(arr) == 1:\n",
    "        return arr[0]\n",
    "    else:\n",
    "        return max(arr[0], find_max(arr[1:]))"
   ]
  },
  {
   "cell_type": "code",
   "execution_count": 12,
   "id": "64ac31c8",
   "metadata": {},
   "outputs": [
    {
     "data": {
      "text/plain": [
       "8"
      ]
     },
     "execution_count": 12,
     "metadata": {},
     "output_type": "execute_result"
    }
   ],
   "source": [
    "find_max((1, 4, 3, -5, -4, 8, 6))"
   ]
  },
  {
   "cell_type": "markdown",
   "id": "b7890ddf",
   "metadata": {},
   "source": [
    "###  **Question 6**\n",
    "\n",
    "Given first term (a), common difference (d) and a integer N of the Arithmetic Progression series, the task is to find Nth term of the series."
   ]
  },
  {
   "cell_type": "code",
   "execution_count": 15,
   "id": "e3fdd923",
   "metadata": {},
   "outputs": [],
   "source": [
    "def ap(a, d, n):\n",
    "    if n == 1:\n",
    "        return a\n",
    "    else:\n",
    "        return ap(a + d, d, n - 1)"
   ]
  },
  {
   "cell_type": "code",
   "execution_count": 16,
   "id": "936e688c",
   "metadata": {},
   "outputs": [
    {
     "data": {
      "text/plain": [
       "6"
      ]
     },
     "execution_count": 16,
     "metadata": {},
     "output_type": "execute_result"
    }
   ],
   "source": [
    "ap(2, 1, 5)"
   ]
  },
  {
   "cell_type": "markdown",
   "id": "bb0785af",
   "metadata": {},
   "source": [
    "### 💡 **Question 7**\n",
    "\n",
    "Given a string S, the task is to write a program to print all permutations of a given string.\n"
   ]
  },
  {
   "cell_type": "code",
   "execution_count": 17,
   "id": "4ec0d4cf",
   "metadata": {},
   "outputs": [],
   "source": [
    "def print_permutations(s, l, r):\n",
    "    if l == r:\n",
    "        print(''.join(s))\n",
    "    else:\n",
    "        for i in range(l, r + 1):\n",
    "            s[l], s[i] = s[i], s[l]\n",
    "            print_permutations(s, l + 1, r)  \n",
    "            s[l], s[i] = s[i], s[l]"
   ]
  },
  {
   "cell_type": "code",
   "execution_count": 19,
   "id": "55c9f85b",
   "metadata": {},
   "outputs": [
    {
     "name": "stdout",
     "output_type": "stream",
     "text": [
      "ABC\n"
     ]
    }
   ],
   "source": [
    "print_permutations(\"ABC\",1, 1)"
   ]
  },
  {
   "cell_type": "markdown",
   "id": "3f286e8c",
   "metadata": {},
   "source": [
    "###  **Question 8**\n",
    "\n",
    "Given an array, find a product of all array elements.\n"
   ]
  },
  {
   "cell_type": "code",
   "execution_count": 20,
   "id": "65e7d68b",
   "metadata": {},
   "outputs": [],
   "source": [
    "def array_product(arr):\n",
    "    if len(arr) == 0:\n",
    "        return 1\n",
    "    else:\n",
    "        return arr[0] * array_product(arr[1:])"
   ]
  },
  {
   "cell_type": "code",
   "execution_count": 21,
   "id": "c72b2c5c",
   "metadata": {},
   "outputs": [
    {
     "data": {
      "text/plain": [
       "120"
      ]
     },
     "execution_count": 21,
     "metadata": {},
     "output_type": "execute_result"
    }
   ],
   "source": [
    "array_product([1, 2, 3, 4, 5])"
   ]
  }
 ],
 "metadata": {
  "kernelspec": {
   "display_name": "Python 3 (ipykernel)",
   "language": "python",
   "name": "python3"
  },
  "language_info": {
   "codemirror_mode": {
    "name": "ipython",
    "version": 3
   },
   "file_extension": ".py",
   "mimetype": "text/x-python",
   "name": "python",
   "nbconvert_exporter": "python",
   "pygments_lexer": "ipython3",
   "version": "3.9.16"
  }
 },
 "nbformat": 4,
 "nbformat_minor": 5
}
